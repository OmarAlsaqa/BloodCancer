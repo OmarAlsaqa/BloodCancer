{
 "cells": [
  {
   "cell_type": "markdown",
   "metadata": {},
   "source": [
    "## Exploratory Analysis\n",
    "To begin this exploratory analysis, first import libraries and define functions for plotting the data using `matplotlib`. Depending on the data, not all plots will be made. (Hey, I'm just a simple kerneling bot, not a Kaggle Competitions Grandmaster!)"
   ]
  },
  {
   "cell_type": "code",
   "execution_count": 1,
   "metadata": {
    "_kg_hide-input": false
   },
   "outputs": [],
   "source": [
    "from mpl_toolkits.mplot3d import Axes3D\n",
    "from sklearn.preprocessing import StandardScaler\n",
    "import matplotlib.pyplot as plt # plotting\n",
    "import numpy as np # linear algebra\n",
    "import os # accessing directory structure\n",
    "import pandas as pd # data processing, CSV file I/O (e.g. pd.read_csv)"
   ]
  },
  {
   "cell_type": "code",
   "execution_count": 2,
   "metadata": {},
   "outputs": [],
   "source": [
    "# Input data files are available in the \"../input/\" directory.\n",
    "# For example, running this (by clicking run or pressing Shift+Enter) will list the files in the input directory\n",
    "\n",
    "import os\n",
    "import sys\n",
    "from glob import glob\n",
    "from PIL import Image\n",
    "import matplotlib.pyplot as plt"
   ]
  },
  {
   "cell_type": "code",
   "execution_count": 3,
   "metadata": {
    "_kg_hide-input": false
   },
   "outputs": [],
   "source": [
    "x = []\n",
    "for dirname, _, filenames in os.walk('/kaggle/input'):\n",
    "    for filename in filenames:\n",
    "        y = os.path.join(dirname, filename)\n",
    "        x.append(y)\n"
   ]
  },
  {
   "cell_type": "code",
   "execution_count": 4,
   "metadata": {},
   "outputs": [
    {
     "data": {
      "text/plain": [
       "['/kaggle/input/fold_1/fold_1/hem/UID_H14_23_6_hem.bmp',\n",
       " '/kaggle/input/fold_1/fold_1/hem/UID_H14_19_11_hem.bmp',\n",
       " '/kaggle/input/fold_1/fold_1/hem/UID_H14_16_5_hem.bmp',\n",
       " '/kaggle/input/fold_1/fold_1/hem/UID_H10_91_5_hem.bmp',\n",
       " '/kaggle/input/fold_1/fold_1/hem/UID_H14_23_9_hem.bmp']"
      ]
     },
     "execution_count": 4,
     "metadata": {},
     "output_type": "execute_result"
    }
   ],
   "source": [
    "x[:5]"
   ]
  },
  {
   "cell_type": "code",
   "execution_count": 5,
   "metadata": {},
   "outputs": [
    {
     "name": "stderr",
     "output_type": "stream",
     "text": [
      "Using TensorFlow backend.\n"
     ]
    }
   ],
   "source": [
    "from __future__ import print_function\n",
    "from __future__ import absolute_import\n",
    "from __future__ import division\n",
    "\n",
    "import warnings\n",
    "\n",
    "from sklearn.model_selection import train_test_split\n",
    "from sklearn.preprocessing import label_binarize\n",
    "from sklearn.metrics import confusion_matrix, accuracy_score\n",
    "from sklearn.linear_model import LogisticRegression\n",
    "\n",
    "import itertools\n",
    "\n",
    "import keras\n",
    "from keras import utils\n",
    "from keras.utils.np_utils import to_categorical\n",
    "from keras.models import Sequential, Model\n",
    "from keras.layers.normalization import BatchNormalization\n",
    "from keras.layers import *\n",
    "from keras import backend as K\n",
    "from keras import optimizers\n",
    "from keras.preprocessing.image import ImageDataGenerator\n",
    "from keras.callbacks import ReduceLROnPlateau\n",
    "from keras import activations\n",
    "from keras.regularizers import l2\n",
    "from keras.engine.topology import get_source_inputs"
   ]
  },
  {
   "cell_type": "code",
   "execution_count": 6,
   "metadata": {},
   "outputs": [],
   "source": [
    "path = []\n",
    "p_id = []\n",
    "for i in x:\n",
    "    path.append(i)\n",
    "    p_id.append(i.split('/')[6][:-4])"
   ]
  },
  {
   "cell_type": "code",
   "execution_count": 7,
   "metadata": {},
   "outputs": [],
   "source": [
    "s_id = []\n",
    "img_is = []\n",
    "c = []\n",
    "lable = []\n",
    "for i in x:\n",
    "    v = i.split(\"_\")\n",
    "    s_id.append(v[3])\n",
    "    img_is.append(v[4])\n",
    "    c.append(v[5])\n",
    "    lable.append(v[6][:-4])"
   ]
  },
  {
   "cell_type": "code",
   "execution_count": 8,
   "metadata": {},
   "outputs": [],
   "source": [
    "data_tr = pd.DataFrame()\n",
    "data_tr[\"Patient_ID\"] = p_id\n",
    "data_tr[\"path\"] = path\n",
    "data_tr['image'] = data_tr['path'].map(lambda x: np.asarray(Image.open(x).resize((100, 100))))\n",
    "data_tr[\"subject_id\"] = s_id\n",
    "data_tr[\"image_id\"] = img_is\n",
    "data_tr[\"cell_no\"] = c\n",
    "data_tr[\"labels\"] = lable\n",
    "data_tr[\"labels\"] = data_tr[\"labels\"].apply(lambda x: 1 if x == 'all' else 0).astype(np.bool)"
   ]
  },
  {
   "cell_type": "code",
   "execution_count": 9,
   "metadata": {},
   "outputs": [],
   "source": [
    "S_id = []\n",
    "for i in s_id:\n",
    "    if i[0] == 'H':\n",
    "        S_id.append(i[1:])\n",
    "    else:\n",
    "        S_id.append(i)"
   ]
  },
  {
   "cell_type": "code",
   "execution_count": 10,
   "metadata": {},
   "outputs": [],
   "source": [
    "data_tr[\"subject_id\"] = S_id"
   ]
  },
  {
   "cell_type": "code",
   "execution_count": 11,
   "metadata": {},
   "outputs": [],
   "source": [
    "data_tr[\"subject_id\"] = data_tr[\"subject_id\"].apply(lambda x: x[1:] if x[0] == \"h\" else x)"
   ]
  },
  {
   "cell_type": "code",
   "execution_count": 12,
   "metadata": {},
   "outputs": [
    {
     "data": {
      "text/html": [
       "<div>\n",
       "<style scoped>\n",
       "    .dataframe tbody tr th:only-of-type {\n",
       "        vertical-align: middle;\n",
       "    }\n",
       "\n",
       "    .dataframe tbody tr th {\n",
       "        vertical-align: top;\n",
       "    }\n",
       "\n",
       "    .dataframe thead th {\n",
       "        text-align: right;\n",
       "    }\n",
       "</style>\n",
       "<table border=\"1\" class=\"dataframe\">\n",
       "  <thead>\n",
       "    <tr style=\"text-align: right;\">\n",
       "      <th></th>\n",
       "      <th>Patient_ID</th>\n",
       "      <th>path</th>\n",
       "      <th>image</th>\n",
       "      <th>subject_id</th>\n",
       "      <th>image_id</th>\n",
       "      <th>cell_no</th>\n",
       "      <th>labels</th>\n",
       "    </tr>\n",
       "  </thead>\n",
       "  <tbody>\n",
       "    <tr>\n",
       "      <th>5827</th>\n",
       "      <td>UID_25_5_10_all</td>\n",
       "      <td>/kaggle/input/fold_2/fold_2/all/UID_25_5_10_al...</td>\n",
       "      <td>[[[0, 0, 0], [0, 0, 0], [0, 0, 0], [0, 0, 0], ...</td>\n",
       "      <td>25</td>\n",
       "      <td>5</td>\n",
       "      <td>10</td>\n",
       "      <td>True</td>\n",
       "    </tr>\n",
       "    <tr>\n",
       "      <th>6841</th>\n",
       "      <td>UID_67_7_2_all</td>\n",
       "      <td>/kaggle/input/fold_2/fold_2/all/UID_67_7_2_all...</td>\n",
       "      <td>[[[0, 0, 0], [0, 0, 0], [0, 0, 0], [0, 0, 0], ...</td>\n",
       "      <td>67</td>\n",
       "      <td>7</td>\n",
       "      <td>2</td>\n",
       "      <td>True</td>\n",
       "    </tr>\n",
       "    <tr>\n",
       "      <th>2020</th>\n",
       "      <td>UID_51_137_1_all</td>\n",
       "      <td>/kaggle/input/fold_1/fold_1/all/UID_51_137_1_a...</td>\n",
       "      <td>[[[0, 0, 0], [0, 0, 0], [0, 0, 0], [0, 0, 0], ...</td>\n",
       "      <td>51</td>\n",
       "      <td>137</td>\n",
       "      <td>1</td>\n",
       "      <td>True</td>\n",
       "    </tr>\n",
       "    <tr>\n",
       "      <th>3640</th>\n",
       "      <td>UID_H9_21_2_hem</td>\n",
       "      <td>/kaggle/input/fold_2/fold_2/hem/UID_H9_21_2_he...</td>\n",
       "      <td>[[[0, 0, 0], [0, 0, 0], [0, 0, 0], [0, 0, 0], ...</td>\n",
       "      <td>9</td>\n",
       "      <td>21</td>\n",
       "      <td>2</td>\n",
       "      <td>False</td>\n",
       "    </tr>\n",
       "    <tr>\n",
       "      <th>6418</th>\n",
       "      <td>UID_67_23_1_all</td>\n",
       "      <td>/kaggle/input/fold_2/fold_2/all/UID_67_23_1_al...</td>\n",
       "      <td>[[[0, 0, 0], [0, 0, 0], [0, 0, 0], [0, 0, 0], ...</td>\n",
       "      <td>67</td>\n",
       "      <td>23</td>\n",
       "      <td>1</td>\n",
       "      <td>True</td>\n",
       "    </tr>\n",
       "  </tbody>\n",
       "</table>\n",
       "</div>"
      ],
      "text/plain": [
       "            Patient_ID                                               path  \\\n",
       "5827   UID_25_5_10_all  /kaggle/input/fold_2/fold_2/all/UID_25_5_10_al...   \n",
       "6841    UID_67_7_2_all  /kaggle/input/fold_2/fold_2/all/UID_67_7_2_all...   \n",
       "2020  UID_51_137_1_all  /kaggle/input/fold_1/fold_1/all/UID_51_137_1_a...   \n",
       "3640   UID_H9_21_2_hem  /kaggle/input/fold_2/fold_2/hem/UID_H9_21_2_he...   \n",
       "6418   UID_67_23_1_all  /kaggle/input/fold_2/fold_2/all/UID_67_23_1_al...   \n",
       "\n",
       "                                                  image subject_id image_id  \\\n",
       "5827  [[[0, 0, 0], [0, 0, 0], [0, 0, 0], [0, 0, 0], ...         25        5   \n",
       "6841  [[[0, 0, 0], [0, 0, 0], [0, 0, 0], [0, 0, 0], ...         67        7   \n",
       "2020  [[[0, 0, 0], [0, 0, 0], [0, 0, 0], [0, 0, 0], ...         51      137   \n",
       "3640  [[[0, 0, 0], [0, 0, 0], [0, 0, 0], [0, 0, 0], ...          9       21   \n",
       "6418  [[[0, 0, 0], [0, 0, 0], [0, 0, 0], [0, 0, 0], ...         67       23   \n",
       "\n",
       "     cell_no  labels  \n",
       "5827      10    True  \n",
       "6841       2    True  \n",
       "2020       1    True  \n",
       "3640       2   False  \n",
       "6418       1    True  "
      ]
     },
     "execution_count": 12,
     "metadata": {},
     "output_type": "execute_result"
    }
   ],
   "source": [
    "data_tr.sample(5)"
   ]
  },
  {
   "cell_type": "code",
   "execution_count": 13,
   "metadata": {},
   "outputs": [
    {
     "data": {
      "text/plain": [
       "(-0.5, 99.5, 99.5, -0.5)"
      ]
     },
     "execution_count": 13,
     "metadata": {},
     "output_type": "execute_result"
    },
    {
     "data": {
      "image/png": "[encoded data removed]",
      "text/plain": [
       "<Figure size 432x288 with 1 Axes>"
      ]
     },
     "metadata": {
      "needs_background": "light"
     },
     "output_type": "display_data"
    }
   ],
   "source": [
    "plt.imshow(data_tr[\"image\"][8])\n",
    "plt.axis(\"off\")"
   ]
  },
  {
   "cell_type": "code",
   "execution_count": 14,
   "metadata": {},
   "outputs": [
    {
     "data": {
      "text/plain": [
       "True     7272\n",
       "False    3389\n",
       "Name: labels, dtype: int64"
      ]
     },
     "execution_count": 14,
     "metadata": {},
     "output_type": "execute_result"
    },
    {
     "data": {
      "image/png": "[encoded data removed]",
      "text/plain": [
       "<Figure size 432x288 with 1 Axes>"
      ]
     },
     "metadata": {
      "needs_background": "light"
     },
     "output_type": "display_data"
    }
   ],
   "source": [
    "data_tr[\"labels\"].value_counts().plot(kind = \"bar\")\n",
    "data_tr[\"labels\"].value_counts()"
   ]
  },
  {
   "cell_type": "code",
   "execution_count": 15,
   "metadata": {},
   "outputs": [
    {
     "data": {
      "text/plain": [
       "Text(0.5, 1.0, 'Subject Id distribution')"
      ]
     },
     "execution_count": 15,
     "metadata": {},
     "output_type": "execute_result"
    },
    {
     "data": {
      "image/png": "[encoded data removed]",
      "text/plain": [
       "<Figure size 720x360 with 1 Axes>"
      ]
     },
     "metadata": {
      "needs_background": "light"
     },
     "output_type": "display_data"
    }
   ],
   "source": [
    "plt.rcParams['figure.figsize'] = [10, 5]\n",
    "data_tr['subject_id'].value_counts().plot(kind = 'bar')\n",
    "plt.title(\"Subject Id distribution\")"
   ]
  },
  {
   "cell_type": "code",
   "execution_count": 16,
   "metadata": {},
   "outputs": [
    {
     "name": "stdout",
     "output_type": "stream",
     "text": [
      "<class 'pandas.core.frame.DataFrame'>\n",
      "RangeIndex: 10661 entries, 0 to 10660\n",
      "Data columns (total 7 columns):\n",
      "Patient_ID    10661 non-null object\n",
      "path          10661 non-null object\n",
      "image         10661 non-null object\n",
      "subject_id    10661 non-null int32\n",
      "image_id      10661 non-null int32\n",
      "cell_no       10661 non-null int32\n",
      "labels        10661 non-null bool\n",
      "dtypes: bool(1), int32(3), object(3)\n",
      "memory usage: 385.3+ KB\n"
     ]
    }
   ],
   "source": [
    "data_tr[\"cell_no\"] = data_tr[\"cell_no\"].astype(np.int32)\n",
    "data_tr[\"subject_id\"] = data_tr[\"subject_id\"].astype(np.int32)\n",
    "data_tr[\"image_id\"] = data_tr[\"image_id\"].astype(np.int32)\n",
    "data_tr.info()"
   ]
  },
  {
   "cell_type": "code",
   "execution_count": 17,
   "metadata": {},
   "outputs": [],
   "source": [
    "X = data_tr.drop([\"labels\"], axis = 1)\n",
    "y = data_tr[\"labels\"]"
   ]
  },
  {
   "cell_type": "code",
   "execution_count": 18,
   "metadata": {},
   "outputs": [
    {
     "data": {
      "text/html": [
       "<div>\n",
       "<style scoped>\n",
       "    .dataframe tbody tr th:only-of-type {\n",
       "        vertical-align: middle;\n",
       "    }\n",
       "\n",
       "    .dataframe tbody tr th {\n",
       "        vertical-align: top;\n",
       "    }\n",
       "\n",
       "    .dataframe thead th {\n",
       "        text-align: right;\n",
       "    }\n",
       "</style>\n",
       "<table border=\"1\" class=\"dataframe\">\n",
       "  <thead>\n",
       "    <tr style=\"text-align: right;\">\n",
       "      <th></th>\n",
       "      <th>Patient_ID</th>\n",
       "      <th>path</th>\n",
       "      <th>image</th>\n",
       "      <th>subject_id</th>\n",
       "      <th>image_id</th>\n",
       "      <th>cell_no</th>\n",
       "    </tr>\n",
       "  </thead>\n",
       "  <tbody>\n",
       "    <tr>\n",
       "      <th>0</th>\n",
       "      <td>UID_H14_23_6_hem</td>\n",
       "      <td>/kaggle/input/fold_1/fold_1/hem/UID_H14_23_6_h...</td>\n",
       "      <td>[[[0, 0, 0], [0, 0, 0], [0, 0, 0], [0, 0, 0], ...</td>\n",
       "      <td>14</td>\n",
       "      <td>23</td>\n",
       "      <td>6</td>\n",
       "    </tr>\n",
       "  </tbody>\n",
       "</table>\n",
       "</div>"
      ],
      "text/plain": [
       "         Patient_ID                                               path  \\\n",
       "0  UID_H14_23_6_hem  /kaggle/input/fold_1/fold_1/hem/UID_H14_23_6_h...   \n",
       "\n",
       "                                               image  subject_id  image_id  \\\n",
       "0  [[[0, 0, 0], [0, 0, 0], [0, 0, 0], [0, 0, 0], ...          14        23   \n",
       "\n",
       "   cell_no  \n",
       "0        6  "
      ]
     },
     "execution_count": 18,
     "metadata": {},
     "output_type": "execute_result"
    }
   ],
   "source": [
    "X[:1]"
   ]
  },
  {
   "cell_type": "code",
   "execution_count": 19,
   "metadata": {},
   "outputs": [
    {
     "data": {
      "text/plain": [
       "False"
      ]
     },
     "execution_count": 19,
     "metadata": {},
     "output_type": "execute_result"
    }
   ],
   "source": [
    "y[0]"
   ]
  },
  {
   "cell_type": "code",
   "execution_count": 20,
   "metadata": {},
   "outputs": [
    {
     "name": "stdout",
     "output_type": "stream",
     "text": [
      "%age of label value 0 in training dataset 0.31812851782363977\n",
      "%age of label value 0 in test dataset 0.316924519456165\n"
     ]
    },
    {
     "data": {
      "image/png": "[encoded data removed]",
      "text/plain": [
       "<Figure size 720x360 with 1 Axes>"
      ]
     },
     "metadata": {
      "needs_background": "light"
     },
     "output_type": "display_data"
    }
   ],
   "source": [
    "x_train, x_test, y_train, y_test = train_test_split(X, y, test_size = 0.2, random_state=42)\n",
    "\n",
    "y_train.value_counts().plot(kind = \"bar\")\n",
    "\n",
    "print(\"%age of label value 0 in training dataset\", \n",
    "      y_train.value_counts()[0]/(y_train.value_counts()[0]+y_train.value_counts()[1]))\n",
    "print(\"%age of label value 0 in test dataset\", \n",
    "      y_test.value_counts()[0]/(y_test.value_counts()[0]+y_test.value_counts()[1]))"
   ]
  },
  {
   "cell_type": "code",
   "execution_count": 21,
   "metadata": {},
   "outputs": [
    {
     "data": {
      "text/plain": [
       "<matplotlib.axes._subplots.AxesSubplot at 0x7fc1fff809e8>"
      ]
     },
     "execution_count": 21,
     "metadata": {},
     "output_type": "execute_result"
    },
    {
     "data": {
      "image/png": "[encoded data removed]",
      "text/plain": [
       "<Figure size 720x360 with 1 Axes>"
      ]
     },
     "metadata": {
      "needs_background": "light"
     },
     "output_type": "display_data"
    }
   ],
   "source": [
    "y_test.value_counts().plot(kind = \"bar\")"
   ]
  },
  {
   "cell_type": "code",
   "execution_count": 22,
   "metadata": {},
   "outputs": [],
   "source": [
    "shit = x_train\n",
    "shit2 = x_test\n",
    "sh = y_train"
   ]
  },
  {
   "cell_type": "code",
   "execution_count": 23,
   "metadata": {},
   "outputs": [
    {
     "data": {
      "text/plain": [
       "9759      True\n",
       "10290     True\n",
       "6930      True\n",
       "3038      True\n",
       "4058     False\n",
       "Name: labels, dtype: bool"
      ]
     },
     "execution_count": 23,
     "metadata": {},
     "output_type": "execute_result"
    }
   ],
   "source": [
    "y_train[:5]"
   ]
  },
  {
   "cell_type": "code",
   "execution_count": 24,
   "metadata": {},
   "outputs": [],
   "source": [
    "x_train = np.asarray(x_train['image'].tolist())\n",
    "x_test = np.asarray(x_test['image'].tolist())"
   ]
  },
  {
   "cell_type": "code",
   "execution_count": 25,
   "metadata": {},
   "outputs": [],
   "source": [
    "x_train_mean = np.mean(x_train)\n",
    "x_test_mean = np.mean(x_test)\n",
    "\n",
    "x_train_std = np.std(x_train)\n",
    "x_test_std = np.std(x_test)\n",
    "\n",
    "x_train = (x_train - x_train_mean)/x_train_std\n",
    "x_test = (x_test - x_test_mean)/x_test_std"
   ]
  },
  {
   "cell_type": "code",
   "execution_count": 26,
   "metadata": {},
   "outputs": [
    {
     "data": {
      "text/plain": [
       "9759      True\n",
       "10290     True\n",
       "6930      True\n",
       "3038      True\n",
       "4058     False\n",
       "Name: labels, dtype: bool"
      ]
     },
     "execution_count": 26,
     "metadata": {},
     "output_type": "execute_result"
    }
   ],
   "source": [
    "y_train[:5]"
   ]
  },
  {
   "cell_type": "code",
   "execution_count": 27,
   "metadata": {},
   "outputs": [],
   "source": [
    "test = []\n",
    "for i in y_test:\n",
    "    if i == False:\n",
    "        test.append(0)\n",
    "    elif i == True:\n",
    "        test.append(1)"
   ]
  },
  {
   "cell_type": "code",
   "execution_count": 28,
   "metadata": {},
   "outputs": [],
   "source": [
    "tra = []\n",
    "for i in y_train:\n",
    "    if i == False:\n",
    "        tra.append(0)\n",
    "    elif i == True:\n",
    "        tra.append(1)"
   ]
  },
  {
   "cell_type": "code",
   "execution_count": 29,
   "metadata": {},
   "outputs": [
    {
     "data": {
      "text/plain": [
       "[1, 1, 0, 1, 0]"
      ]
     },
     "execution_count": 29,
     "metadata": {},
     "output_type": "execute_result"
    }
   ],
   "source": [
    "test[:5]"
   ]
  },
  {
   "cell_type": "code",
   "execution_count": 30,
   "metadata": {},
   "outputs": [
    {
     "data": {
      "text/plain": [
       "[1, 1, 1, 1, 0]"
      ]
     },
     "execution_count": 30,
     "metadata": {},
     "output_type": "execute_result"
    }
   ],
   "source": [
    "tra[:5]"
   ]
  },
  {
   "cell_type": "code",
   "execution_count": 31,
   "metadata": {},
   "outputs": [
    {
     "data": {
      "text/plain": [
       "6830     True\n",
       "8600     True\n",
       "4080    False\n",
       "3079     True\n",
       "582     False\n",
       "Name: labels, dtype: bool"
      ]
     },
     "execution_count": 31,
     "metadata": {},
     "output_type": "execute_result"
    }
   ],
   "source": [
    "y_test[:5]"
   ]
  },
  {
   "cell_type": "code",
   "execution_count": 32,
   "metadata": {},
   "outputs": [
    {
     "data": {
      "text/plain": [
       "(8528, 100, 100, 3)"
      ]
     },
     "execution_count": 32,
     "metadata": {},
     "output_type": "execute_result"
    }
   ],
   "source": [
    "x_train.shape"
   ]
  },
  {
   "cell_type": "code",
   "execution_count": 33,
   "metadata": {},
   "outputs": [],
   "source": [
    "x = np.reshape(x_train, (x_train.shape[0], -1))"
   ]
  },
  {
   "cell_type": "code",
   "execution_count": 34,
   "metadata": {},
   "outputs": [
    {
     "data": {
      "text/plain": [
       "(8528, 30000)"
      ]
     },
     "execution_count": 34,
     "metadata": {},
     "output_type": "execute_result"
    }
   ],
   "source": [
    "x.shape"
   ]
  },
  {
   "cell_type": "code",
   "execution_count": 35,
   "metadata": {},
   "outputs": [],
   "source": [
    "xt = np.reshape(x_test, (x_test.shape[0], -1))"
   ]
  },
  {
   "cell_type": "code",
   "execution_count": 36,
   "metadata": {},
   "outputs": [
    {
     "data": {
      "text/plain": [
       "(2133, 30000)"
      ]
     },
     "execution_count": 36,
     "metadata": {},
     "output_type": "execute_result"
    }
   ],
   "source": [
    "xt.shape"
   ]
  },
  {
   "cell_type": "code",
   "execution_count": 37,
   "metadata": {},
   "outputs": [
    {
     "data": {
      "text/plain": [
       "array([[-0.40293467, -0.40293467, -0.40293467, ..., -0.40293467,\n",
       "        -0.40293467, -0.40293467],\n",
       "       [-0.40293467, -0.40293467, -0.40293467, ..., -0.40293467,\n",
       "        -0.40293467, -0.40293467],\n",
       "       [-0.40293467, -0.40293467, -0.40293467, ..., -0.40293467,\n",
       "        -0.40293467, -0.40293467],\n",
       "       [-0.40293467, -0.40293467, -0.40293467, ..., -0.40293467,\n",
       "        -0.40293467, -0.40293467],\n",
       "       [-0.40293467, -0.40293467, -0.40293467, ..., -0.40293467,\n",
       "        -0.40293467, -0.40293467]])"
      ]
     },
     "execution_count": 37,
     "metadata": {},
     "output_type": "execute_result"
    }
   ],
   "source": [
    "x[:5]"
   ]
  },
  {
   "cell_type": "code",
   "execution_count": 38,
   "metadata": {},
   "outputs": [],
   "source": [
    "trai = np.reshape(tra, len(tra) , 1)"
   ]
  },
  {
   "cell_type": "code",
   "execution_count": 39,
   "metadata": {},
   "outputs": [],
   "source": [
    "tes = np.reshape(test, len(test) , 1)"
   ]
  },
  {
   "cell_type": "code",
   "execution_count": 40,
   "metadata": {},
   "outputs": [
    {
     "data": {
      "text/plain": [
       "array([1, 1, 1, 1, 0])"
      ]
     },
     "execution_count": 40,
     "metadata": {},
     "output_type": "execute_result"
    }
   ],
   "source": [
    "trai[:5]"
   ]
  },
  {
   "cell_type": "code",
   "execution_count": 41,
   "metadata": {},
   "outputs": [
    {
     "data": {
      "text/plain": [
       "array([1, 1, 0, 1, 0])"
      ]
     },
     "execution_count": 41,
     "metadata": {},
     "output_type": "execute_result"
    }
   ],
   "source": [
    "tes[:5]"
   ]
  },
  {
   "cell_type": "markdown",
   "metadata": {},
   "source": [
    "# **SVM**"
   ]
  },
  {
   "cell_type": "code",
   "execution_count": 42,
   "metadata": {},
   "outputs": [
    {
     "data": {
      "text/plain": [
       "((8528, 30000), 8528, (2133, 30000))"
      ]
     },
     "execution_count": 42,
     "metadata": {},
     "output_type": "execute_result"
    }
   ],
   "source": [
    "x.shape, len(tra), xt.shape"
   ]
  },
  {
   "cell_type": "code",
   "execution_count": 43,
   "metadata": {},
   "outputs": [
    {
     "name": "stdout",
     "output_type": "stream",
     "text": [
      "[LibSVM]"
     ]
    }
   ],
   "source": [
    "from sklearn import svm\n",
    "\n",
    "#Create a svm Classifier\n",
    "clf = svm.SVC(kernel='linear', verbose = 1) # Linear Kernel\n",
    "\n",
    "#Train the model using the training sets\n",
    "clf.fit(x, tra)\n",
    "\n",
    "#Predict the response for test dataset\n",
    "y_pred = clf.predict(xt)"
   ]
  },
  {
   "cell_type": "code",
   "execution_count": 44,
   "metadata": {},
   "outputs": [
    {
     "name": "stdout",
     "output_type": "stream",
     "text": [
      "Accuracy: 0.776840131270511\n"
     ]
    },
    {
     "data": {
      "text/plain": [
       "<function sklearn.metrics.classification.classification_report(y_true, y_pred, labels=None, target_names=None, sample_weight=None, digits=2, output_dict=False)>"
      ]
     },
     "execution_count": 44,
     "metadata": {},
     "output_type": "execute_result"
    }
   ],
   "source": [
    "#Import scikit-learn metrics module for accuracy calculation\n",
    "from sklearn import metrics\n",
    "\n",
    "# Model Accuracy: how often is the classifier correct?\n",
    "print(\"Accuracy:\",metrics.accuracy_score(tes, y_pred))\n",
    "metrics.classification_report"
   ]
  },
  {
   "cell_type": "code",
   "execution_count": 45,
   "metadata": {},
   "outputs": [
    {
     "name": "stdout",
     "output_type": "stream",
     "text": [
      "report:               precision    recall  f1-score   support\n",
      "\n",
      "           0       0.64      0.69      0.66       676\n",
      "           1       0.85      0.82      0.83      1457\n",
      "\n",
      "    accuracy                           0.78      2133\n",
      "   macro avg       0.74      0.75      0.75      2133\n",
      "weighted avg       0.78      0.78      0.78      2133\n",
      "\n"
     ]
    }
   ],
   "source": [
    "print(\"report:\",metrics.classification_report(tes, y_pred))"
   ]
  },
  {
   "cell_type": "code",
   "execution_count": 46,
   "metadata": {},
   "outputs": [
    {
     "data": {
      "text/plain": [
       "<matplotlib.axes._subplots.AxesSubplot at 0x7fc1ffb66fd0>"
      ]
     },
     "execution_count": 46,
     "metadata": {},
     "output_type": "execute_result"
    },
    {
     "data": {
      "image/png": "[encoded data removed]",
      "text/plain": [
       "<Figure size 648x504 with 2 Axes>"
      ]
     },
     "metadata": {
      "needs_background": "light"
     },
     "output_type": "display_data"
    }
   ],
   "source": [
    "from sklearn.metrics import confusion_matrix\n",
    "matrix = confusion_matrix(tes, y_pred)\n",
    "import seaborn as sn\n",
    "import pandas as pd\n",
    "plt.figure(figsize = (9,7))\n",
    "sn.heatmap(matrix, annot=True, fmt=\"d\")"
   ]
  },
  {
   "cell_type": "markdown",
   "metadata": {},
   "source": [
    "# **Decision Tree Classifier**"
   ]
  },
  {
   "cell_type": "code",
   "execution_count": 47,
   "metadata": {},
   "outputs": [],
   "source": [
    "from sklearn.tree import DecisionTreeClassifier\n",
    "dtree = DecisionTreeClassifier()\n",
    "dtree.fit(x, tra)\n",
    "dtree_pred = dtree.predict(xt)"
   ]
  },
  {
   "cell_type": "code",
   "execution_count": 48,
   "metadata": {},
   "outputs": [
    {
     "name": "stdout",
     "output_type": "stream",
     "text": [
      "Accuracy: 0.7726207219878106\n"
     ]
    }
   ],
   "source": [
    "#Import scikit-learn metrics module for accuracy calculation\n",
    "from sklearn import metrics\n",
    "\n",
    "# Model Accuracy: how often is the classifier correct?\n",
    "print(\"Accuracy:\",metrics.accuracy_score(tes, dtree_pred))"
   ]
  },
  {
   "cell_type": "code",
   "execution_count": 49,
   "metadata": {},
   "outputs": [
    {
     "name": "stdout",
     "output_type": "stream",
     "text": [
      "report:               precision    recall  f1-score   support\n",
      "\n",
      "           0       0.64      0.66      0.65       676\n",
      "           1       0.84      0.82      0.83      1457\n",
      "\n",
      "    accuracy                           0.77      2133\n",
      "   macro avg       0.74      0.74      0.74      2133\n",
      "weighted avg       0.78      0.77      0.77      2133\n",
      "\n"
     ]
    }
   ],
   "source": [
    "print(\"report:\",metrics.classification_report(tes, dtree_pred))"
   ]
  },
  {
   "cell_type": "code",
   "execution_count": 50,
   "metadata": {},
   "outputs": [
    {
     "data": {
      "text/plain": [
       "<matplotlib.axes._subplots.AxesSubplot at 0x7fc1f55d1710>"
      ]
     },
     "execution_count": 50,
     "metadata": {},
     "output_type": "execute_result"
    },
    {
     "data": {
      "image/png": "[encoded data removed]",
      "text/plain": [
       "<Figure size 648x504 with 2 Axes>"
      ]
     },
     "metadata": {
      "needs_background": "light"
     },
     "output_type": "display_data"
    }
   ],
   "source": [
    "from sklearn.metrics import confusion_matrix\n",
    "matrix = confusion_matrix(tes, dtree_pred)\n",
    "import seaborn as sn\n",
    "import pandas as pd\n",
    "plt.figure(figsize = (9,7))\n",
    "sn.heatmap(matrix, annot=True, fmt=\"d\")"
   ]
  },
  {
   "cell_type": "markdown",
   "metadata": {},
   "source": [
    "# **Random Forest Classifier**"
   ]
  },
  {
   "cell_type": "code",
   "execution_count": 51,
   "metadata": {},
   "outputs": [],
   "source": [
    "from sklearn.ensemble import RandomForestClassifier\n",
    "rforest = RandomForestClassifier(criterion=\"gini\", max_depth=10, max_features=\"log2\", \n",
    "                                 max_leaf_nodes = 100, min_samples_leaf = 3, min_samples_split = 20, \n",
    "                                 n_estimators= 22000, random_state= 5)\n",
    "rforest.fit(x, tra)\n",
    "predictions = rforest.predict(xt)"
   ]
  },
  {
   "cell_type": "code",
   "execution_count": 52,
   "metadata": {},
   "outputs": [
    {
     "name": "stdout",
     "output_type": "stream",
     "text": [
      "Accuracy: 0.8209095171120487\n"
     ]
    }
   ],
   "source": [
    "#Import scikit-learn metrics module for accuracy calculation\n",
    "from sklearn import metrics\n",
    "\n",
    "# Model Accuracy: how often is the classifier correct?\n",
    "print(\"Accuracy:\",metrics.accuracy_score(tes, predictions))"
   ]
  },
  {
   "cell_type": "code",
   "execution_count": 53,
   "metadata": {},
   "outputs": [
    {
     "name": "stdout",
     "output_type": "stream",
     "text": [
      "report:               precision    recall  f1-score   support\n",
      "\n",
      "           0       0.78      0.61      0.68       676\n",
      "           1       0.83      0.92      0.88      1457\n",
      "\n",
      "    accuracy                           0.82      2133\n",
      "   macro avg       0.81      0.76      0.78      2133\n",
      "weighted avg       0.82      0.82      0.81      2133\n",
      "\n"
     ]
    }
   ],
   "source": [
    "print(\"report:\",metrics.classification_report(tes, predictions))"
   ]
  },
  {
   "cell_type": "code",
   "execution_count": 54,
   "metadata": {},
   "outputs": [
    {
     "data": {
      "text/plain": [
       "<matplotlib.axes._subplots.AxesSubplot at 0x7fc1f3d19198>"
      ]
     },
     "execution_count": 54,
     "metadata": {},
     "output_type": "execute_result"
    },
    {
     "data": {
      "image/png": "[encoded data removed]",
      "text/plain": [
       "<Figure size 648x504 with 2 Axes>"
      ]
     },
     "metadata": {
      "needs_background": "light"
     },
     "output_type": "display_data"
    }
   ],
   "source": [
    "from sklearn.metrics import confusion_matrix\n",
    "matrix = confusion_matrix(tes, predictions)\n",
    "import seaborn as sn\n",
    "import pandas as pd\n",
    "plt.figure(figsize = (9,7))\n",
    "sn.heatmap(matrix, annot=True, fmt=\"d\")"
   ]
  },
  {
   "cell_type": "markdown",
   "metadata": {},
   "source": [
    "# **MLPClassifier**"
   ]
  },
  {
   "cell_type": "code",
   "execution_count": 55,
   "metadata": {},
   "outputs": [
    {
     "name": "stdout",
     "output_type": "stream",
     "text": [
      "Iteration 1, loss = 0.74344402\n",
      "Iteration 2, loss = 0.73331953\n",
      "Iteration 3, loss = 0.72403843\n",
      "Iteration 4, loss = 0.71535221\n",
      "Iteration 5, loss = 0.70728619\n",
      "Iteration 6, loss = 0.69985197\n",
      "Iteration 7, loss = 0.69288079\n",
      "Iteration 8, loss = 0.68649831\n",
      "Iteration 9, loss = 0.68055528\n",
      "Iteration 10, loss = 0.67513126\n",
      "Iteration 11, loss = 0.67009010\n",
      "Iteration 12, loss = 0.66549935\n",
      "Iteration 13, loss = 0.66130325\n",
      "Iteration 14, loss = 0.65746135\n",
      "Iteration 15, loss = 0.65393139\n",
      "Iteration 16, loss = 0.65076392\n",
      "Iteration 17, loss = 0.64788941\n",
      "Iteration 18, loss = 0.64528244\n",
      "Iteration 19, loss = 0.64292579\n",
      "Iteration 20, loss = 0.64083568\n",
      "Iteration 21, loss = 0.63891853\n",
      "Iteration 22, loss = 0.63722777\n",
      "Iteration 23, loss = 0.63571552\n",
      "Iteration 24, loss = 0.63435643\n",
      "Iteration 25, loss = 0.63317508\n",
      "Iteration 26, loss = 0.63210456\n",
      "Iteration 27, loss = 0.63118078\n",
      "Iteration 28, loss = 0.63037863\n",
      "Iteration 29, loss = 0.62965781\n",
      "Iteration 30, loss = 0.62904541\n",
      "Iteration 31, loss = 0.62849907\n",
      "Iteration 32, loss = 0.62803770\n",
      "Iteration 33, loss = 0.62762606\n",
      "Iteration 34, loss = 0.62727868\n",
      "Iteration 35, loss = 0.62698010\n",
      "Iteration 36, loss = 0.62672552\n",
      "Iteration 37, loss = 0.62650503\n",
      "Iteration 38, loss = 0.62632172\n",
      "Iteration 39, loss = 0.62616618\n",
      "Iteration 40, loss = 0.62603620\n",
      "Iteration 41, loss = 0.62593049\n",
      "Iteration 42, loss = 0.62583594\n",
      "Iteration 43, loss = 0.62576216\n",
      "Iteration 44, loss = 0.62570129\n",
      "Iteration 45, loss = 0.62565001\n",
      "Iteration 46, loss = 0.62561531\n",
      "Iteration 47, loss = 0.62557559\n",
      "Iteration 48, loss = 0.62555109\n",
      "Iteration 49, loss = 0.62552838\n",
      "Iteration 50, loss = 0.62551522\n",
      "Iteration 51, loss = 0.62550040\n",
      "Iteration 52, loss = 0.62549099\n",
      "Training loss did not improve more than tol=0.000100 for 10 consecutive epochs. Stopping.\n"
     ]
    }
   ],
   "source": [
    "from sklearn.neural_network import MLPClassifier\n",
    "mlp = MLPClassifier(solver='adam', alpha=1e-5, hidden_layer_sizes=(16, 8, 4, 4), verbose = 1)\n",
    "history = mlp.fit(x, tra)\n",
    "mlp_pred = mlp.predict(xt)"
   ]
  },
  {
   "cell_type": "code",
   "execution_count": 56,
   "metadata": {},
   "outputs": [
    {
     "name": "stdout",
     "output_type": "stream",
     "text": [
      "Accuracy: 0.6830754805438349\n"
     ]
    }
   ],
   "source": [
    "#Import scikit-learn metrics module for accuracy calculation\n",
    "from sklearn import metrics\n",
    "\n",
    "# Model Accuracy: how often is the classifier correct?\n",
    "print(\"Accuracy:\",metrics.accuracy_score(tes, mlp_pred))"
   ]
  },
  {
   "cell_type": "code",
   "execution_count": 57,
   "metadata": {},
   "outputs": [
    {
     "name": "stdout",
     "output_type": "stream",
     "text": [
      "report:               precision    recall  f1-score   support\n",
      "\n",
      "           0       0.00      0.00      0.00       676\n",
      "           1       0.68      1.00      0.81      1457\n",
      "\n",
      "    accuracy                           0.68      2133\n",
      "   macro avg       0.34      0.50      0.41      2133\n",
      "weighted avg       0.47      0.68      0.55      2133\n",
      "\n"
     ]
    },
    {
     "name": "stderr",
     "output_type": "stream",
     "text": [
      "/opt/conda/lib/python3.6/site-packages/sklearn/metrics/classification.py:1437: UndefinedMetricWarning: Precision and F-score are ill-defined and being set to 0.0 in labels with no predicted samples.\n",
      "  'precision', 'predicted', average, warn_for)\n"
     ]
    }
   ],
   "source": [
    "print(\"report:\",metrics.classification_report(tes, mlp_pred))"
   ]
  },
  {
   "cell_type": "code",
   "execution_count": 58,
   "metadata": {},
   "outputs": [
    {
     "data": {
      "text/plain": [
       "<matplotlib.axes._subplots.AxesSubplot at 0x7fc1f437d4a8>"
      ]
     },
     "execution_count": 58,
     "metadata": {},
     "output_type": "execute_result"
    },
    {
     "data": {
      "image/png": "[encoded data removed]",
      "text/plain": [
       "<Figure size 648x504 with 2 Axes>"
      ]
     },
     "metadata": {
      "needs_background": "light"
     },
     "output_type": "display_data"
    }
   ],
   "source": [
    "from sklearn.metrics import confusion_matrix\n",
    "matrix = confusion_matrix(tes, mlp_pred)\n",
    "import seaborn as sn\n",
    "import pandas as pd\n",
    "plt.figure(figsize = (9,7))\n",
    "sn.heatmap(matrix, annot=True, fmt=\"d\")"
   ]
  },
  {
   "cell_type": "markdown",
   "metadata": {},
   "source": [
    "# **MLP2**"
   ]
  },
  {
   "cell_type": "code",
   "execution_count": 59,
   "metadata": {},
   "outputs": [
    {
     "name": "stdout",
     "output_type": "stream",
     "text": [
      "Iteration 1, loss = 0.98191335\n",
      "Iteration 2, loss = 0.93996164\n",
      "Iteration 3, loss = 0.92414210\n",
      "Iteration 4, loss = 0.90879966\n",
      "Iteration 5, loss = 0.89394020\n",
      "Iteration 6, loss = 0.87966553\n",
      "Iteration 7, loss = 0.86583917\n",
      "Iteration 8, loss = 0.85260869\n",
      "Iteration 9, loss = 0.83984619\n",
      "Iteration 10, loss = 0.82762598\n",
      "Iteration 11, loss = 0.81588293\n",
      "Iteration 12, loss = 0.80469019\n",
      "Iteration 13, loss = 0.79392774\n",
      "Iteration 14, loss = 0.78371532\n",
      "Iteration 15, loss = 0.77390774\n",
      "Iteration 16, loss = 0.76461692\n",
      "Iteration 17, loss = 0.75575304\n",
      "Iteration 18, loss = 0.74732808\n",
      "Iteration 19, loss = 0.73929622\n",
      "Iteration 20, loss = 0.73172692\n",
      "Iteration 21, loss = 0.72452404\n",
      "Iteration 22, loss = 0.71769377\n",
      "Iteration 23, loss = 0.71123643\n",
      "Iteration 24, loss = 0.70516207\n",
      "Iteration 25, loss = 0.69941417\n",
      "Iteration 26, loss = 0.69401446\n",
      "Iteration 27, loss = 0.68889448\n",
      "Iteration 28, loss = 0.68413774\n",
      "Iteration 29, loss = 0.67960572\n",
      "Iteration 30, loss = 0.67541185\n",
      "Iteration 31, loss = 0.67144340\n",
      "Iteration 32, loss = 0.66776267\n",
      "Iteration 33, loss = 0.66431170\n",
      "Iteration 34, loss = 0.66109577\n",
      "Iteration 35, loss = 0.65809552\n",
      "Iteration 36, loss = 0.65529722\n",
      "Iteration 37, loss = 0.65269311\n",
      "Iteration 38, loss = 0.65032632\n",
      "Iteration 39, loss = 0.64805992\n",
      "Iteration 40, loss = 0.64600945\n",
      "Iteration 41, loss = 0.64409878\n",
      "Iteration 42, loss = 0.64233701\n",
      "Iteration 43, loss = 0.64070520\n",
      "Iteration 44, loss = 0.63923666\n",
      "Iteration 45, loss = 0.63786281\n",
      "Iteration 46, loss = 0.63663377\n",
      "Iteration 47, loss = 0.63546748\n",
      "Iteration 48, loss = 0.63443693\n",
      "Iteration 49, loss = 0.63347410\n",
      "Iteration 50, loss = 0.63260321\n",
      "Iteration 51, loss = 0.63182925\n",
      "Iteration 52, loss = 0.63111251\n",
      "Iteration 53, loss = 0.63046803\n",
      "Iteration 54, loss = 0.62988763\n",
      "Iteration 55, loss = 0.62936810\n",
      "Iteration 56, loss = 0.62888450\n",
      "Iteration 57, loss = 0.62847730\n",
      "Iteration 58, loss = 0.62810189\n",
      "Iteration 59, loss = 0.62776217\n",
      "Iteration 60, loss = 0.62746091\n",
      "Iteration 61, loss = 0.62719561\n",
      "Iteration 62, loss = 0.62696428\n",
      "Iteration 63, loss = 0.62675771\n",
      "Iteration 64, loss = 0.62658363\n",
      "Iteration 65, loss = 0.62641654\n",
      "Iteration 66, loss = 0.62627906\n",
      "Iteration 67, loss = 0.62615739\n",
      "Iteration 68, loss = 0.62604868\n",
      "Iteration 69, loss = 0.62596055\n",
      "Iteration 70, loss = 0.62587951\n",
      "Iteration 71, loss = 0.62581571\n",
      "Iteration 72, loss = 0.62575661\n",
      "Iteration 73, loss = 0.62570834\n",
      "Iteration 74, loss = 0.62566442\n",
      "Iteration 75, loss = 0.62562837\n",
      "Iteration 76, loss = 0.62559701\n",
      "Iteration 77, loss = 0.62557219\n",
      "Iteration 78, loss = 0.62555127\n",
      "Iteration 79, loss = 0.62553469\n",
      "Training loss did not improve more than tol=0.000100 for 10 consecutive epochs. Stopping.\n"
     ]
    }
   ],
   "source": [
    "from sklearn.neural_network import MLPClassifier\n",
    "mlp = MLPClassifier(solver='adam', alpha=1e-5, hidden_layer_sizes=(5, 2), verbose = 1)\n",
    "history = mlp.fit(x, tra)\n",
    "mlp2_pred = mlp.predict(xt)"
   ]
  },
  {
   "cell_type": "code",
   "execution_count": 60,
   "metadata": {},
   "outputs": [
    {
     "name": "stdout",
     "output_type": "stream",
     "text": [
      "Accuracy: 0.6830754805438349\n"
     ]
    }
   ],
   "source": [
    "#Import scikit-learn metrics module for accuracy calculation\n",
    "from sklearn import metrics\n",
    "\n",
    "# Model Accuracy: how often is the classifier correct?\n",
    "print(\"Accuracy:\",metrics.accuracy_score(tes, mlp2_pred))"
   ]
  },
  {
   "cell_type": "code",
   "execution_count": 61,
   "metadata": {},
   "outputs": [
    {
     "name": "stdout",
     "output_type": "stream",
     "text": [
      "report:               precision    recall  f1-score   support\n",
      "\n",
      "           0       0.00      0.00      0.00       676\n",
      "           1       0.68      1.00      0.81      1457\n",
      "\n",
      "    accuracy                           0.68      2133\n",
      "   macro avg       0.34      0.50      0.41      2133\n",
      "weighted avg       0.47      0.68      0.55      2133\n",
      "\n"
     ]
    },
    {
     "name": "stderr",
     "output_type": "stream",
     "text": [
      "/opt/conda/lib/python3.6/site-packages/sklearn/metrics/classification.py:1437: UndefinedMetricWarning: Precision and F-score are ill-defined and being set to 0.0 in labels with no predicted samples.\n",
      "  'precision', 'predicted', average, warn_for)\n"
     ]
    }
   ],
   "source": [
    "print(\"report:\",metrics.classification_report(tes, mlp2_pred))"
   ]
  },
  {
   "cell_type": "code",
   "execution_count": 62,
   "metadata": {},
   "outputs": [
    {
     "data": {
      "text/plain": [
       "<matplotlib.axes._subplots.AxesSubplot at 0x7fc1f40493c8>"
      ]
     },
     "execution_count": 62,
     "metadata": {},
     "output_type": "execute_result"
    },
    {
     "data": {
      "image/png": "[encoded data removed]",
      "text/plain": [
       "<Figure size 648x504 with 2 Axes>"
      ]
     },
     "metadata": {
      "needs_background": "light"
     },
     "output_type": "display_data"
    }
   ],
   "source": [
    "from sklearn.metrics import confusion_matrix\n",
    "matrix = confusion_matrix(tes, mlp2_pred)\n",
    "import seaborn as sn\n",
    "import pandas as pd\n",
    "plt.figure(figsize = (9,7))\n",
    "sn.heatmap(matrix, annot=True, fmt=\"d\")"
   ]
  },
  {
   "cell_type": "markdown",
   "metadata": {},
   "source": [
    "\n",
    "\n",
    "# **KNN**"
   ]
  },
  {
   "cell_type": "code",
   "execution_count": 63,
   "metadata": {},
   "outputs": [],
   "source": [
    "from sklearn.neighbors import KNeighborsClassifier\n",
    "\n",
    "#Create a KNN Classifier\n",
    "nbr = KNeighborsClassifier(n_neighbors=3)\n",
    "\n",
    "#Train the model using the training sets\n",
    "nbr.fit(x, tra)\n",
    "\n",
    "#Predict the response for test dataset\n",
    "nbr_pred = nbr.predict(xt)"
   ]
  },
  {
   "cell_type": "code",
   "execution_count": 64,
   "metadata": {},
   "outputs": [
    {
     "name": "stdout",
     "output_type": "stream",
     "text": [
      "Accuracy: 0.7862165963431786\n"
     ]
    },
    {
     "data": {
      "text/plain": [
       "<function sklearn.metrics.classification.classification_report(y_true, y_pred, labels=None, target_names=None, sample_weight=None, digits=2, output_dict=False)>"
      ]
     },
     "execution_count": 64,
     "metadata": {},
     "output_type": "execute_result"
    }
   ],
   "source": [
    "#Import scikit-learn metrics module for accuracy calculation\n",
    "from sklearn import metrics\n",
    "\n",
    "# Model Accuracy: how often is the classifier correct?\n",
    "print(\"Accuracy:\",metrics.accuracy_score(tes, nbr_pred))\n",
    "metrics.classification_report"
   ]
  },
  {
   "cell_type": "code",
   "execution_count": 65,
   "metadata": {},
   "outputs": [
    {
     "name": "stdout",
     "output_type": "stream",
     "text": [
      "report:               precision    recall  f1-score   support\n",
      "\n",
      "           0       0.67      0.65      0.66       676\n",
      "           1       0.84      0.85      0.84      1457\n",
      "\n",
      "    accuracy                           0.79      2133\n",
      "   macro avg       0.75      0.75      0.75      2133\n",
      "weighted avg       0.78      0.79      0.79      2133\n",
      "\n"
     ]
    }
   ],
   "source": [
    "print(\"report:\",metrics.classification_report(tes, nbr_pred))"
   ]
  },
  {
   "cell_type": "code",
   "execution_count": 66,
   "metadata": {},
   "outputs": [
    {
     "data": {
      "text/plain": [
       "<matplotlib.axes._subplots.AxesSubplot at 0x7fc1f3d34ef0>"
      ]
     },
     "execution_count": 66,
     "metadata": {},
     "output_type": "execute_result"
    },
    {
     "data": {
      "image/png": "[encoded data removed]",
      "text/plain": [
       "<Figure size 648x504 with 2 Axes>"
      ]
     },
     "metadata": {
      "needs_background": "light"
     },
     "output_type": "display_data"
    }
   ],
   "source": [
    "from sklearn.metrics import confusion_matrix\n",
    "matrix = confusion_matrix(tes, nbr_pred)\n",
    "import seaborn as sn\n",
    "import pandas as pd\n",
    "plt.figure(figsize = (9,7))\n",
    "sn.heatmap(matrix, annot=True, fmt=\"d\")"
   ]
  },
  {
   "cell_type": "code",
   "execution_count": null,
   "metadata": {},
   "outputs": [],
   "source": []
  },
  {
   "cell_type": "code",
   "execution_count": null,
   "metadata": {},
   "outputs": [],
   "source": []
  },
  {
   "cell_type": "code",
   "execution_count": null,
   "metadata": {},
   "outputs": [],
   "source": []
  },
  {
   "cell_type": "code",
   "execution_count": null,
   "metadata": {},
   "outputs": [],
   "source": []
  },
  {
   "cell_type": "markdown",
   "metadata": {},
   "source": [
    "# **END**"
   ]
  },
  {
   "cell_type": "code",
   "execution_count": 67,
   "metadata": {
    "_kg_hide-input": true
   },
   "outputs": [],
   "source": [
    "# Distribution graphs (histogram/bar graph) of column data\n",
    "def plotPerColumnDistribution(df, nGraphShown, nGraphPerRow):\n",
    "    nunique = df.nunique()\n",
    "    df = df[[col for col in df if nunique[col] > 1 and nunique[col] < 50]] # For displaying purposes, pick columns that have between 1 and 50 unique values\n",
    "    nRow, nCol = df.shape\n",
    "    columnNames = list(df)\n",
    "    nGraphRow = (nCol + nGraphPerRow - 1) / nGraphPerRow\n",
    "    plt.figure(num = None, figsize = (6 * nGraphPerRow, 8 * nGraphRow), dpi = 80, facecolor = 'w', edgecolor = 'k')\n",
    "    for i in range(min(nCol, nGraphShown)):\n",
    "        plt.subplot(nGraphRow, nGraphPerRow, i + 1)\n",
    "        columnDf = df.iloc[:, i]\n",
    "        if (not np.issubdtype(type(columnDf.iloc[0]), np.number)):\n",
    "            valueCounts = columnDf.value_counts()\n",
    "            valueCounts.plot.bar()\n",
    "        else:\n",
    "            columnDf.hist()\n",
    "        plt.ylabel('counts')\n",
    "        plt.xticks(rotation = 90)\n",
    "        plt.title(f'{columnNames[i]} (column {i})')\n",
    "    plt.tight_layout(pad = 1.0, w_pad = 1.0, h_pad = 1.0)\n",
    "    plt.show()"
   ]
  },
  {
   "cell_type": "code",
   "execution_count": 68,
   "metadata": {
    "_kg_hide-input": true
   },
   "outputs": [],
   "source": [
    "# Correlation matrix\n",
    "def plotCorrelationMatrix(df, graphWidth):\n",
    "    filename = df.dataframeName\n",
    "    df = df.dropna('columns') # drop columns with NaN\n",
    "    df = df[[col for col in df if df[col].nunique() > 1]] # keep columns where there are more than 1 unique values\n",
    "    if df.shape[1] < 2:\n",
    "        print(f'No correlation plots shown: The number of non-NaN or constant columns ({df.shape[1]}) is less than 2')\n",
    "        return\n",
    "    corr = df.corr()\n",
    "    plt.figure(num=None, figsize=(graphWidth, graphWidth), dpi=80, facecolor='w', edgecolor='k')\n",
    "    corrMat = plt.matshow(corr, fignum = 1)\n",
    "    plt.xticks(range(len(corr.columns)), corr.columns, rotation=90)\n",
    "    plt.yticks(range(len(corr.columns)), corr.columns)\n",
    "    plt.gca().xaxis.tick_bottom()\n",
    "    plt.colorbar(corrMat)\n",
    "    plt.title(f'Correlation Matrix for {filename}', fontsize=15)\n",
    "    plt.show()\n"
   ]
  },
  {
   "cell_type": "code",
   "execution_count": 69,
   "metadata": {
    "_kg_hide-input": true
   },
   "outputs": [],
   "source": [
    "# Scatter and density plots\n",
    "def plotScatterMatrix(df, plotSize, textSize):\n",
    "    df = df.select_dtypes(include =[np.number]) # keep only numerical columns\n",
    "    # Remove rows and columns that would lead to df being singular\n",
    "    df = df.dropna('columns')\n",
    "    df = df[[col for col in df if df[col].nunique() > 1]] # keep columns where there are more than 1 unique values\n",
    "    columnNames = list(df)\n",
    "    if len(columnNames) > 10: # reduce the number of columns for matrix inversion of kernel density plots\n",
    "        columnNames = columnNames[:10]\n",
    "    df = df[columnNames]\n",
    "    ax = pd.plotting.scatter_matrix(df, alpha=0.75, figsize=[plotSize, plotSize], diagonal='kde')\n",
    "    corrs = df.corr().values\n",
    "    for i, j in zip(*plt.np.triu_indices_from(ax, k = 1)):\n",
    "        ax[i, j].annotate('Corr. coef = %.3f' % corrs[i, j], (0.8, 0.2), xycoords='axes fraction', ha='center', va='center', size=textSize)\n",
    "    plt.suptitle('Scatter and Density Plot')\n",
    "    plt.show()\n"
   ]
  }
 ],
 "metadata": {
  "kernelspec": {
   "display_name": "Python 3",
   "language": "python",
   "name": "python3"
  },
  "language_info": {
   "codemirror_mode": {
    "name": "ipython",
    "version": 3
   },
   "file_extension": ".py",
   "mimetype": "text/x-python",
   "name": "python",
   "nbconvert_exporter": "python",
   "pygments_lexer": "ipython3",
   "version": "3.6.6"
  }
 },
 "nbformat": 4,
 "nbformat_minor": 4
}

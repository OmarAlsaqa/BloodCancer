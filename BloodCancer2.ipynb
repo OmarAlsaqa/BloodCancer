{
  "nbformat": 4,
  "nbformat_minor": 0,
  "metadata": {
    "colab": {
      "name": "BloodCancer2.ipynb",
      "provenance": [],
      "collapsed_sections": [],
      "machine_shape": "hm",
      "mount_file_id": "1isJRaNDEVDU3yDSplCseV0a_YUpC4P2C",
      "authorship_tag": "ABX9TyNPZlpH6qRDLvXJuh7/cfTn",
      "include_colab_link": true
    },
    "kernelspec": {
      "name": "python3",
      "display_name": "Python 3"
    },
    "accelerator": "GPU"
  },
  "cells": [
    {
      "cell_type": "markdown",
      "metadata": {
        "id": "view-in-github",
        "colab_type": "text"
      },
      "source": [
        "<a href=\"https://colab.research.google.com/github/OmarAlsaqa/BloodCancer/blob/master/BloodCancer2.ipynb\" target=\"_parent\"><img src=\"https://colab.research.google.com/assets/colab-badge.svg\" alt=\"Open In Colab\"/></a>"
      ]
    },
    {
      "cell_type": "code",
      "metadata": {
        "id": "T7FB9Y339pWc",
        "colab_type": "code",
        "outputId": "07c0bca9-0c96-4a28-f9d2-87577a6ddbac",
        "colab": {
          "base_uri": "https://localhost:8080/",
          "height": 36
        }
      },
      "source": [
        "from __future__ import print_function\n",
        "from __future__ import absolute_import\n",
        "from __future__ import division\n",
        "\n",
        "%matplotlib inline\n",
        "\n",
        "import warnings\n",
        "\n",
        "from sklearn.model_selection import train_test_split\n",
        "from sklearn.preprocessing import label_binarize\n",
        "from sklearn.metrics import confusion_matrix, accuracy_score\n",
        "from sklearn.linear_model import LogisticRegression\n",
        "\n",
        "import itertools\n",
        "\n",
        "import keras\n",
        "from keras import utils\n",
        "from keras.utils.np_utils import to_categorical\n",
        "from keras.models import Sequential, Model\n",
        "from keras.layers.normalization import BatchNormalization\n",
        "from keras.layers import *\n",
        "from keras import backend as K\n",
        "from keras import optimizers\n",
        "from keras.preprocessing.image import ImageDataGenerator\n",
        "from keras.callbacks import ReduceLROnPlateau\n",
        "from keras import activations\n",
        "from keras.regularizers import l2\n",
        "from keras.engine.topology import get_source_inputs\n",
        "\n",
        "\n",
        "\n",
        "import pandas as pd\n",
        "import numpy as np \n",
        "import matplotlib.pyplot as plt\n",
        "import os\n",
        "from urllib.request import urlopen,urlretrieve\n",
        "from PIL import Image\n",
        "from tqdm import tqdm_notebook\n",
        "from sklearn.utils import shuffle\n",
        "import cv2\n",
        "\n",
        "from keras.models import load_model\n",
        "from sklearn.datasets import load_files   \n",
        "from keras.utils import np_utils\n",
        "from glob import glob\n",
        "from keras import applications\n",
        "from keras.preprocessing.image import ImageDataGenerator \n",
        "from keras import optimizers\n",
        "from keras.models import Sequential,Model,load_model\n",
        "from keras.layers import Dense, Dropout, Flatten, Conv2D, MaxPool2D,GlobalAveragePooling2D\n",
        "from keras.callbacks import TensorBoard,ReduceLROnPlateau,ModelCheckpoint"
      ],
      "execution_count": 0,
      "outputs": [
        {
          "output_type": "stream",
          "text": [
            "Using TensorFlow backend.\n"
          ],
          "name": "stderr"
        }
      ]
    },
    {
      "cell_type": "code",
      "metadata": {
        "id": "S3O2qfj09sth",
        "colab_type": "code",
        "colab": {}
      },
      "source": [
        "import joblib\n",
        "\n",
        "X = joblib.load('/content/drive/My Drive/Colab Notebooks/XCan224.joblib')\n",
        "y = joblib.load('/content/drive/My Drive/Colab Notebooks/yCan224.joblib')"
      ],
      "execution_count": 0,
      "outputs": []
    },
    {
      "cell_type": "code",
      "metadata": {
        "id": "LamUz6xp97QZ",
        "colab_type": "code",
        "colab": {}
      },
      "source": [
        "x_train, x_test, y_train, y_test = train_test_split(X, y, test_size = 0.2, random_state=42)"
      ],
      "execution_count": 0,
      "outputs": []
    },
    {
      "cell_type": "code",
      "metadata": {
        "id": "RFxeVOZVNjSC",
        "colab_type": "code",
        "colab": {}
      },
      "source": [
        "del X, y"
      ],
      "execution_count": 0,
      "outputs": []
    },
    {
      "cell_type": "code",
      "metadata": {
        "id": "vPb5WCxL9-8p",
        "colab_type": "code",
        "colab": {}
      },
      "source": [
        "x_train = np.asarray(x_train['image'].tolist())\n",
        "x_test = np.asarray(x_test['image'].tolist())\n",
        "\n",
        "# Normalization\n",
        "x_train = (x_train - np.mean(x_train))/np.std(x_train)\n",
        "x_test = (x_test - np.mean(x_test))/np.std(x_test)\n",
        "\n",
        "# Label Encoding\n",
        "y_train = to_categorical(y_train, num_classes = 2)\n",
        "y_test = to_categorical(y_test, num_classes = 2)\n",
        "\n",
        "# Reshape images in 3 dimensions\n",
        "x_train = x_train.reshape(x_train.shape[0], *(224, 224, 3))\n",
        "x_test = x_test.reshape(x_test.shape[0], *(224, 224, 3))"
      ],
      "execution_count": 0,
      "outputs": []
    },
    {
      "cell_type": "code",
      "metadata": {
        "id": "uO73CgZX-GhH",
        "colab_type": "code",
        "outputId": "68ebd178-8af3-485d-eff8-3a5636af7452",
        "colab": {
          "base_uri": "https://localhost:8080/",
          "height": 131
        }
      },
      "source": [
        "print (\"number of training examples = \" + str(x_train.shape[0]))\n",
        "print (\"number of test examples = \" + str(x_test.shape[0]))\n",
        "print (\"X_train shape: \" + str(x_train.shape))\n",
        "print (\"Y_train shape: \" + str(y_train.shape))\n",
        "print (\"X_test shape: \" + str(x_test.shape))\n",
        "print (\"Y_test shape: \" + str(y_test.shape))"
      ],
      "execution_count": 0,
      "outputs": [
        {
          "output_type": "stream",
          "text": [
            "number of training examples = 8528\n",
            "number of test examples = 2133\n",
            "X_train shape: (8528, 224, 224, 3)\n",
            "Y_train shape: (8528, 2)\n",
            "X_test shape: (2133, 224, 224, 3)\n",
            "Y_test shape: (2133, 2)\n"
          ],
          "name": "stdout"
        }
      ]
    },
    {
      "cell_type": "code",
      "metadata": {
        "id": "HOIN135d-Irp",
        "colab_type": "code",
        "colab": {}
      },
      "source": [
        "img_height,img_width = 224,224 \n",
        "num_classes = 2\n",
        "\n",
        "base_model = applications.vgg19.VGG19(weights= None, include_top=False, input_shape= (img_height,img_width,3))"
      ],
      "execution_count": 0,
      "outputs": []
    },
    {
      "cell_type": "code",
      "metadata": {
        "id": "KhDOwyvZ-PLF",
        "colab_type": "code",
        "colab": {}
      },
      "source": [
        "x = base_model.output\n",
        "x = GlobalAveragePooling2D()(x)\n",
        "x = Dropout(0.95)(x)\n",
        "predictions = Dense(num_classes, activation= 'softmax')(x)\n",
        "model = Model(inputs = base_model.input, outputs = predictions)"
      ],
      "execution_count": 0,
      "outputs": []
    },
    {
      "cell_type": "code",
      "metadata": {
        "id": "o9yR-uEo-eXr",
        "colab_type": "code",
        "colab": {}
      },
      "source": [
        "from keras.optimizers import SGD, Adam\n",
        "# sgd = SGD(lr=lrate, momentum=0.9, decay=decay, nesterov=False)\n",
        "adam = Adam(lr=0.0001)\n",
        "model.compile(optimizer= adam, loss='categorical_crossentropy', metrics=['accuracy'])"
      ],
      "execution_count": 0,
      "outputs": []
    },
    {
      "cell_type": "code",
      "metadata": {
        "id": "u13IGw3s-iko",
        "colab_type": "code",
        "outputId": "d4023bc7-c0c7-4942-badd-6c7d325ef591",
        "colab": {
          "base_uri": "https://localhost:8080/",
          "height": 1000
        }
      },
      "source": [
        "loaded_model = keras.models.load_model('/content/drive/My Drive/Colab Notebooks/VGG19Drop9Epoch50Size224_224.h5')\n",
        "loaded_model.summary()"
      ],
      "execution_count": 0,
      "outputs": [
        {
          "output_type": "stream",
          "text": [
            "Model: \"model_2\"\n",
            "_________________________________________________________________\n",
            "Layer (type)                 Output Shape              Param #   \n",
            "=================================================================\n",
            "input_5 (InputLayer)         (None, 224, 224, 3)       0         \n",
            "_________________________________________________________________\n",
            "block1_conv1 (Conv2D)        (None, 224, 224, 64)      1792      \n",
            "_________________________________________________________________\n",
            "block1_conv2 (Conv2D)        (None, 224, 224, 64)      36928     \n",
            "_________________________________________________________________\n",
            "block1_pool (MaxPooling2D)   (None, 112, 112, 64)      0         \n",
            "_________________________________________________________________\n",
            "block2_conv1 (Conv2D)        (None, 112, 112, 128)     73856     \n",
            "_________________________________________________________________\n",
            "block2_conv2 (Conv2D)        (None, 112, 112, 128)     147584    \n",
            "_________________________________________________________________\n",
            "block2_pool (MaxPooling2D)   (None, 56, 56, 128)       0         \n",
            "_________________________________________________________________\n",
            "block3_conv1 (Conv2D)        (None, 56, 56, 256)       295168    \n",
            "_________________________________________________________________\n",
            "block3_conv2 (Conv2D)        (None, 56, 56, 256)       590080    \n",
            "_________________________________________________________________\n",
            "block3_conv3 (Conv2D)        (None, 56, 56, 256)       590080    \n",
            "_________________________________________________________________\n",
            "block3_conv4 (Conv2D)        (None, 56, 56, 256)       590080    \n",
            "_________________________________________________________________\n",
            "block3_pool (MaxPooling2D)   (None, 28, 28, 256)       0         \n",
            "_________________________________________________________________\n",
            "block4_conv1 (Conv2D)        (None, 28, 28, 512)       1180160   \n",
            "_________________________________________________________________\n",
            "block4_conv2 (Conv2D)        (None, 28, 28, 512)       2359808   \n",
            "_________________________________________________________________\n",
            "block4_conv3 (Conv2D)        (None, 28, 28, 512)       2359808   \n",
            "_________________________________________________________________\n",
            "block4_conv4 (Conv2D)        (None, 28, 28, 512)       2359808   \n",
            "_________________________________________________________________\n",
            "block4_pool (MaxPooling2D)   (None, 14, 14, 512)       0         \n",
            "_________________________________________________________________\n",
            "block5_conv1 (Conv2D)        (None, 14, 14, 512)       2359808   \n",
            "_________________________________________________________________\n",
            "block5_conv2 (Conv2D)        (None, 14, 14, 512)       2359808   \n",
            "_________________________________________________________________\n",
            "block5_conv3 (Conv2D)        (None, 14, 14, 512)       2359808   \n",
            "_________________________________________________________________\n",
            "block5_conv4 (Conv2D)        (None, 14, 14, 512)       2359808   \n",
            "_________________________________________________________________\n",
            "block5_pool (MaxPooling2D)   (None, 7, 7, 512)         0         \n",
            "_________________________________________________________________\n",
            "global_average_pooling2d_4 ( (None, 512)               0         \n",
            "_________________________________________________________________\n",
            "dropout_2 (Dropout)          (None, 512)               0         \n",
            "_________________________________________________________________\n",
            "dense_2 (Dense)              (None, 2)                 1026      \n",
            "=================================================================\n",
            "Total params: 20,025,410\n",
            "Trainable params: 20,025,410\n",
            "Non-trainable params: 0\n",
            "_________________________________________________________________\n"
          ],
          "name": "stdout"
        }
      ]
    },
    {
      "cell_type": "code",
      "metadata": {
        "id": "aTS0iBBh_NM8",
        "colab_type": "code",
        "outputId": "3eced2d3-2ef7-45fb-ac4c-1a3b9f27d37a",
        "colab": {
          "base_uri": "https://localhost:8080/",
          "height": 55
        }
      },
      "source": [
        "loss, acc = loaded_model.evaluate(x_test, y_test)\n",
        "print(\"Restored model, accuracy: {:5.2f}%\".format(100*acc))"
      ],
      "execution_count": 0,
      "outputs": [
        {
          "output_type": "stream",
          "text": [
            "2133/2133 [==============================] - 16s 7ms/step\n",
            "Restored model, accuracy: 89.31%\n"
          ],
          "name": "stdout"
        }
      ]
    },
    {
      "cell_type": "code",
      "metadata": {
        "id": "VvPbb1dWLGKV",
        "colab_type": "code",
        "outputId": "81fea4ec-fa19-4ca9-ece6-56d5d66a1129",
        "colab": {
          "base_uri": "https://localhost:8080/",
          "height": 988
        }
      },
      "source": [
        "import tensorflow as tf\n",
        "with tf.device('/device:GPU:0'):\n",
        "  history = loaded_model.fit(x_train, y_train, validation_split=0.25, epochs = 25, batch_size = 32)"
      ],
      "execution_count": 0,
      "outputs": [
        {
          "output_type": "stream",
          "text": [
            "Train on 6396 samples, validate on 2132 samples\n",
            "Epoch 1/25\n",
            "6396/6396 [==============================] - 66s 10ms/step - loss: 0.0340 - accuracy: 0.9897 - val_loss: 0.4778 - val_accuracy: 0.9099\n",
            "Epoch 2/25\n",
            "6396/6396 [==============================] - 64s 10ms/step - loss: 0.0248 - accuracy: 0.9914 - val_loss: 0.5309 - val_accuracy: 0.9240\n",
            "Epoch 3/25\n",
            "6396/6396 [==============================] - 64s 10ms/step - loss: 0.0234 - accuracy: 0.9925 - val_loss: 0.6602 - val_accuracy: 0.9217\n",
            "Epoch 4/25\n",
            "6396/6396 [==============================] - 64s 10ms/step - loss: 0.0400 - accuracy: 0.9869 - val_loss: 0.3888 - val_accuracy: 0.9062\n",
            "Epoch 5/25\n",
            "6396/6396 [==============================] - 64s 10ms/step - loss: 0.0246 - accuracy: 0.9916 - val_loss: 0.4970 - val_accuracy: 0.9226\n",
            "Epoch 6/25\n",
            "6396/6396 [==============================] - 64s 10ms/step - loss: 0.0526 - accuracy: 0.9847 - val_loss: 0.4874 - val_accuracy: 0.9029\n",
            "Epoch 7/25\n",
            "6396/6396 [==============================] - 64s 10ms/step - loss: 0.0319 - accuracy: 0.9892 - val_loss: 0.6183 - val_accuracy: 0.8931\n",
            "Epoch 8/25\n",
            "6396/6396 [==============================] - 64s 10ms/step - loss: 0.0180 - accuracy: 0.9944 - val_loss: 0.5754 - val_accuracy: 0.9240\n",
            "Epoch 9/25\n",
            "6396/6396 [==============================] - 64s 10ms/step - loss: 0.0356 - accuracy: 0.9902 - val_loss: 0.2835 - val_accuracy: 0.9137\n",
            "Epoch 10/25\n",
            "6396/6396 [==============================] - 64s 10ms/step - loss: 0.0241 - accuracy: 0.9928 - val_loss: 0.5404 - val_accuracy: 0.9240\n",
            "Epoch 11/25\n",
            "6396/6396 [==============================] - 64s 10ms/step - loss: 0.0404 - accuracy: 0.9856 - val_loss: 0.4733 - val_accuracy: 0.9203\n",
            "Epoch 12/25\n",
            "6396/6396 [==============================] - 64s 10ms/step - loss: 0.0033 - accuracy: 0.9991 - val_loss: 0.6791 - val_accuracy: 0.9287\n",
            "Epoch 13/25\n",
            "6396/6396 [==============================] - 64s 10ms/step - loss: 0.0617 - accuracy: 0.9798 - val_loss: 0.4252 - val_accuracy: 0.9095\n",
            "Epoch 14/25\n",
            "6396/6396 [==============================] - 64s 10ms/step - loss: 0.0212 - accuracy: 0.9933 - val_loss: 0.4470 - val_accuracy: 0.9264\n",
            "Epoch 15/25\n",
            "6396/6396 [==============================] - 64s 10ms/step - loss: 0.0167 - accuracy: 0.9942 - val_loss: 0.4738 - val_accuracy: 0.9240\n",
            "Epoch 16/25\n",
            "6396/6396 [==============================] - 64s 10ms/step - loss: 0.0046 - accuracy: 0.9991 - val_loss: 0.6615 - val_accuracy: 0.9193\n",
            "Epoch 17/25\n",
            "6396/6396 [==============================] - 64s 10ms/step - loss: 4.2683e-04 - accuracy: 1.0000 - val_loss: 0.7784 - val_accuracy: 0.9292\n",
            "Epoch 18/25\n",
            "6396/6396 [==============================] - 64s 10ms/step - loss: 1.2892e-04 - accuracy: 1.0000 - val_loss: 0.8012 - val_accuracy: 0.9268\n",
            "Epoch 19/25\n",
            "6396/6396 [==============================] - 63s 10ms/step - loss: 0.0456 - accuracy: 0.9856 - val_loss: 0.3332 - val_accuracy: 0.9212\n",
            "Epoch 20/25\n",
            "6396/6396 [==============================] - 64s 10ms/step - loss: 0.0332 - accuracy: 0.9898 - val_loss: 0.5090 - val_accuracy: 0.9151\n",
            "Epoch 21/25\n",
            "6396/6396 [==============================] - 64s 10ms/step - loss: 0.0335 - accuracy: 0.9912 - val_loss: 0.4312 - val_accuracy: 0.9235\n",
            "Epoch 22/25\n",
            "6396/6396 [==============================] - 64s 10ms/step - loss: 0.0127 - accuracy: 0.9959 - val_loss: 0.6983 - val_accuracy: 0.9090\n",
            "Epoch 23/25\n",
            "6396/6396 [==============================] - 63s 10ms/step - loss: 0.0518 - accuracy: 0.9844 - val_loss: 0.4535 - val_accuracy: 0.9235\n",
            "Epoch 24/25\n",
            "6396/6396 [==============================] - 64s 10ms/step - loss: 0.0185 - accuracy: 0.9942 - val_loss: 0.5950 - val_accuracy: 0.9053\n",
            "Epoch 25/25\n",
            "6396/6396 [==============================] - 64s 10ms/step - loss: 0.0142 - accuracy: 0.9955 - val_loss: 0.5884 - val_accuracy: 0.9301\n"
          ],
          "name": "stdout"
        }
      ]
    },
    {
      "cell_type": "code",
      "metadata": {
        "id": "xSHlXBsePJ6m",
        "colab_type": "code",
        "outputId": "68babe2e-a82f-4ccd-a8bb-574e9591e8a3",
        "colab": {
          "base_uri": "https://localhost:8080/",
          "height": 74
        }
      },
      "source": [
        "preds = loaded_model.evaluate(x_test, y_test)\n",
        "print (\"Loss = \" + str(preds[0]))\n",
        "print (\"Test Accuracy = \" + str(preds[1]))"
      ],
      "execution_count": 0,
      "outputs": [
        {
          "output_type": "stream",
          "text": [
            "2133/2133 [==============================] - 7s 3ms/step\n",
            "Loss = 0.6463938380156692\n",
            "Test Accuracy = 0.9170182943344116\n"
          ],
          "name": "stdout"
        }
      ]
    },
    {
      "cell_type": "code",
      "metadata": {
        "id": "nYMg5P3pXyUE",
        "colab_type": "code",
        "outputId": "167d051a-1f96-43f9-ad9a-acb8d3807922",
        "colab": {
          "base_uri": "https://localhost:8080/",
          "height": 295
        }
      },
      "source": [
        "plt.plot(history.history['loss'])\n",
        "plt.plot(history.history['val_loss'])\n",
        "plt.title('model loss')\n",
        "plt.ylabel('loss')\n",
        "plt.xlabel('epoch')\n",
        "plt.legend(['train', 'test'], loc='upper left')\n",
        "plt.show()"
      ],
      "execution_count": 0,
      "outputs": [
        {
          "output_type": "display_data",
          "data": {
            "image/png": "[encoded data removed]",
            "text/plain": [
              "<Figure size 432x288 with 1 Axes>"
            ]
          },
          "metadata": {
            "tags": [],
            "needs_background": "light"
          }
        }
      ]
    },
    {
      "cell_type": "code",
      "metadata": {
        "id": "n7H5AquqX5XZ",
        "colab_type": "code",
        "outputId": "b0cbea80-edb2-4596-9fc3-b080684329dc",
        "colab": {
          "base_uri": "https://localhost:8080/",
          "height": 295
        }
      },
      "source": [
        "plt.plot(history.history['accuracy'])\n",
        "plt.plot(history.history['val_accuracy'])\n",
        "plt.title('model accuracy')\n",
        "plt.ylabel('acc')\n",
        "plt.xlabel('epoch')\n",
        "plt.legend(['train', 'test'], loc='upper left')\n",
        "plt.show()"
      ],
      "execution_count": 0,
      "outputs": [
        {
          "output_type": "display_data",
          "data": {
            "image/png": "[encoded data removed]",
            "text/plain": [
              "<Figure size 432x288 with 1 Axes>"
            ]
          },
          "metadata": {
            "tags": [],
            "needs_background": "light"
          }
        }
      ]
    },
    {
      "cell_type": "code",
      "metadata": {
        "id": "_EquyDvAX7dA",
        "colab_type": "code",
        "colab": {}
      },
      "source": [
        "predictions = loaded_model.predict(x_test)"
      ],
      "execution_count": 0,
      "outputs": []
    },
    {
      "cell_type": "code",
      "metadata": {
        "id": "8umrZrFXX86e",
        "colab_type": "code",
        "colab": {}
      },
      "source": [
        "p = predictions.round()"
      ],
      "execution_count": 0,
      "outputs": []
    },
    {
      "cell_type": "code",
      "metadata": {
        "id": "GQGP_XloX-Qd",
        "colab_type": "code",
        "colab": {}
      },
      "source": [
        "y_pred = np.argmax(p, axis=1)"
      ],
      "execution_count": 0,
      "outputs": []
    },
    {
      "cell_type": "code",
      "metadata": {
        "id": "aA6E9vk2X_me",
        "colab_type": "code",
        "colab": {}
      },
      "source": [
        "newY_test = np.argmax(y_test, axis=1)"
      ],
      "execution_count": 0,
      "outputs": []
    },
    {
      "cell_type": "code",
      "metadata": {
        "id": "Mye5zsStYBT5",
        "colab_type": "code",
        "outputId": "b7d3b426-dac6-4b31-8fbe-4654a30bdbd4",
        "colab": {
          "base_uri": "https://localhost:8080/",
          "height": 188
        }
      },
      "source": [
        "from sklearn.metrics import classification_report\n",
        "report = classification_report(newY_test, y_pred)\n",
        "print(report)"
      ],
      "execution_count": 0,
      "outputs": [
        {
          "output_type": "stream",
          "text": [
            "              precision    recall  f1-score   support\n",
            "\n",
            "           0       0.88      0.85      0.87       684\n",
            "           1       0.93      0.95      0.94      1449\n",
            "\n",
            "    accuracy                           0.92      2133\n",
            "   macro avg       0.91      0.90      0.90      2133\n",
            "weighted avg       0.92      0.92      0.92      2133\n",
            "\n"
          ],
          "name": "stdout"
        }
      ]
    },
    {
      "cell_type": "code",
      "metadata": {
        "id": "AAshvzrMYChw",
        "colab_type": "code",
        "outputId": "ec7579cf-2546-4ebb-e612-a6a51c82a792",
        "colab": {
          "base_uri": "https://localhost:8080/",
          "height": 447
        }
      },
      "source": [
        "from sklearn.metrics import confusion_matrix\n",
        "matrix = confusion_matrix(newY_test, y_pred)\n",
        "import seaborn as sn\n",
        "import pandas as pd\n",
        "df_cm = pd.DataFrame(matrix,index = [i for i in range(2)],columns = [i for i in range(2)])\n",
        "plt.figure(figsize = (9,7))\n",
        "sn.heatmap(df_cm, annot=True, fmt=\"d\")"
      ],
      "execution_count": 0,
      "outputs": [
        {
          "output_type": "execute_result",
          "data": {
            "text/plain": [
              "<matplotlib.axes._subplots.AxesSubplot at 0x7f18b2744f98>"
            ]
          },
          "metadata": {
            "tags": []
          },
          "execution_count": 30
        },
        {
          "output_type": "display_data",
          "data": {
            "image/png": "[encoded data removed]",
            "text/plain": [
              "<Figure size 648x504 with 2 Axes>"
            ]
          },
          "metadata": {
            "tags": [],
            "needs_background": "light"
          }
        }
      ]
    },
    {
      "cell_type": "code",
      "metadata": {
        "id": "OBGT2GVrYDs8",
        "colab_type": "code",
        "outputId": "5251edb8-4e61-4045-e5f5-be84b0edbd57",
        "colab": {
          "base_uri": "https://localhost:8080/",
          "height": 36
        }
      },
      "source": [
        "model_name = 'VGG19Drop9Epoch50Size224_224.h5'\n",
        "save_dir = '/content/drive/My Drive/Colab Notebooks'\n",
        "# Save model and weights\n",
        "if not os.path.isdir(save_dir):\n",
        "    os.makedirs(save_dir)\n",
        "model_path = os.path.join(save_dir, model_name)\n",
        "model.save(model_path)\n",
        "print('Saved trained model at %s ' % model_path)"
      ],
      "execution_count": 0,
      "outputs": [
        {
          "output_type": "stream",
          "text": [
            "Saved trained model at /content/drive/My Drive/Colab Notebooks/VGG19Drop9Epoch50Size224_224.h5 \n"
          ],
          "name": "stdout"
        }
      ]
    },
    {
      "cell_type": "code",
      "metadata": {
        "id": "qriDfuWeYuHv",
        "colab_type": "code",
        "colab": {}
      },
      "source": [
        ""
      ],
      "execution_count": 0,
      "outputs": []
    }
  ]
}
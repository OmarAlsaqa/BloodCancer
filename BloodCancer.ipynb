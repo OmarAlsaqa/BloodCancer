{
  "nbformat": 4,
  "nbformat_minor": 0,
  "metadata": {
    "colab": {
      "name": "BloodCancer.ipynb",
      "provenance": [],
      "collapsed_sections": [
        "bxqz8ZbrK-vM",
        "QlBI1EPeKfF4",
        "xDpW7nexLUMY",
        "trgsUR-ZIrp7",
        "AansTJxhIxGf",
        "YM9GBvnRSyXq"
      ],
      "machine_shape": "hm",
      "mount_file_id": "1j42yikZcFRPaCpSic5qQFhsTidjpOFPj",
      "authorship_tag": "ABX9TyOBx31RUGJdCWiauMR16dR1",
      "include_colab_link": true
    },
    "kernelspec": {
      "name": "python3",
      "display_name": "Python 3"
    },
    "accelerator": "GPU"
  },
  "cells": [
    {
      "cell_type": "markdown",
      "metadata": {
        "id": "view-in-github",
        "colab_type": "text"
      },
      "source": [
        "<a href=\"https://colab.research.google.com/github/OmarAlsaqa/BloodCancer/blob/master/BloodCancer.ipynb\" target=\"_parent\"><img src=\"https://colab.research.google.com/assets/colab-badge.svg\" alt=\"Open In Colab\"/></a>"
      ]
    },
    {
      "cell_type": "markdown",
      "metadata": {
        "id": "bxqz8ZbrK-vM",
        "colab_type": "text"
      },
      "source": [
        "# **Imports**"
      ]
    },
    {
      "cell_type": "code",
      "metadata": {
        "id": "7Ho41B8Q94DO",
        "colab_type": "code",
        "colab": {}
      },
      "source": [
        "from mpl_toolkits.mplot3d import Axes3D\n",
        "from sklearn.preprocessing import StandardScaler\n",
        "import matplotlib.pyplot as plt # plotting\n",
        "import numpy as np # linear algebra\n",
        "import os # accessing directory structure\n",
        "import pandas as pd # data processing, CSV file I/O (e.g. pd.read_csv)"
      ],
      "execution_count": 0,
      "outputs": []
    },
    {
      "cell_type": "code",
      "metadata": {
        "id": "kLgoaPsZ-Itz",
        "colab_type": "code",
        "colab": {}
      },
      "source": [
        "# Input data files are available in the \"../input/\" directory.\n",
        "# For example, running this (by clicking run or pressing Shift+Enter) will list the files in the input directory\n",
        "\n",
        "import os\n",
        "import sys\n",
        "from glob import glob\n",
        "from PIL import Image\n",
        "import matplotlib.pyplot as plt"
      ],
      "execution_count": 0,
      "outputs": []
    },
    {
      "cell_type": "code",
      "metadata": {
        "id": "dE1bJ1xb-NDO",
        "colab_type": "code",
        "outputId": "c4340bbd-3a9e-456f-8f44-578ccf37902c",
        "colab": {
          "base_uri": "https://localhost:8080/"
        }
      },
      "source": [
        "from __future__ import print_function\n",
        "from __future__ import absolute_import\n",
        "from __future__ import division\n",
        "\n",
        "%matplotlib inline\n",
        "\n",
        "import warnings\n",
        "\n",
        "from sklearn.model_selection import train_test_split\n",
        "from sklearn.preprocessing import label_binarize\n",
        "from sklearn.metrics import confusion_matrix, accuracy_score\n",
        "from sklearn.linear_model import LogisticRegression\n",
        "\n",
        "import itertools\n",
        "\n",
        "import keras\n",
        "from keras import utils\n",
        "from keras.utils.np_utils import to_categorical\n",
        "from keras.models import Sequential, Model\n",
        "from keras.layers.normalization import BatchNormalization\n",
        "from keras.layers import *\n",
        "from keras import backend as K\n",
        "from keras import optimizers\n",
        "from keras.preprocessing.image import ImageDataGenerator\n",
        "from keras.callbacks import ReduceLROnPlateau\n",
        "from keras import activations\n",
        "from keras.regularizers import l2\n",
        "from keras.engine.topology import get_source_inputs\n",
        "\n",
        "\n",
        "\n",
        "import pandas as pd\n",
        "import numpy as np \n",
        "import matplotlib.pyplot as plt\n",
        "import os\n",
        "from urllib.request import urlopen,urlretrieve\n",
        "from PIL import Image\n",
        "from tqdm import tqdm_notebook\n",
        "from sklearn.utils import shuffle\n",
        "import cv2\n",
        "\n",
        "from keras.models import load_model\n",
        "from sklearn.datasets import load_files   \n",
        "from keras.utils import np_utils\n",
        "from glob import glob\n",
        "from keras import applications\n",
        "from keras.preprocessing.image import ImageDataGenerator \n",
        "from keras import optimizers\n",
        "from keras.models import Sequential,Model,load_model\n",
        "from keras.layers import Dense, Dropout, Flatten, Conv2D, MaxPool2D,GlobalAveragePooling2D\n",
        "from keras.callbacks import TensorBoard,ReduceLROnPlateau,ModelCheckpoint"
      ],
      "execution_count": 0,
      "outputs": [
        {
          "output_type": "stream",
          "text": [
            "Using TensorFlow backend.\n"
          ],
          "name": "stderr"
        }
      ]
    },
    {
      "cell_type": "markdown",
      "metadata": {
        "id": "QlBI1EPeKfF4",
        "colab_type": "text"
      },
      "source": [
        "# **Unwanred** unless you want to change dim of photos"
      ]
    },
    {
      "cell_type": "code",
      "metadata": {
        "id": "ze0e-mX38J7E",
        "colab_type": "code",
        "colab": {}
      },
      "source": [
        "!unzip '/content/drive/My Drive/Colab Notebooks/cnmc-leukemia.zip'"
      ],
      "execution_count": 0,
      "outputs": []
    },
    {
      "cell_type": "code",
      "metadata": {
        "id": "sacyNgDD81dD",
        "colab_type": "code",
        "colab": {}
      },
      "source": [
        "# This Python 3 environment comes with many helpful analytics libraries installed\n",
        "# It is defined by the kaggle/python docker image: https://github.com/kaggle/docker-python\n",
        "# For example, here's several helpful packages to load in \n",
        "\n",
        "import numpy as np # linear algebra\n",
        "import pandas as pd # data processing, CSV file I/O (e.g. pd.read_csv)\n",
        "\n",
        "# Input data files are available in the \"../input/\" directory.\n",
        "# For example, running this (by clicking run or pressing Shift+Enter) will list all files under the input directory\n",
        "\n",
        "import os\n",
        "for dirname, _, filenames in os.walk('/content/Cancer'):\n",
        "  for filename in filenames:\n",
        "    print(os.path.join(dirname, filename))\n",
        "\n",
        "# Any results you write to the current directory are saved as output."
      ],
      "execution_count": 0,
      "outputs": []
    },
    {
      "cell_type": "code",
      "metadata": {
        "id": "Qqha0Gc5-KWk",
        "colab_type": "code",
        "colab": {}
      },
      "source": [
        "x = []\n",
        "for dirname, _, filenames in os.walk('/content/Cancer'):\n",
        "    for filename in filenames:\n",
        "        y = os.path.join(dirname, filename)\n",
        "        x.append(y)"
      ],
      "execution_count": 0,
      "outputs": []
    },
    {
      "cell_type": "code",
      "metadata": {
        "id": "rDqXJpOa-P3z",
        "colab_type": "code",
        "colab": {}
      },
      "source": [
        "path = []\n",
        "p_id = []\n",
        "for i in x:\n",
        "    path.append(i)\n",
        "    p_id.append(i.split('/')[6][:-4])"
      ],
      "execution_count": 0,
      "outputs": []
    },
    {
      "cell_type": "code",
      "metadata": {
        "id": "f98c0mC6-SAK",
        "colab_type": "code",
        "colab": {}
      },
      "source": [
        "s_id = []\n",
        "img_is = []\n",
        "c = []\n",
        "lable = []\n",
        "for i in x:\n",
        "    v = i.split(\"_\")\n",
        "    s_id.append(v[3])\n",
        "    img_is.append(v[4])\n",
        "    c.append(v[5])\n",
        "    lable.append(v[6][:-4])"
      ],
      "execution_count": 0,
      "outputs": []
    },
    {
      "cell_type": "code",
      "metadata": {
        "id": "CF7GIj21-TbJ",
        "colab_type": "code",
        "colab": {}
      },
      "source": [
        "data_tr = pd.DataFrame()\n",
        "data_tr[\"Patient_ID\"] = p_id\n",
        "data_tr[\"path\"] = path\n",
        "data_tr['image'] = data_tr['path'].map(lambda x: np.asarray(Image.open(x).resize((224, 224))))\n",
        "data_tr[\"subject_id\"] = s_id\n",
        "data_tr[\"image_id\"] = img_is\n",
        "data_tr[\"cell_no\"] = c\n",
        "data_tr[\"labels\"] = lable\n",
        "data_tr[\"labels\"] = data_tr[\"labels\"].apply(lambda x: 1 if x == 'all' else 0).astype(np.bool)"
      ],
      "execution_count": 0,
      "outputs": []
    },
    {
      "cell_type": "code",
      "metadata": {
        "id": "JBrbLOta-U6a",
        "colab_type": "code",
        "colab": {}
      },
      "source": [
        "S_id = []\n",
        "for i in s_id:\n",
        "    if i[0] == 'H':\n",
        "        S_id.append(i[1:])\n",
        "    else:\n",
        "        S_id.append(i)"
      ],
      "execution_count": 0,
      "outputs": []
    },
    {
      "cell_type": "code",
      "metadata": {
        "id": "omKup34t-WKT",
        "colab_type": "code",
        "colab": {}
      },
      "source": [
        "data_tr[\"subject_id\"] = S_id"
      ],
      "execution_count": 0,
      "outputs": []
    },
    {
      "cell_type": "code",
      "metadata": {
        "id": "rLnV1gE_-XVV",
        "colab_type": "code",
        "colab": {}
      },
      "source": [
        "data_tr[\"subject_id\"] = data_tr[\"subject_id\"].apply(lambda x: x[1:] if x[0] == \"h\" else x)"
      ],
      "execution_count": 0,
      "outputs": []
    },
    {
      "cell_type": "code",
      "metadata": {
        "id": "-kL8YLsz-YzS",
        "colab_type": "code",
        "outputId": "24ec1b5e-ee3b-40a1-bd3e-d11ea2662fc8",
        "colab": {
          "base_uri": "https://localhost:8080/",
          "height": 363
        }
      },
      "source": [
        "data_tr.sample(10)"
      ],
      "execution_count": 0,
      "outputs": [
        {
          "output_type": "execute_result",
          "data": {
            "text/html": [
              "<div>\n",
              "<style scoped>\n",
              "    .dataframe tbody tr th:only-of-type {\n",
              "        vertical-align: middle;\n",
              "    }\n",
              "\n",
              "    .dataframe tbody tr th {\n",
              "        vertical-align: top;\n",
              "    }\n",
              "\n",
              "    .dataframe thead th {\n",
              "        text-align: right;\n",
              "    }\n",
              "</style>\n",
              "<table border=\"1\" class=\"dataframe\">\n",
              "  <thead>\n",
              "    <tr style=\"text-align: right;\">\n",
              "      <th></th>\n",
              "      <th>Patient_ID</th>\n",
              "      <th>path</th>\n",
              "      <th>image</th>\n",
              "      <th>subject_id</th>\n",
              "      <th>image_id</th>\n",
              "      <th>cell_no</th>\n",
              "      <th>labels</th>\n",
              "    </tr>\n",
              "  </thead>\n",
              "  <tbody>\n",
              "    <tr>\n",
              "      <th>8394</th>\n",
              "      <td>UID_32_26_8_all</td>\n",
              "      <td>/content/Cancer/fold_1/fold_1/all/UID_32_26_8_...</td>\n",
              "      <td>[[[0, 0, 0], [0, 0, 0], [0, 0, 0], [0, 0, 0], ...</td>\n",
              "      <td>32</td>\n",
              "      <td>26</td>\n",
              "      <td>8</td>\n",
              "      <td>True</td>\n",
              "    </tr>\n",
              "    <tr>\n",
              "      <th>4384</th>\n",
              "      <td>UID_52_37_3_all</td>\n",
              "      <td>/content/Cancer/fold_0/fold_0/all/UID_52_37_3_...</td>\n",
              "      <td>[[[0, 0, 0], [0, 0, 0], [0, 0, 0], [0, 0, 0], ...</td>\n",
              "      <td>52</td>\n",
              "      <td>37</td>\n",
              "      <td>3</td>\n",
              "      <td>True</td>\n",
              "    </tr>\n",
              "    <tr>\n",
              "      <th>432</th>\n",
              "      <td>UID_18_24_2_all</td>\n",
              "      <td>/content/Cancer/fold_2/fold_2/all/UID_18_24_2_...</td>\n",
              "      <td>[[[0, 0, 0], [0, 0, 0], [0, 0, 0], [0, 0, 0], ...</td>\n",
              "      <td>18</td>\n",
              "      <td>24</td>\n",
              "      <td>2</td>\n",
              "      <td>True</td>\n",
              "    </tr>\n",
              "    <tr>\n",
              "      <th>4002</th>\n",
              "      <td>UID_28_2_6_all</td>\n",
              "      <td>/content/Cancer/fold_0/fold_0/all/UID_28_2_6_a...</td>\n",
              "      <td>[[[0, 0, 0], [0, 0, 0], [0, 0, 0], [0, 0, 0], ...</td>\n",
              "      <td>28</td>\n",
              "      <td>2</td>\n",
              "      <td>6</td>\n",
              "      <td>True</td>\n",
              "    </tr>\n",
              "    <tr>\n",
              "      <th>611</th>\n",
              "      <td>UID_78_14_4_all</td>\n",
              "      <td>/content/Cancer/fold_2/fold_2/all/UID_78_14_4_...</td>\n",
              "      <td>[[[0, 0, 0], [0, 0, 0], [0, 0, 0], [0, 0, 0], ...</td>\n",
              "      <td>78</td>\n",
              "      <td>14</td>\n",
              "      <td>4</td>\n",
              "      <td>True</td>\n",
              "    </tr>\n",
              "    <tr>\n",
              "      <th>3940</th>\n",
              "      <td>UID_45_2_1_all</td>\n",
              "      <td>/content/Cancer/fold_0/fold_0/all/UID_45_2_1_a...</td>\n",
              "      <td>[[[0, 0, 0], [0, 0, 0], [0, 0, 0], [0, 0, 0], ...</td>\n",
              "      <td>45</td>\n",
              "      <td>2</td>\n",
              "      <td>1</td>\n",
              "      <td>True</td>\n",
              "    </tr>\n",
              "    <tr>\n",
              "      <th>2081</th>\n",
              "      <td>UID_24_16_4_all</td>\n",
              "      <td>/content/Cancer/fold_2/fold_2/all/UID_24_16_4_...</td>\n",
              "      <td>[[[0, 0, 0], [0, 0, 0], [0, 0, 0], [0, 0, 0], ...</td>\n",
              "      <td>24</td>\n",
              "      <td>16</td>\n",
              "      <td>4</td>\n",
              "      <td>True</td>\n",
              "    </tr>\n",
              "    <tr>\n",
              "      <th>8683</th>\n",
              "      <td>UID_46_29_5_all</td>\n",
              "      <td>/content/Cancer/fold_1/fold_1/all/UID_46_29_5_...</td>\n",
              "      <td>[[[0, 0, 0], [0, 0, 0], [0, 0, 0], [0, 0, 0], ...</td>\n",
              "      <td>46</td>\n",
              "      <td>29</td>\n",
              "      <td>5</td>\n",
              "      <td>True</td>\n",
              "    </tr>\n",
              "    <tr>\n",
              "      <th>512</th>\n",
              "      <td>UID_67_3_1_all</td>\n",
              "      <td>/content/Cancer/fold_2/fold_2/all/UID_67_3_1_a...</td>\n",
              "      <td>[[[0, 0, 0], [0, 0, 0], [0, 0, 0], [0, 0, 0], ...</td>\n",
              "      <td>67</td>\n",
              "      <td>3</td>\n",
              "      <td>1</td>\n",
              "      <td>True</td>\n",
              "    </tr>\n",
              "    <tr>\n",
              "      <th>7183</th>\n",
              "      <td>UID_51_122_3_all</td>\n",
              "      <td>/content/Cancer/fold_1/fold_1/all/UID_51_122_3...</td>\n",
              "      <td>[[[0, 0, 0], [0, 0, 0], [0, 0, 0], [0, 0, 0], ...</td>\n",
              "      <td>51</td>\n",
              "      <td>122</td>\n",
              "      <td>3</td>\n",
              "      <td>True</td>\n",
              "    </tr>\n",
              "  </tbody>\n",
              "</table>\n",
              "</div>"
            ],
            "text/plain": [
              "            Patient_ID  ... labels\n",
              "8394   UID_32_26_8_all  ...   True\n",
              "4384   UID_52_37_3_all  ...   True\n",
              "432    UID_18_24_2_all  ...   True\n",
              "4002    UID_28_2_6_all  ...   True\n",
              "611    UID_78_14_4_all  ...   True\n",
              "3940    UID_45_2_1_all  ...   True\n",
              "2081   UID_24_16_4_all  ...   True\n",
              "8683   UID_46_29_5_all  ...   True\n",
              "512     UID_67_3_1_all  ...   True\n",
              "7183  UID_51_122_3_all  ...   True\n",
              "\n",
              "[10 rows x 7 columns]"
            ]
          },
          "metadata": {
            "tags": []
          },
          "execution_count": 49
        }
      ]
    },
    {
      "cell_type": "code",
      "metadata": {
        "id": "IuxQ75geBLqr",
        "colab_type": "code",
        "outputId": "c4f09735-2a01-46a5-ad28-4a5223b4aa64",
        "colab": {
          "base_uri": "https://localhost:8080/",
          "height": 282
        }
      },
      "source": [
        "data_tr[\"cell_no\"] = data_tr[\"cell_no\"].astype(np.int32)\n",
        "data_tr[\"subject_id\"] = data_tr[\"subject_id\"].astype(np.int32)\n",
        "data_tr[\"image_id\"] = data_tr[\"image_id\"].astype(np.int32)\n",
        "data_tr.info()"
      ],
      "execution_count": 0,
      "outputs": [
        {
          "output_type": "stream",
          "text": [
            "<class 'pandas.core.frame.DataFrame'>\n",
            "RangeIndex: 10661 entries, 0 to 10660\n",
            "Data columns (total 7 columns):\n",
            " #   Column      Non-Null Count  Dtype \n",
            "---  ------      --------------  ----- \n",
            " 0   Patient_ID  10661 non-null  object\n",
            " 1   path        10661 non-null  object\n",
            " 2   image       10661 non-null  object\n",
            " 3   subject_id  10661 non-null  int32 \n",
            " 4   image_id    10661 non-null  int32 \n",
            " 5   cell_no     10661 non-null  int32 \n",
            " 6   labels      10661 non-null  bool  \n",
            "dtypes: bool(1), int32(3), object(3)\n",
            "memory usage: 385.3+ KB\n"
          ],
          "name": "stdout"
        }
      ]
    },
    {
      "cell_type": "code",
      "metadata": {
        "id": "rmyeSQR5BNGc",
        "colab_type": "code",
        "colab": {}
      },
      "source": [
        "X = data_tr.drop([\"labels\"], axis = 1)\n",
        "y = data_tr[\"labels\"]"
      ],
      "execution_count": 0,
      "outputs": []
    },
    {
      "cell_type": "code",
      "metadata": {
        "id": "qjpQWAw_BOr6",
        "colab_type": "code",
        "colab": {}
      },
      "source": [
        "# Saving joblib files to not load them again with the loop above\n",
        "\n",
        "import joblib\n",
        "\n",
        "X_name = 'XCan224.joblib'\n",
        "y_name = 'yCan224.joblib'\n",
        "save_dir = '/content/drive/My Drive/Colab Notebooks'\n",
        "\n",
        "savedX = joblib.dump(X, os.path.join(save_dir, X_name))\n",
        "savedy = joblib.dump(y, os.path.join(save_dir, y_name))"
      ],
      "execution_count": 0,
      "outputs": []
    },
    {
      "cell_type": "markdown",
      "metadata": {
        "id": "xDpW7nexLUMY",
        "colab_type": "text"
      },
      "source": [
        "# Visualization"
      ]
    },
    {
      "cell_type": "code",
      "metadata": {
        "id": "8nqQFnco-aIh",
        "colab_type": "code",
        "outputId": "27af509c-6a66-46fd-e02b-cafa60aa6083",
        "colab": {
          "base_uri": "https://localhost:8080/",
          "height": 198
        }
      },
      "source": [
        "plt.imshow(data_tr[\"image\"][65])\n",
        "plt.axis(\"off\")"
      ],
      "execution_count": 0,
      "outputs": [
        {
          "output_type": "error",
          "ename": "NameError",
          "evalue": "ignored",
          "traceback": [
            "\u001b[0;31m---------------------------------------------------------------------------\u001b[0m",
            "\u001b[0;31mNameError\u001b[0m                                 Traceback (most recent call last)",
            "\u001b[0;32m<ipython-input-5-e39519465201>\u001b[0m in \u001b[0;36m<module>\u001b[0;34m()\u001b[0m\n\u001b[0;32m----> 1\u001b[0;31m \u001b[0mplt\u001b[0m\u001b[0;34m.\u001b[0m\u001b[0mimshow\u001b[0m\u001b[0;34m(\u001b[0m\u001b[0mdata_tr\u001b[0m\u001b[0;34m[\u001b[0m\u001b[0;34m\"image\"\u001b[0m\u001b[0;34m]\u001b[0m\u001b[0;34m[\u001b[0m\u001b[0;36m65\u001b[0m\u001b[0;34m]\u001b[0m\u001b[0;34m)\u001b[0m\u001b[0;34m\u001b[0m\u001b[0;34m\u001b[0m\u001b[0m\n\u001b[0m\u001b[1;32m      2\u001b[0m \u001b[0mplt\u001b[0m\u001b[0;34m.\u001b[0m\u001b[0maxis\u001b[0m\u001b[0;34m(\u001b[0m\u001b[0;34m\"off\"\u001b[0m\u001b[0;34m)\u001b[0m\u001b[0;34m\u001b[0m\u001b[0;34m\u001b[0m\u001b[0m\n",
            "\u001b[0;31mNameError\u001b[0m: name 'data_tr' is not defined"
          ]
        }
      ]
    },
    {
      "cell_type": "code",
      "metadata": {
        "id": "nAxDlcqZBENr",
        "colab_type": "code",
        "outputId": "a1f61868-ce2c-4544-8299-358a7ac9b6e0",
        "colab": {
          "base_uri": "https://localhost:8080/",
          "height": 338
        }
      },
      "source": [
        "data_tr[\"labels\"].value_counts().plot(kind = \"bar\")\n",
        "data_tr[\"labels\"].value_counts()"
      ],
      "execution_count": 0,
      "outputs": [
        {
          "output_type": "execute_result",
          "data": {
            "text/plain": [
              "True     7272\n",
              "False    3389\n",
              "Name: labels, dtype: int64"
            ]
          },
          "metadata": {
            "tags": []
          },
          "execution_count": 54
        },
        {
          "output_type": "display_data",
          "data": {
            "image/png": "[encoded data removed]",
            "text/plain": [
              "<Figure size 432x288 with 1 Axes>"
            ]
          },
          "metadata": {
            "tags": [],
            "needs_background": "light"
          }
        }
      ]
    },
    {
      "cell_type": "code",
      "metadata": {
        "id": "s0QVE7-5BJ0e",
        "colab_type": "code",
        "outputId": "87201abe-3bf4-486b-bd44-2e888e8873be",
        "colab": {
          "base_uri": "https://localhost:8080/",
          "height": 357
        }
      },
      "source": [
        "plt.rcParams['figure.figsize'] = [10, 5]\n",
        "data_tr['subject_id'].value_counts().plot(kind = 'bar')\n",
        "plt.title(\"Subject Id distribution\")"
      ],
      "execution_count": 0,
      "outputs": [
        {
          "output_type": "execute_result",
          "data": {
            "text/plain": [
              "Text(0.5, 1.0, 'Subject Id distribution')"
            ]
          },
          "metadata": {
            "tags": []
          },
          "execution_count": 55
        },
        {
          "output_type": "display_data",
          "data": {
            "image/png": "[encoded data removed]",
            "text/plain": [
              "<Figure size 720x360 with 1 Axes>"
            ]
          },
          "metadata": {
            "tags": [],
            "needs_background": "light"
          }
        }
      ]
    },
    {
      "cell_type": "markdown",
      "metadata": {
        "id": "JAZ4q2zLKtlP",
        "colab_type": "text"
      },
      "source": [
        "# **Start here**"
      ]
    },
    {
      "cell_type": "code",
      "metadata": {
        "id": "KxyqxrhEBXSf",
        "colab_type": "code",
        "colab": {}
      },
      "source": [
        "import joblib\n",
        "\n",
        "X = joblib.load('/content/drive/My Drive/Colab Notebooks/XCan224.joblib')\n",
        "y = joblib.load('/content/drive/My Drive/Colab Notebooks/yCan224.joblib')"
      ],
      "execution_count": 0,
      "outputs": []
    },
    {
      "cell_type": "code",
      "metadata": {
        "id": "7cZXT5hDBnkQ",
        "colab_type": "code",
        "outputId": "f3c12721-1e02-4bbd-efc6-5bcc78b302cb",
        "colab": {
          "base_uri": "https://localhost:8080/",
          "height": 320
        }
      },
      "source": [
        "x_train, x_test, y_train, y_test = train_test_split(X, y, test_size = 0.2, random_state=42)\n",
        "\n",
        "y_train.value_counts().plot(kind = \"bar\")\n",
        "\n",
        "print(\"%age of label value 0 in training dataset\", \n",
        "      y_train.value_counts()[0]/(y_train.value_counts()[0]+y_train.value_counts()[1]))\n",
        "\n",
        "print(\"%age of label value 0 in test dataset\", \n",
        "      y_test.value_counts()[0]/(y_test.value_counts()[0]+y_test.value_counts()[1]))"
      ],
      "execution_count": 0,
      "outputs": [
        {
          "output_type": "stream",
          "text": [
            "%age of label value 0 in training dataset 0.31719043151969983\n",
            "%age of label value 0 in test dataset 0.3206751054852321\n"
          ],
          "name": "stdout"
        },
        {
          "output_type": "display_data",
          "data": {
            "image/png": "[encoded data removed]",
            "text/plain": [
              "<Figure size 432x288 with 1 Axes>"
            ]
          },
          "metadata": {
            "tags": [],
            "needs_background": "light"
          }
        }
      ]
    },
    {
      "cell_type": "code",
      "metadata": {
        "id": "cNgvMGXEDCsB",
        "colab_type": "code",
        "outputId": "6e72a74a-9d13-4cd4-eb44-14d42c17c9fa",
        "colab": {
          "base_uri": "https://localhost:8080/",
          "height": 300
        }
      },
      "source": [
        "y_test.value_counts().plot(kind = \"bar\")"
      ],
      "execution_count": 0,
      "outputs": [
        {
          "output_type": "execute_result",
          "data": {
            "text/plain": [
              "<matplotlib.axes._subplots.AxesSubplot at 0x7fe10cd92518>"
            ]
          },
          "metadata": {
            "tags": []
          },
          "execution_count": 8
        },
        {
          "output_type": "display_data",
          "data": {
            "image/png": "[encoded data removed]",
            "text/plain": [
              "<Figure size 432x288 with 1 Axes>"
            ]
          },
          "metadata": {
            "tags": [],
            "needs_background": "light"
          }
        }
      ]
    },
    {
      "cell_type": "code",
      "metadata": {
        "id": "tR1rYbwk4zcB",
        "colab_type": "code",
        "colab": {}
      },
      "source": [
        "x_train = np.asarray(x_train['image'].tolist())\n",
        "x_test = np.asarray(x_test['image'].tolist())"
      ],
      "execution_count": 0,
      "outputs": []
    },
    {
      "cell_type": "code",
      "metadata": {
        "id": "2BThKqalDE9r",
        "colab_type": "code",
        "colab": {}
      },
      "source": [
        "# Normalization\n",
        "\n",
        "x_train_mean = np.mean(x_train)\n",
        "x_test_mean = np.mean(x_test)\n",
        "\n",
        "x_train_std = np.std(x_train)\n",
        "x_test_std = np.std(x_test)\n",
        "\n",
        "x_train = (x_train - x_train_mean)/x_train_std\n",
        "x_test = (x_test - x_test_mean)/x_test_std\n",
        "\n",
        "y_dopetest = y_test\n",
        "# Label Encoding\n",
        "y_train = to_categorical(y_train, num_classes = 2)\n",
        "y_test = to_categorical(y_test, num_classes = 2)\n",
        "\n",
        "# Reshape images in 3 dimensions\n",
        "x_train = x_train.reshape(x_train.shape[0], *(224, 224, 3))\n",
        "x_test = x_test.reshape(x_test.shape[0], *(224, 224, 3))"
      ],
      "execution_count": 0,
      "outputs": []
    },
    {
      "cell_type": "code",
      "metadata": {
        "id": "_PIkJvVdDKZi",
        "colab_type": "code",
        "outputId": "ce8f7ce7-8903-4886-bee9-f229e23c960f",
        "colab": {
          "base_uri": "https://localhost:8080/",
          "height": 133
        }
      },
      "source": [
        "print (\"number of training examples = \" + str(x_train.shape[0]))\n",
        "print (\"number of test examples = \" + str(x_test.shape[0]))\n",
        "print (\"X_train shape: \" + str(x_train.shape))\n",
        "print (\"Y_train shape: \" + str(y_train.shape))\n",
        "print (\"X_test shape: \" + str(x_test.shape))\n",
        "print (\"Y_test shape: \" + str(y_test.shape))"
      ],
      "execution_count": 0,
      "outputs": [
        {
          "output_type": "stream",
          "text": [
            "number of training examples = 8528\n",
            "number of test examples = 2133\n",
            "X_train shape: (8528, 224, 224, 3)\n",
            "Y_train shape: (8528, 2)\n",
            "X_test shape: (2133, 224, 224, 3)\n",
            "Y_test shape: (2133, 2)\n"
          ],
          "name": "stdout"
        }
      ]
    },
    {
      "cell_type": "markdown",
      "metadata": {
        "id": "AeD-EP2Nbpm3",
        "colab_type": "text"
      },
      "source": [
        "# **CNN**"
      ]
    },
    {
      "cell_type": "code",
      "metadata": {
        "id": "IKgp3EdazfNh",
        "colab_type": "code",
        "colab": {}
      },
      "source": [
        "img_height,img_width = 224,224 \n",
        "num_classes = 2\n",
        "\n",
        "model = Sequential()\n",
        "\n",
        "model.add(Conv2D(128, (3,3), activation='relu', input_shape=(img_height, img_width, 3)))\n",
        "model.add(MaxPooling2D(2, 2))\n",
        "model.add(Conv2D(128, (3,3), activation='relu'))\n",
        "model.add(MaxPooling2D(2, 2))\n",
        "model.add(Dropout(0.2))\n",
        "\n",
        "model.add(Conv2D(265, (3,3), activation='relu'))\n",
        "model.add(MaxPooling2D(2, 2))\n",
        "model.add(Conv2D(265, (3,3), activation='relu'))\n",
        "model.add(MaxPooling2D(2, 2))\n",
        "model.add(Dropout(0.2))\n",
        "\n",
        "model.add(Conv2D(512, (3,3), activation='relu'))\n",
        "model.add(MaxPooling2D(2, 2))\n",
        "model.add(Dropout(0.2))\n",
        "\n",
        "model.add(Flatten())\n",
        "model.add(Dropout(0.9))\n",
        "model.add(Dense(1024, activation='relu'))\n",
        "model.add(Dropout(0.9))\n",
        "model.add(Dense(num_classes, activation='softmax'))"
      ],
      "execution_count": 0,
      "outputs": []
    },
    {
      "cell_type": "code",
      "metadata": {
        "id": "1xPUwoJPctHn",
        "colab_type": "code",
        "outputId": "423835ae-82cf-40a7-a279-74dcb147d1c4",
        "colab": {
          "base_uri": "https://localhost:8080/",
          "height": 862
        }
      },
      "source": [
        "model.summary()"
      ],
      "execution_count": 0,
      "outputs": [
        {
          "output_type": "stream",
          "text": [
            "Model: \"sequential_31\"\n",
            "_________________________________________________________________\n",
            "Layer (type)                 Output Shape              Param #   \n",
            "=================================================================\n",
            "conv2d_70 (Conv2D)           (None, 222, 222, 128)     3584      \n",
            "_________________________________________________________________\n",
            "max_pooling2d_64 (MaxPooling (None, 111, 111, 128)     0         \n",
            "_________________________________________________________________\n",
            "conv2d_71 (Conv2D)           (None, 109, 109, 128)     147584    \n",
            "_________________________________________________________________\n",
            "max_pooling2d_65 (MaxPooling (None, 54, 54, 128)       0         \n",
            "_________________________________________________________________\n",
            "dropout_78 (Dropout)         (None, 54, 54, 128)       0         \n",
            "_________________________________________________________________\n",
            "conv2d_72 (Conv2D)           (None, 52, 52, 265)       305545    \n",
            "_________________________________________________________________\n",
            "max_pooling2d_66 (MaxPooling (None, 26, 26, 265)       0         \n",
            "_________________________________________________________________\n",
            "conv2d_73 (Conv2D)           (None, 24, 24, 265)       632290    \n",
            "_________________________________________________________________\n",
            "max_pooling2d_67 (MaxPooling (None, 12, 12, 265)       0         \n",
            "_________________________________________________________________\n",
            "dropout_79 (Dropout)         (None, 12, 12, 265)       0         \n",
            "_________________________________________________________________\n",
            "conv2d_74 (Conv2D)           (None, 10, 10, 512)       1221632   \n",
            "_________________________________________________________________\n",
            "max_pooling2d_68 (MaxPooling (None, 5, 5, 512)         0         \n",
            "_________________________________________________________________\n",
            "dropout_80 (Dropout)         (None, 5, 5, 512)         0         \n",
            "_________________________________________________________________\n",
            "flatten_30 (Flatten)         (None, 12800)             0         \n",
            "_________________________________________________________________\n",
            "dropout_81 (Dropout)         (None, 12800)             0         \n",
            "_________________________________________________________________\n",
            "dense_56 (Dense)             (None, 1024)              13108224  \n",
            "_________________________________________________________________\n",
            "dropout_82 (Dropout)         (None, 1024)              0         \n",
            "_________________________________________________________________\n",
            "dense_57 (Dense)             (None, 2)                 2050      \n",
            "=================================================================\n",
            "Total params: 15,420,909\n",
            "Trainable params: 15,420,909\n",
            "Non-trainable params: 0\n",
            "_________________________________________________________________\n"
          ],
          "name": "stdout"
        }
      ]
    },
    {
      "cell_type": "code",
      "metadata": {
        "id": "nZi_IZ16cyZ-",
        "colab_type": "code",
        "colab": {}
      },
      "source": [
        "from keras.optimizers import SGD, Adam\n",
        "model.compile(optimizer=Adam(lr=0.0001), loss='categorical_crossentropy', metrics=['accuracy'])"
      ],
      "execution_count": 0,
      "outputs": []
    },
    {
      "cell_type": "code",
      "metadata": {
        "id": "4bIVU1O5c1cL",
        "colab_type": "code",
        "outputId": "7ce86e4c-0d72-4a52-df69-5bfc6cf3e608",
        "colab": {
          "base_uri": "https://localhost:8080/",
          "height": 1000
        }
      },
      "source": [
        "import tensorflow as tf\n",
        "with tf.device('/device:GPU:0'):\n",
        "  history = model.fit(x_train, y_train, validation_split=0.25, epochs=100, batch_size=32, verbose=1)"
      ],
      "execution_count": 0,
      "outputs": [
        {
          "output_type": "stream",
          "text": [
            "Train on 6396 samples, validate on 2132 samples\n",
            "Epoch 1/100\n",
            "6396/6396 [==============================] - 27s 4ms/step - loss: 0.6437 - accuracy: 0.6757 - val_loss: 0.6001 - val_accuracy: 0.6731\n",
            "Epoch 2/100\n",
            "6396/6396 [==============================] - 25s 4ms/step - loss: 0.5456 - accuracy: 0.7205 - val_loss: 0.5050 - val_accuracy: 0.8133\n",
            "Epoch 3/100\n",
            "6396/6396 [==============================] - 25s 4ms/step - loss: 0.5065 - accuracy: 0.7774 - val_loss: 0.4841 - val_accuracy: 0.8124\n",
            "Epoch 4/100\n",
            "6396/6396 [==============================] - 25s 4ms/step - loss: 0.4926 - accuracy: 0.7842 - val_loss: 0.4474 - val_accuracy: 0.8152\n",
            "Epoch 5/100\n",
            "6396/6396 [==============================] - 25s 4ms/step - loss: 0.4848 - accuracy: 0.7899 - val_loss: 0.4468 - val_accuracy: 0.8185\n",
            "Epoch 6/100\n",
            "6396/6396 [==============================] - 25s 4ms/step - loss: 0.4795 - accuracy: 0.7900 - val_loss: 0.4417 - val_accuracy: 0.8063\n",
            "Epoch 7/100\n",
            "6396/6396 [==============================] - 25s 4ms/step - loss: 0.4721 - accuracy: 0.7988 - val_loss: 0.4572 - val_accuracy: 0.8260\n",
            "Epoch 8/100\n",
            "6396/6396 [==============================] - 25s 4ms/step - loss: 0.4615 - accuracy: 0.8047 - val_loss: 0.5009 - val_accuracy: 0.8011\n",
            "Epoch 9/100\n",
            "6396/6396 [==============================] - 25s 4ms/step - loss: 0.4487 - accuracy: 0.8130 - val_loss: 0.4224 - val_accuracy: 0.8232\n",
            "Epoch 10/100\n",
            "6396/6396 [==============================] - 25s 4ms/step - loss: 0.4464 - accuracy: 0.8146 - val_loss: 0.4160 - val_accuracy: 0.8480\n",
            "Epoch 11/100\n",
            "6396/6396 [==============================] - 25s 4ms/step - loss: 0.4416 - accuracy: 0.8104 - val_loss: 0.4703 - val_accuracy: 0.8297\n",
            "Epoch 12/100\n",
            "6396/6396 [==============================] - 25s 4ms/step - loss: 0.4212 - accuracy: 0.8199 - val_loss: 0.3764 - val_accuracy: 0.8523\n",
            "Epoch 13/100\n",
            "6396/6396 [==============================] - 25s 4ms/step - loss: 0.4189 - accuracy: 0.8227 - val_loss: 0.3722 - val_accuracy: 0.8546\n",
            "Epoch 14/100\n",
            "6396/6396 [==============================] - 25s 4ms/step - loss: 0.4133 - accuracy: 0.8261 - val_loss: 0.3817 - val_accuracy: 0.8508\n",
            "Epoch 15/100\n",
            "6396/6396 [==============================] - 25s 4ms/step - loss: 0.4005 - accuracy: 0.8321 - val_loss: 0.4207 - val_accuracy: 0.8311\n",
            "Epoch 16/100\n",
            "6396/6396 [==============================] - 25s 4ms/step - loss: 0.3901 - accuracy: 0.8404 - val_loss: 0.3550 - val_accuracy: 0.8565\n",
            "Epoch 17/100\n",
            "6396/6396 [==============================] - 25s 4ms/step - loss: 0.3787 - accuracy: 0.8424 - val_loss: 0.3415 - val_accuracy: 0.8682\n",
            "Epoch 18/100\n",
            "6396/6396 [==============================] - 25s 4ms/step - loss: 0.3710 - accuracy: 0.8455 - val_loss: 0.3399 - val_accuracy: 0.8696\n",
            "Epoch 19/100\n",
            "6396/6396 [==============================] - 25s 4ms/step - loss: 0.3639 - accuracy: 0.8501 - val_loss: 0.3764 - val_accuracy: 0.8612\n",
            "Epoch 20/100\n",
            "6396/6396 [==============================] - 25s 4ms/step - loss: 0.3561 - accuracy: 0.8562 - val_loss: 0.3234 - val_accuracy: 0.8780\n",
            "Epoch 21/100\n",
            "6396/6396 [==============================] - 25s 4ms/step - loss: 0.3497 - accuracy: 0.8580 - val_loss: 0.3499 - val_accuracy: 0.8734\n",
            "Epoch 22/100\n",
            "6396/6396 [==============================] - 25s 4ms/step - loss: 0.3376 - accuracy: 0.8601 - val_loss: 0.3081 - val_accuracy: 0.8748\n",
            "Epoch 23/100\n",
            "6396/6396 [==============================] - 25s 4ms/step - loss: 0.3314 - accuracy: 0.8652 - val_loss: 0.3006 - val_accuracy: 0.8780\n",
            "Epoch 24/100\n",
            "6396/6396 [==============================] - 25s 4ms/step - loss: 0.3132 - accuracy: 0.8743 - val_loss: 0.3353 - val_accuracy: 0.8762\n",
            "Epoch 25/100\n",
            "6396/6396 [==============================] - 25s 4ms/step - loss: 0.3154 - accuracy: 0.8746 - val_loss: 0.3032 - val_accuracy: 0.8729\n",
            "Epoch 26/100\n",
            "6396/6396 [==============================] - 25s 4ms/step - loss: 0.2974 - accuracy: 0.8816 - val_loss: 0.2779 - val_accuracy: 0.8973\n",
            "Epoch 27/100\n",
            "6396/6396 [==============================] - 25s 4ms/step - loss: 0.2994 - accuracy: 0.8795 - val_loss: 0.2728 - val_accuracy: 0.8945\n",
            "Epoch 28/100\n",
            "6396/6396 [==============================] - 25s 4ms/step - loss: 0.2872 - accuracy: 0.8877 - val_loss: 0.3273 - val_accuracy: 0.8673\n",
            "Epoch 29/100\n",
            "6396/6396 [==============================] - 25s 4ms/step - loss: 0.2805 - accuracy: 0.8884 - val_loss: 0.2542 - val_accuracy: 0.9001\n",
            "Epoch 30/100\n",
            "6396/6396 [==============================] - 25s 4ms/step - loss: 0.2720 - accuracy: 0.8923 - val_loss: 0.2617 - val_accuracy: 0.8968\n",
            "Epoch 31/100\n",
            "6396/6396 [==============================] - 25s 4ms/step - loss: 0.2676 - accuracy: 0.8973 - val_loss: 0.2508 - val_accuracy: 0.9029\n",
            "Epoch 32/100\n",
            "6396/6396 [==============================] - 25s 4ms/step - loss: 0.2596 - accuracy: 0.9028 - val_loss: 0.2571 - val_accuracy: 0.9034\n",
            "Epoch 33/100\n",
            "6396/6396 [==============================] - 25s 4ms/step - loss: 0.2626 - accuracy: 0.8959 - val_loss: 0.3665 - val_accuracy: 0.8476\n",
            "Epoch 34/100\n",
            "6396/6396 [==============================] - 25s 4ms/step - loss: 0.2505 - accuracy: 0.9057 - val_loss: 0.2430 - val_accuracy: 0.9076\n",
            "Epoch 35/100\n",
            "6396/6396 [==============================] - 25s 4ms/step - loss: 0.2352 - accuracy: 0.9123 - val_loss: 0.2473 - val_accuracy: 0.9048\n",
            "Epoch 36/100\n",
            "6396/6396 [==============================] - 25s 4ms/step - loss: 0.2413 - accuracy: 0.9045 - val_loss: 0.2498 - val_accuracy: 0.9062\n",
            "Epoch 37/100\n",
            "6396/6396 [==============================] - 25s 4ms/step - loss: 0.2239 - accuracy: 0.9149 - val_loss: 0.2550 - val_accuracy: 0.9029\n",
            "Epoch 38/100\n",
            "6396/6396 [==============================] - 25s 4ms/step - loss: 0.2233 - accuracy: 0.9145 - val_loss: 0.3332 - val_accuracy: 0.8705\n",
            "Epoch 39/100\n",
            "6396/6396 [==============================] - 25s 4ms/step - loss: 0.2178 - accuracy: 0.9210 - val_loss: 0.2338 - val_accuracy: 0.9095\n",
            "Epoch 40/100\n",
            "6396/6396 [==============================] - 25s 4ms/step - loss: 0.2093 - accuracy: 0.9256 - val_loss: 0.2457 - val_accuracy: 0.9038\n",
            "Epoch 41/100\n",
            "6396/6396 [==============================] - 25s 4ms/step - loss: 0.2023 - accuracy: 0.9215 - val_loss: 0.2424 - val_accuracy: 0.9104\n",
            "Epoch 42/100\n",
            "6396/6396 [==============================] - 25s 4ms/step - loss: 0.1992 - accuracy: 0.9254 - val_loss: 0.2498 - val_accuracy: 0.9053\n",
            "Epoch 43/100\n",
            "6396/6396 [==============================] - 25s 4ms/step - loss: 0.1929 - accuracy: 0.9289 - val_loss: 0.2504 - val_accuracy: 0.9057\n",
            "Epoch 44/100\n",
            "6396/6396 [==============================] - 25s 4ms/step - loss: 0.1981 - accuracy: 0.9237 - val_loss: 0.2289 - val_accuracy: 0.9170\n",
            "Epoch 45/100\n",
            "6396/6396 [==============================] - 25s 4ms/step - loss: 0.1814 - accuracy: 0.9295 - val_loss: 0.2213 - val_accuracy: 0.9179\n",
            "Epoch 46/100\n",
            "6396/6396 [==============================] - 25s 4ms/step - loss: 0.1801 - accuracy: 0.9326 - val_loss: 0.2338 - val_accuracy: 0.9128\n",
            "Epoch 47/100\n",
            "6396/6396 [==============================] - 25s 4ms/step - loss: 0.1646 - accuracy: 0.9382 - val_loss: 0.2381 - val_accuracy: 0.9146\n",
            "Epoch 48/100\n",
            "6396/6396 [==============================] - 25s 4ms/step - loss: 0.1650 - accuracy: 0.9396 - val_loss: 0.3074 - val_accuracy: 0.8879\n",
            "Epoch 49/100\n",
            "6396/6396 [==============================] - 25s 4ms/step - loss: 0.1491 - accuracy: 0.9422 - val_loss: 0.2923 - val_accuracy: 0.8935\n",
            "Epoch 50/100\n",
            "6396/6396 [==============================] - 25s 4ms/step - loss: 0.1531 - accuracy: 0.9442 - val_loss: 0.2747 - val_accuracy: 0.8996\n",
            "Epoch 51/100\n",
            "6396/6396 [==============================] - 25s 4ms/step - loss: 0.1384 - accuracy: 0.9478 - val_loss: 0.2206 - val_accuracy: 0.9165\n",
            "Epoch 52/100\n",
            "6396/6396 [==============================] - 25s 4ms/step - loss: 0.1289 - accuracy: 0.9517 - val_loss: 0.2313 - val_accuracy: 0.9235\n",
            "Epoch 53/100\n",
            "6396/6396 [==============================] - 25s 4ms/step - loss: 0.1270 - accuracy: 0.9550 - val_loss: 0.2309 - val_accuracy: 0.9151\n",
            "Epoch 54/100\n",
            "6396/6396 [==============================] - 25s 4ms/step - loss: 0.1170 - accuracy: 0.9567 - val_loss: 0.2593 - val_accuracy: 0.9090\n",
            "Epoch 55/100\n",
            "6396/6396 [==============================] - 25s 4ms/step - loss: 0.1198 - accuracy: 0.9564 - val_loss: 0.2360 - val_accuracy: 0.9142\n",
            "Epoch 56/100\n",
            "6396/6396 [==============================] - 25s 4ms/step - loss: 0.1087 - accuracy: 0.9593 - val_loss: 0.2308 - val_accuracy: 0.9240\n",
            "Epoch 57/100\n",
            "6396/6396 [==============================] - 25s 4ms/step - loss: 0.1086 - accuracy: 0.9601 - val_loss: 0.2212 - val_accuracy: 0.9226\n",
            "Epoch 58/100\n",
            "6396/6396 [==============================] - 25s 4ms/step - loss: 0.0935 - accuracy: 0.9639 - val_loss: 0.2621 - val_accuracy: 0.9104\n",
            "Epoch 59/100\n",
            "6396/6396 [==============================] - 25s 4ms/step - loss: 0.0970 - accuracy: 0.9647 - val_loss: 0.2959 - val_accuracy: 0.8973\n",
            "Epoch 60/100\n",
            "6396/6396 [==============================] - 25s 4ms/step - loss: 0.0929 - accuracy: 0.9648 - val_loss: 0.2717 - val_accuracy: 0.9193\n",
            "Epoch 61/100\n",
            "6396/6396 [==============================] - 25s 4ms/step - loss: 0.0946 - accuracy: 0.9667 - val_loss: 0.2856 - val_accuracy: 0.9128\n",
            "Epoch 62/100\n",
            "6396/6396 [==============================] - 25s 4ms/step - loss: 0.0734 - accuracy: 0.9742 - val_loss: 0.2393 - val_accuracy: 0.9221\n",
            "Epoch 63/100\n",
            "6396/6396 [==============================] - 25s 4ms/step - loss: 0.0799 - accuracy: 0.9701 - val_loss: 0.2348 - val_accuracy: 0.9240\n",
            "Epoch 64/100\n",
            "6396/6396 [==============================] - 25s 4ms/step - loss: 0.0653 - accuracy: 0.9758 - val_loss: 0.2475 - val_accuracy: 0.9212\n",
            "Epoch 65/100\n",
            "6396/6396 [==============================] - 25s 4ms/step - loss: 0.0742 - accuracy: 0.9737 - val_loss: 0.2669 - val_accuracy: 0.9160\n",
            "Epoch 66/100\n",
            "6396/6396 [==============================] - 25s 4ms/step - loss: 0.0680 - accuracy: 0.9773 - val_loss: 0.2877 - val_accuracy: 0.9071\n",
            "Epoch 67/100\n",
            "6396/6396 [==============================] - 25s 4ms/step - loss: 0.0438 - accuracy: 0.9875 - val_loss: 0.2879 - val_accuracy: 0.9273\n",
            "Epoch 68/100\n",
            "6396/6396 [==============================] - 25s 4ms/step - loss: 0.0628 - accuracy: 0.9773 - val_loss: 0.2719 - val_accuracy: 0.9250\n",
            "Epoch 69/100\n",
            "6396/6396 [==============================] - 25s 4ms/step - loss: 0.0605 - accuracy: 0.9761 - val_loss: 0.2650 - val_accuracy: 0.9264\n",
            "Epoch 70/100\n",
            "6396/6396 [==============================] - 25s 4ms/step - loss: 0.0595 - accuracy: 0.9786 - val_loss: 0.3233 - val_accuracy: 0.9118\n",
            "Epoch 71/100\n",
            "6396/6396 [==============================] - 25s 4ms/step - loss: 0.0521 - accuracy: 0.9795 - val_loss: 0.3533 - val_accuracy: 0.9043\n",
            "Epoch 72/100\n",
            "6396/6396 [==============================] - 25s 4ms/step - loss: 0.0517 - accuracy: 0.9820 - val_loss: 0.2982 - val_accuracy: 0.9245\n",
            "Epoch 73/100\n",
            "6396/6396 [==============================] - 25s 4ms/step - loss: 0.0479 - accuracy: 0.9834 - val_loss: 0.2760 - val_accuracy: 0.9221\n",
            "Epoch 74/100\n",
            "6396/6396 [==============================] - 25s 4ms/step - loss: 0.0400 - accuracy: 0.9855 - val_loss: 0.3426 - val_accuracy: 0.9020\n",
            "Epoch 75/100\n",
            "6396/6396 [==============================] - 25s 4ms/step - loss: 0.0514 - accuracy: 0.9823 - val_loss: 0.3526 - val_accuracy: 0.9057\n",
            "Epoch 76/100\n",
            "6396/6396 [==============================] - 25s 4ms/step - loss: 0.0397 - accuracy: 0.9845 - val_loss: 0.3194 - val_accuracy: 0.9221\n",
            "Epoch 77/100\n",
            "6396/6396 [==============================] - 25s 4ms/step - loss: 0.0438 - accuracy: 0.9848 - val_loss: 0.3215 - val_accuracy: 0.9114\n",
            "Epoch 78/100\n",
            "6396/6396 [==============================] - 25s 4ms/step - loss: 0.0479 - accuracy: 0.9825 - val_loss: 0.3517 - val_accuracy: 0.8954\n",
            "Epoch 79/100\n",
            "6396/6396 [==============================] - 25s 4ms/step - loss: 0.0591 - accuracy: 0.9789 - val_loss: 0.2897 - val_accuracy: 0.9198\n",
            "Epoch 80/100\n",
            "6396/6396 [==============================] - 25s 4ms/step - loss: 0.0335 - accuracy: 0.9880 - val_loss: 0.3604 - val_accuracy: 0.9174\n",
            "Epoch 81/100\n",
            "6396/6396 [==============================] - 25s 4ms/step - loss: 0.0316 - accuracy: 0.9892 - val_loss: 0.3339 - val_accuracy: 0.9231\n",
            "Epoch 82/100\n",
            "6396/6396 [==============================] - 25s 4ms/step - loss: 0.0293 - accuracy: 0.9898 - val_loss: 0.4098 - val_accuracy: 0.9146\n",
            "Epoch 83/100\n",
            "6396/6396 [==============================] - 25s 4ms/step - loss: 0.0244 - accuracy: 0.9909 - val_loss: 0.3213 - val_accuracy: 0.9245\n",
            "Epoch 84/100\n",
            "6396/6396 [==============================] - 25s 4ms/step - loss: 0.0328 - accuracy: 0.9891 - val_loss: 0.3064 - val_accuracy: 0.9207\n",
            "Epoch 85/100\n",
            "6396/6396 [==============================] - 25s 4ms/step - loss: 0.0480 - accuracy: 0.9801 - val_loss: 0.3326 - val_accuracy: 0.9132\n",
            "Epoch 86/100\n",
            "6396/6396 [==============================] - 25s 4ms/step - loss: 0.0396 - accuracy: 0.9866 - val_loss: 0.3528 - val_accuracy: 0.9226\n",
            "Epoch 87/100\n",
            "6396/6396 [==============================] - 25s 4ms/step - loss: 0.0300 - accuracy: 0.9892 - val_loss: 0.3655 - val_accuracy: 0.9057\n",
            "Epoch 88/100\n",
            "6396/6396 [==============================] - 25s 4ms/step - loss: 0.0389 - accuracy: 0.9859 - val_loss: 0.3148 - val_accuracy: 0.9306\n",
            "Epoch 89/100\n",
            "6396/6396 [==============================] - 25s 4ms/step - loss: 0.0277 - accuracy: 0.9898 - val_loss: 0.3965 - val_accuracy: 0.9076\n",
            "Epoch 90/100\n",
            "6396/6396 [==============================] - 25s 4ms/step - loss: 0.0348 - accuracy: 0.9883 - val_loss: 0.4172 - val_accuracy: 0.9071\n",
            "Epoch 91/100\n",
            "6396/6396 [==============================] - 25s 4ms/step - loss: 0.0284 - accuracy: 0.9902 - val_loss: 0.3399 - val_accuracy: 0.9076\n",
            "Epoch 92/100\n",
            "6396/6396 [==============================] - 25s 4ms/step - loss: 0.0316 - accuracy: 0.9892 - val_loss: 0.3851 - val_accuracy: 0.9189\n",
            "Epoch 93/100\n",
            "6396/6396 [==============================] - 25s 4ms/step - loss: 0.0325 - accuracy: 0.9891 - val_loss: 0.3363 - val_accuracy: 0.9198\n",
            "Epoch 94/100\n",
            "6396/6396 [==============================] - 25s 4ms/step - loss: 0.0272 - accuracy: 0.9902 - val_loss: 0.3747 - val_accuracy: 0.9226\n",
            "Epoch 95/100\n",
            "6396/6396 [==============================] - 25s 4ms/step - loss: 0.0385 - accuracy: 0.9853 - val_loss: 0.3634 - val_accuracy: 0.9128\n",
            "Epoch 96/100\n",
            "6396/6396 [==============================] - 25s 4ms/step - loss: 0.0276 - accuracy: 0.9906 - val_loss: 0.3923 - val_accuracy: 0.9203\n",
            "Epoch 97/100\n",
            "6396/6396 [==============================] - 25s 4ms/step - loss: 0.0144 - accuracy: 0.9953 - val_loss: 0.4347 - val_accuracy: 0.9146\n",
            "Epoch 98/100\n",
            "6396/6396 [==============================] - 25s 4ms/step - loss: 0.0417 - accuracy: 0.9876 - val_loss: 0.3590 - val_accuracy: 0.9174\n",
            "Epoch 99/100\n",
            "6396/6396 [==============================] - 25s 4ms/step - loss: 0.0424 - accuracy: 0.9848 - val_loss: 0.3339 - val_accuracy: 0.9212\n",
            "Epoch 100/100\n",
            "6396/6396 [==============================] - 25s 4ms/step - loss: 0.0322 - accuracy: 0.9891 - val_loss: 0.3760 - val_accuracy: 0.9151\n"
          ],
          "name": "stdout"
        }
      ]
    },
    {
      "cell_type": "code",
      "metadata": {
        "id": "ta5Ocqcj3CzF",
        "colab_type": "code",
        "outputId": "d80a7b71-d7df-489d-dfe1-eae04c9661ab",
        "colab": {
          "base_uri": "https://localhost:8080/",
          "height": 75
        }
      },
      "source": [
        "preds = model.evaluate(x_test, y_test)\n",
        "print (\"Loss = \" + str(preds[0]))\n",
        "print (\"Test Accuracy = \" + str(preds[1]))"
      ],
      "execution_count": 0,
      "outputs": [
        {
          "output_type": "stream",
          "text": [
            "2133/2133 [==============================] - 2s 1ms/step\n",
            "Loss = 0.31310481709797955\n",
            "Test Accuracy = 0.8781059384346008\n"
          ],
          "name": "stdout"
        }
      ]
    },
    {
      "cell_type": "code",
      "metadata": {
        "id": "khndE1-X3CxC",
        "colab_type": "code",
        "outputId": "d8d8b646-b2df-47f6-b9fc-765133a8ec7f",
        "colab": {
          "base_uri": "https://localhost:8080/",
          "height": 295
        }
      },
      "source": [
        "plt.plot(history.history['loss'])\n",
        "plt.plot(history.history['val_loss'])\n",
        "plt.title('model loss')\n",
        "plt.ylabel('loss')\n",
        "plt.xlabel('epoch')\n",
        "plt.legend(['train', 'test'], loc='upper left')\n",
        "plt.show()"
      ],
      "execution_count": 0,
      "outputs": [
        {
          "output_type": "display_data",
          "data": {
            "image/png": "[encoded data removed]",
            "text/plain": [
              "<Figure size 432x288 with 1 Axes>"
            ]
          },
          "metadata": {
            "tags": [],
            "needs_background": "light"
          }
        }
      ]
    },
    {
      "cell_type": "code",
      "metadata": {
        "id": "c1qTKz5t3Cs3",
        "colab_type": "code",
        "outputId": "d2f0293b-29b9-4e5d-c33a-8d184eb2bd82",
        "colab": {
          "base_uri": "https://localhost:8080/",
          "height": 295
        }
      },
      "source": [
        "plt.plot(history.history['accuracy'])\n",
        "plt.plot(history.history['val_accuracy'])\n",
        "plt.title('model accuracy')\n",
        "plt.ylabel('acc')\n",
        "plt.xlabel('epoch')\n",
        "plt.legend(['train', 'test'], loc='upper left')\n",
        "plt.show()"
      ],
      "execution_count": 0,
      "outputs": [
        {
          "output_type": "display_data",
          "data": {
            "image/png": "[encoded data removed]",
            "text/plain": [
              "<Figure size 432x288 with 1 Axes>"
            ]
          },
          "metadata": {
            "tags": [],
            "needs_background": "light"
          }
        }
      ]
    },
    {
      "cell_type": "code",
      "metadata": {
        "id": "NqwQasVt3Cos",
        "colab_type": "code",
        "colab": {}
      },
      "source": [
        "predictions = model.predict(x_test)\n",
        "p = predictions.round()\n",
        "y_pred = np.argmax(p, axis=1)\n",
        "newY_test = np.argmax(y_test, axis=1)"
      ],
      "execution_count": 0,
      "outputs": []
    },
    {
      "cell_type": "code",
      "metadata": {
        "id": "iqtmvw9p3Cmp",
        "colab_type": "code",
        "outputId": "e5ccd392-0778-403f-a7ca-c74db22d0a89",
        "colab": {
          "base_uri": "https://localhost:8080/",
          "height": 190
        }
      },
      "source": [
        "from sklearn.metrics import classification_report\n",
        "report = classification_report(newY_test, y_pred)\n",
        "print(report)"
      ],
      "execution_count": 0,
      "outputs": [
        {
          "output_type": "stream",
          "text": [
            "              precision    recall  f1-score   support\n",
            "\n",
            "           0       0.88      0.83      0.86       684\n",
            "           1       0.92      0.95      0.94      1449\n",
            "\n",
            "    accuracy                           0.91      2133\n",
            "   macro avg       0.90      0.89      0.90      2133\n",
            "weighted avg       0.91      0.91      0.91      2133\n",
            "\n"
          ],
          "name": "stdout"
        }
      ]
    },
    {
      "cell_type": "code",
      "metadata": {
        "id": "ULHZICHL3Cj7",
        "colab_type": "code",
        "outputId": "ca60522a-c0eb-4d9e-8b3c-0e2222fc2603",
        "colab": {
          "base_uri": "https://localhost:8080/",
          "height": 486
        }
      },
      "source": [
        "from sklearn.metrics import confusion_matrix\n",
        "matrix = confusion_matrix(newY_test, y_pred)\n",
        "import seaborn as sn\n",
        "import pandas as pd\n",
        "df_cm = pd.DataFrame(matrix,index = [i for i in range(2)],columns = [i for i in range(2)])\n",
        "plt.figure(figsize = (9,7))\n",
        "sn.heatmap(df_cm, annot=True, fmt=\"d\")"
      ],
      "execution_count": 0,
      "outputs": [
        {
          "output_type": "stream",
          "text": [
            "/usr/local/lib/python3.6/dist-packages/statsmodels/tools/_testing.py:19: FutureWarning: pandas.util.testing is deprecated. Use the functions in the public API at pandas.testing instead.\n",
            "  import pandas.util.testing as tm\n"
          ],
          "name": "stderr"
        },
        {
          "output_type": "execute_result",
          "data": {
            "text/plain": [
              "<matplotlib.axes._subplots.AxesSubplot at 0x7f9dc0dfbe48>"
            ]
          },
          "metadata": {
            "tags": []
          },
          "execution_count": 126
        },
        {
          "output_type": "display_data",
          "data": {
            "image/png": "[encoded data removed]",
            "text/plain": [
              "<Figure size 648x504 with 2 Axes>"
            ]
          },
          "metadata": {
            "tags": [],
            "needs_background": "light"
          }
        }
      ]
    },
    {
      "cell_type": "code",
      "metadata": {
        "id": "d7fDWOLM3CV8",
        "colab_type": "code",
        "colab": {}
      },
      "source": [
        ""
      ],
      "execution_count": 0,
      "outputs": []
    },
    {
      "cell_type": "markdown",
      "metadata": {
        "colab_type": "text",
        "id": "6Tbb_xGfzfyk"
      },
      "source": [
        "## ***ResNet152***"
      ]
    },
    {
      "cell_type": "code",
      "metadata": {
        "colab_type": "code",
        "id": "4UwkN1b7zfyp",
        "colab": {}
      },
      "source": [
        "img_height,img_width = 224,224 \n",
        "num_classes = 2\n",
        "#If imagenet weights are being loaded, \n",
        "#input must have a static square shape (one of (128, 128), (160, 160), (192, 192), or (224, 224))\n",
        "base_model = applications.resnet_v2.ResNet152V2(weights= None, include_top=False, input_shape= (img_height,img_width,3))"
      ],
      "execution_count": 0,
      "outputs": []
    },
    {
      "cell_type": "code",
      "metadata": {
        "colab_type": "code",
        "id": "Y-ZYOI4-zfzA",
        "colab": {}
      },
      "source": [
        "x = base_model.output\n",
        "x = GlobalAveragePooling2D()(x)\n",
        "x = Dropout(0.9)(x)\n",
        "predictions = Dense(num_classes, activation= 'softmax')(x)\n",
        "model = Model(inputs = base_model.input, outputs = predictions)"
      ],
      "execution_count": 0,
      "outputs": []
    },
    {
      "cell_type": "code",
      "metadata": {
        "colab_type": "code",
        "id": "5e_a4goFzfzR",
        "colab": {}
      },
      "source": [
        "from keras.optimizers import SGD, Adam\n",
        "# sgd = SGD(lr=lrate, momentum=0.9, decay=decay, nesterov=False)\n",
        "adam = Adam(lr=0.0001)\n",
        "model.compile(optimizer= adam, loss='categorical_crossentropy', metrics=['accuracy'])"
      ],
      "execution_count": 0,
      "outputs": []
    },
    {
      "cell_type": "code",
      "metadata": {
        "colab_type": "code",
        "outputId": "9162466d-33ae-445a-ab75-458956f79425",
        "id": "6OasvKr0zfzc",
        "colab": {
          "base_uri": "https://localhost:8080/",
          "height": 1000
        }
      },
      "source": [
        "import tensorflow as tf\n",
        "with tf.device('/device:GPU:0'):     \n",
        "    history = model.fit(x_train, y_train, validation_split=0.25, epochs = 50, batch_size = 32)"
      ],
      "execution_count": 0,
      "outputs": [
        {
          "output_type": "stream",
          "text": [
            "Train on 6396 samples, validate on 2132 samples\n",
            "Epoch 1/50\n",
            "6396/6396 [==============================] - 227s 35ms/step - loss: 0.7880 - accuracy: 0.7033 - val_loss: 5.7705 - val_accuracy: 0.3288\n",
            "Epoch 2/50\n",
            "6396/6396 [==============================] - 160s 25ms/step - loss: 0.5949 - accuracy: 0.7730 - val_loss: 0.4709 - val_accuracy: 0.7885\n",
            "Epoch 3/50\n",
            "6396/6396 [==============================] - 160s 25ms/step - loss: 0.4777 - accuracy: 0.8194 - val_loss: 0.5825 - val_accuracy: 0.7871\n",
            "Epoch 4/50\n",
            "6396/6396 [==============================] - 160s 25ms/step - loss: 0.4280 - accuracy: 0.8402 - val_loss: 0.4890 - val_accuracy: 0.7627\n",
            "Epoch 5/50\n",
            "6396/6396 [==============================] - 160s 25ms/step - loss: 0.3863 - accuracy: 0.8429 - val_loss: 1.9712 - val_accuracy: 0.7763\n",
            "Epoch 6/50\n",
            "6396/6396 [==============================] - 160s 25ms/step - loss: 0.3193 - accuracy: 0.8732 - val_loss: 1.0238 - val_accuracy: 0.6074\n",
            "Epoch 7/50\n",
            "6396/6396 [==============================] - 160s 25ms/step - loss: 0.2984 - accuracy: 0.8816 - val_loss: 0.6262 - val_accuracy: 0.7186\n",
            "Epoch 8/50\n",
            "6396/6396 [==============================] - 160s 25ms/step - loss: 0.2786 - accuracy: 0.8909 - val_loss: 0.4407 - val_accuracy: 0.8433\n",
            "Epoch 9/50\n",
            "6396/6396 [==============================] - 160s 25ms/step - loss: 0.2423 - accuracy: 0.9034 - val_loss: 0.3538 - val_accuracy: 0.8579\n",
            "Epoch 10/50\n",
            "6396/6396 [==============================] - 161s 25ms/step - loss: 0.2677 - accuracy: 0.8957 - val_loss: 0.4257 - val_accuracy: 0.8405\n",
            "Epoch 11/50\n",
            "6396/6396 [==============================] - 160s 25ms/step - loss: 0.2363 - accuracy: 0.9081 - val_loss: 0.5698 - val_accuracy: 0.7500\n",
            "Epoch 12/50\n",
            "6396/6396 [==============================] - 160s 25ms/step - loss: 0.1955 - accuracy: 0.9229 - val_loss: 0.4833 - val_accuracy: 0.8110\n",
            "Epoch 13/50\n",
            "6396/6396 [==============================] - 161s 25ms/step - loss: 0.1547 - accuracy: 0.9393 - val_loss: 2.1985 - val_accuracy: 0.6998\n",
            "Epoch 14/50\n",
            "6396/6396 [==============================] - 160s 25ms/step - loss: 0.1567 - accuracy: 0.9409 - val_loss: 0.4497 - val_accuracy: 0.8593\n",
            "Epoch 15/50\n",
            "6396/6396 [==============================] - 160s 25ms/step - loss: 0.1311 - accuracy: 0.9472 - val_loss: 2.3338 - val_accuracy: 0.4625\n",
            "Epoch 16/50\n",
            "6396/6396 [==============================] - 160s 25ms/step - loss: 0.1444 - accuracy: 0.9465 - val_loss: 0.4653 - val_accuracy: 0.8616\n",
            "Epoch 17/50\n",
            "6396/6396 [==============================] - 160s 25ms/step - loss: 0.1004 - accuracy: 0.9628 - val_loss: 0.8375 - val_accuracy: 0.7772\n",
            "Epoch 18/50\n",
            "6396/6396 [==============================] - 160s 25ms/step - loss: 0.1202 - accuracy: 0.9553 - val_loss: 1.7866 - val_accuracy: 0.6337\n",
            "Epoch 19/50\n",
            "6396/6396 [==============================] - 160s 25ms/step - loss: 0.1195 - accuracy: 0.9545 - val_loss: 0.4285 - val_accuracy: 0.8466\n",
            "Epoch 20/50\n",
            "6396/6396 [==============================] - 161s 25ms/step - loss: 0.0919 - accuracy: 0.9640 - val_loss: 1.0346 - val_accuracy: 0.7115\n",
            "Epoch 21/50\n",
            "6396/6396 [==============================] - 161s 25ms/step - loss: 0.0956 - accuracy: 0.9640 - val_loss: 1.0212 - val_accuracy: 0.7875\n",
            "Epoch 22/50\n",
            "6396/6396 [==============================] - 160s 25ms/step - loss: 0.0925 - accuracy: 0.9615 - val_loss: 1.5751 - val_accuracy: 0.7397\n",
            "Epoch 23/50\n",
            "6396/6396 [==============================] - 161s 25ms/step - loss: 0.0994 - accuracy: 0.9637 - val_loss: 0.4619 - val_accuracy: 0.8743\n",
            "Epoch 24/50\n",
            "6396/6396 [==============================] - 161s 25ms/step - loss: 0.0760 - accuracy: 0.9722 - val_loss: 0.6093 - val_accuracy: 0.8372\n",
            "Epoch 25/50\n",
            "6396/6396 [==============================] - 161s 25ms/step - loss: 0.0949 - accuracy: 0.9637 - val_loss: 0.4087 - val_accuracy: 0.8959\n",
            "Epoch 26/50\n",
            "6396/6396 [==============================] - 161s 25ms/step - loss: 0.0700 - accuracy: 0.9745 - val_loss: 0.6345 - val_accuracy: 0.8405\n",
            "Epoch 27/50\n",
            "6396/6396 [==============================] - 161s 25ms/step - loss: 0.0783 - accuracy: 0.9719 - val_loss: 1.3701 - val_accuracy: 0.6731\n",
            "Epoch 28/50\n",
            "6396/6396 [==============================] - 161s 25ms/step - loss: 0.0755 - accuracy: 0.9742 - val_loss: 20.8655 - val_accuracy: 0.7101\n",
            "Epoch 29/50\n",
            "6396/6396 [==============================] - 161s 25ms/step - loss: 0.0775 - accuracy: 0.9719 - val_loss: 1.0744 - val_accuracy: 0.6998\n",
            "Epoch 30/50\n",
            "6396/6396 [==============================] - 161s 25ms/step - loss: 0.0560 - accuracy: 0.9814 - val_loss: 0.7724 - val_accuracy: 0.8705\n",
            "Epoch 31/50\n",
            "6396/6396 [==============================] - 161s 25ms/step - loss: 0.0567 - accuracy: 0.9795 - val_loss: 1.0041 - val_accuracy: 0.8161\n",
            "Epoch 32/50\n",
            "6396/6396 [==============================] - 161s 25ms/step - loss: 0.0821 - accuracy: 0.9701 - val_loss: 1.6604 - val_accuracy: 0.7547\n",
            "Epoch 33/50\n",
            "6396/6396 [==============================] - 161s 25ms/step - loss: 0.0819 - accuracy: 0.9706 - val_loss: 0.9319 - val_accuracy: 0.8583\n",
            "Epoch 34/50\n",
            "6396/6396 [==============================] - 161s 25ms/step - loss: 0.0424 - accuracy: 0.9842 - val_loss: 2.2816 - val_accuracy: 0.5985\n",
            "Epoch 35/50\n",
            "6396/6396 [==============================] - 161s 25ms/step - loss: 0.1026 - accuracy: 0.9612 - val_loss: 9.3492 - val_accuracy: 0.6881\n",
            "Epoch 36/50\n",
            "6396/6396 [==============================] - 161s 25ms/step - loss: 0.0509 - accuracy: 0.9800 - val_loss: 1.5706 - val_accuracy: 0.7988\n",
            "Epoch 37/50\n",
            "6396/6396 [==============================] - 160s 25ms/step - loss: 0.0618 - accuracy: 0.9767 - val_loss: 0.6805 - val_accuracy: 0.8208\n",
            "Epoch 38/50\n",
            "6396/6396 [==============================] - 161s 25ms/step - loss: 0.0376 - accuracy: 0.9869 - val_loss: 5.9188 - val_accuracy: 0.6965\n",
            "Epoch 39/50\n",
            "6396/6396 [==============================] - 161s 25ms/step - loss: 0.0738 - accuracy: 0.9717 - val_loss: 0.7436 - val_accuracy: 0.8119\n",
            "Epoch 40/50\n",
            "3872/6396 [=================>............] - ETA: 57s - loss: 0.0648 - accuracy: 0.9757"
          ],
          "name": "stdout"
        }
      ]
    },
    {
      "cell_type": "code",
      "metadata": {
        "colab_type": "code",
        "id": "hKtYDuxPzfzm",
        "colab": {}
      },
      "source": [
        "preds = model.evaluate(x_test, y_test)\n",
        "print (\"Loss = \" + str(preds[0]))\n",
        "print (\"Test Accuracy = \" + str(preds[1]))"
      ],
      "execution_count": 0,
      "outputs": []
    },
    {
      "cell_type": "code",
      "metadata": {
        "colab_type": "code",
        "id": "C3V90NN5zfzy",
        "colab": {}
      },
      "source": [
        "plt.plot(history.history['loss'])\n",
        "plt.plot(history.history['val_loss'])\n",
        "plt.title('model loss')\n",
        "plt.ylabel('loss')\n",
        "plt.xlabel('epoch')\n",
        "plt.legend(['train', 'test'], loc='upper left')\n",
        "plt.show()"
      ],
      "execution_count": 0,
      "outputs": []
    },
    {
      "cell_type": "code",
      "metadata": {
        "colab_type": "code",
        "id": "gC1eHR9zzfz9",
        "colab": {}
      },
      "source": [
        "plt.plot(history.history['accuracy'])\n",
        "plt.plot(history.history['val_accuracy'])\n",
        "plt.title('model accuracy')\n",
        "plt.ylabel('acc')\n",
        "plt.xlabel('epoch')\n",
        "plt.legend(['train', 'test'], loc='upper left')\n",
        "plt.show()"
      ],
      "execution_count": 0,
      "outputs": []
    },
    {
      "cell_type": "code",
      "metadata": {
        "colab_type": "code",
        "id": "1HqhdrTSzf0F",
        "colab": {}
      },
      "source": [
        "predictions = model.predict(x_test)\n",
        "p = predictions.round()\n",
        "y_pred = np.argmax(p, axis=1)\n",
        "newY_test = np.argmax(y_test, axis=1)"
      ],
      "execution_count": 0,
      "outputs": []
    },
    {
      "cell_type": "code",
      "metadata": {
        "colab_type": "code",
        "id": "nePhVkHgzf0t",
        "colab": {}
      },
      "source": [
        "from sklearn.metrics import classification_report\n",
        "report = classification_report(newY_test, y_pred)\n",
        "print(report)"
      ],
      "execution_count": 0,
      "outputs": []
    },
    {
      "cell_type": "code",
      "metadata": {
        "colab_type": "code",
        "id": "TcoWJqZPzf04",
        "colab": {}
      },
      "source": [
        "from sklearn.metrics import confusion_matrix\n",
        "matrix = confusion_matrix(newY_test, y_pred)\n",
        "import seaborn as sn\n",
        "import pandas as pd\n",
        "df_cm = pd.DataFrame(matrix,index = [i for i in range(2)],columns = [i for i in range(2)])\n",
        "plt.figure(figsize = (9,7))\n",
        "sn.heatmap(df_cm, annot=True, fmt=\"d\")"
      ],
      "execution_count": 0,
      "outputs": []
    },
    {
      "cell_type": "markdown",
      "metadata": {
        "id": "trgsUR-ZIrp7",
        "colab_type": "text"
      },
      "source": [
        "## **ResNet50**"
      ]
    },
    {
      "cell_type": "code",
      "metadata": {
        "id": "fwT7AWi7DM2K",
        "colab_type": "code",
        "colab": {}
      },
      "source": [
        "img_height,img_width = 128,128 \n",
        "num_classes = 2\n",
        "#If imagenet weights are being loaded, \n",
        "#input must have a static square shape (one of (128, 128), (160, 160), (192, 192), or (224, 224))\n",
        "base_model = applications.resnet_v2.ResNet50V2(weights= None, include_top=False, input_shape= (img_height,img_width,3))"
      ],
      "execution_count": 0,
      "outputs": []
    },
    {
      "cell_type": "code",
      "metadata": {
        "id": "6lcWzdhdDU-i",
        "colab_type": "code",
        "colab": {}
      },
      "source": [
        "x = base_model.output\n",
        "x = GlobalAveragePooling2D()(x)\n",
        "x = Dropout(0.7)(x)\n",
        "predictions = Dense(num_classes, activation= 'softmax')(x)\n",
        "model = Model(inputs = base_model.input, outputs = predictions)"
      ],
      "execution_count": 0,
      "outputs": []
    },
    {
      "cell_type": "code",
      "metadata": {
        "id": "yXZoLvi9DXvl",
        "colab_type": "code",
        "colab": {}
      },
      "source": [
        "from keras.optimizers import SGD, Adam\n",
        "# sgd = SGD(lr=lrate, momentum=0.9, decay=decay, nesterov=False)\n",
        "adam = Adam(lr=0.0001)\n",
        "model.compile(optimizer= adam, loss='categorical_crossentropy', metrics=['accuracy'])"
      ],
      "execution_count": 0,
      "outputs": []
    },
    {
      "cell_type": "code",
      "metadata": {
        "id": "ysrPmZGaDeqE",
        "colab_type": "code",
        "outputId": "04b56ab5-4735-479a-824a-c4fb45995c11",
        "colab": {
          "base_uri": "https://localhost:8080/",
          "height": 768
        }
      },
      "source": [
        "import tensorflow as tf\n",
        "with tf.device('/device:GPU:0'):     \n",
        "    history = model.fit(x_train, y_train, validation_split=0.25, epochs = 25, batch_size = 32)"
      ],
      "execution_count": 0,
      "outputs": [
        {
          "output_type": "stream",
          "text": [
            "Train on 6396 samples, validate on 2132 samples\n",
            "Epoch 1/25\n",
            "6396/6396 [==============================] - 130s 20ms/step - loss: 0.5761 - accuracy: 0.7619 - val_loss: 1.5746 - val_accuracy: 0.3288\n",
            "Epoch 2/25\n",
            "6396/6396 [==============================] - 105s 16ms/step - loss: 0.5156 - accuracy: 0.7881 - val_loss: 0.4647 - val_accuracy: 0.7988\n",
            "Epoch 3/25\n",
            "6396/6396 [==============================] - 105s 16ms/step - loss: 0.4568 - accuracy: 0.8066 - val_loss: 0.5571 - val_accuracy: 0.8335\n",
            "Epoch 4/25\n",
            "6396/6396 [==============================] - 105s 16ms/step - loss: 0.4079 - accuracy: 0.8408 - val_loss: 0.8775 - val_accuracy: 0.5661\n",
            "Epoch 5/25\n",
            "6396/6396 [==============================] - 105s 16ms/step - loss: 0.3482 - accuracy: 0.8605 - val_loss: 0.3705 - val_accuracy: 0.8541\n",
            "Epoch 6/25\n",
            "6396/6396 [==============================] - 105s 16ms/step - loss: 0.2940 - accuracy: 0.8806 - val_loss: 0.9029 - val_accuracy: 0.7932\n",
            "Epoch 7/25\n",
            "6396/6396 [==============================] - 105s 16ms/step - loss: 0.2658 - accuracy: 0.8971 - val_loss: 0.5756 - val_accuracy: 0.8213\n",
            "Epoch 8/25\n",
            "6396/6396 [==============================] - 105s 16ms/step - loss: 0.2366 - accuracy: 0.9046 - val_loss: 0.4368 - val_accuracy: 0.8443\n",
            "Epoch 9/25\n",
            "6396/6396 [==============================] - 105s 16ms/step - loss: 0.2024 - accuracy: 0.9229 - val_loss: 0.8321 - val_accuracy: 0.7781\n",
            "Epoch 10/25\n",
            " 736/6396 [==>...........................] - ETA: 1:25 - loss: 0.1360 - accuracy: 0.9429"
          ],
          "name": "stdout"
        },
        {
          "output_type": "error",
          "ename": "KeyboardInterrupt",
          "evalue": "ignored",
          "traceback": [
            "\u001b[0;31m---------------------------------------------------------------------------\u001b[0m",
            "\u001b[0;31mKeyboardInterrupt\u001b[0m                         Traceback (most recent call last)",
            "\u001b[0;32m<ipython-input-13-82c15067b426>\u001b[0m in \u001b[0;36m<module>\u001b[0;34m()\u001b[0m\n\u001b[1;32m      1\u001b[0m \u001b[0;32mimport\u001b[0m \u001b[0mtensorflow\u001b[0m \u001b[0;32mas\u001b[0m \u001b[0mtf\u001b[0m\u001b[0;34m\u001b[0m\u001b[0;34m\u001b[0m\u001b[0m\n\u001b[1;32m      2\u001b[0m \u001b[0;32mwith\u001b[0m \u001b[0mtf\u001b[0m\u001b[0;34m.\u001b[0m\u001b[0mdevice\u001b[0m\u001b[0;34m(\u001b[0m\u001b[0;34m'/device:GPU:0'\u001b[0m\u001b[0;34m)\u001b[0m\u001b[0;34m:\u001b[0m\u001b[0;34m\u001b[0m\u001b[0;34m\u001b[0m\u001b[0m\n\u001b[0;32m----> 3\u001b[0;31m     \u001b[0mhistory\u001b[0m \u001b[0;34m=\u001b[0m \u001b[0mmodel\u001b[0m\u001b[0;34m.\u001b[0m\u001b[0mfit\u001b[0m\u001b[0;34m(\u001b[0m\u001b[0mx_train\u001b[0m\u001b[0;34m,\u001b[0m \u001b[0my_train\u001b[0m\u001b[0;34m,\u001b[0m \u001b[0mvalidation_split\u001b[0m\u001b[0;34m=\u001b[0m\u001b[0;36m0.25\u001b[0m\u001b[0;34m,\u001b[0m \u001b[0mepochs\u001b[0m \u001b[0;34m=\u001b[0m \u001b[0;36m25\u001b[0m\u001b[0;34m,\u001b[0m \u001b[0mbatch_size\u001b[0m \u001b[0;34m=\u001b[0m \u001b[0;36m32\u001b[0m\u001b[0;34m)\u001b[0m\u001b[0;34m\u001b[0m\u001b[0;34m\u001b[0m\u001b[0m\n\u001b[0m",
            "\u001b[0;32m/usr/local/lib/python3.6/dist-packages/keras/engine/training.py\u001b[0m in \u001b[0;36mfit\u001b[0;34m(self, x, y, batch_size, epochs, verbose, callbacks, validation_split, validation_data, shuffle, class_weight, sample_weight, initial_epoch, steps_per_epoch, validation_steps, validation_freq, max_queue_size, workers, use_multiprocessing, **kwargs)\u001b[0m\n\u001b[1;32m   1237\u001b[0m                                         \u001b[0msteps_per_epoch\u001b[0m\u001b[0;34m=\u001b[0m\u001b[0msteps_per_epoch\u001b[0m\u001b[0;34m,\u001b[0m\u001b[0;34m\u001b[0m\u001b[0;34m\u001b[0m\u001b[0m\n\u001b[1;32m   1238\u001b[0m                                         \u001b[0mvalidation_steps\u001b[0m\u001b[0;34m=\u001b[0m\u001b[0mvalidation_steps\u001b[0m\u001b[0;34m,\u001b[0m\u001b[0;34m\u001b[0m\u001b[0;34m\u001b[0m\u001b[0m\n\u001b[0;32m-> 1239\u001b[0;31m                                         validation_freq=validation_freq)\n\u001b[0m\u001b[1;32m   1240\u001b[0m \u001b[0;34m\u001b[0m\u001b[0m\n\u001b[1;32m   1241\u001b[0m     def evaluate(self,\n",
            "\u001b[0;32m/usr/local/lib/python3.6/dist-packages/keras/engine/training_arrays.py\u001b[0m in \u001b[0;36mfit_loop\u001b[0;34m(model, fit_function, fit_inputs, out_labels, batch_size, epochs, verbose, callbacks, val_function, val_inputs, shuffle, initial_epoch, steps_per_epoch, validation_steps, validation_freq)\u001b[0m\n\u001b[1;32m    194\u001b[0m                     \u001b[0mins_batch\u001b[0m\u001b[0;34m[\u001b[0m\u001b[0mi\u001b[0m\u001b[0;34m]\u001b[0m \u001b[0;34m=\u001b[0m \u001b[0mins_batch\u001b[0m\u001b[0;34m[\u001b[0m\u001b[0mi\u001b[0m\u001b[0;34m]\u001b[0m\u001b[0;34m.\u001b[0m\u001b[0mtoarray\u001b[0m\u001b[0;34m(\u001b[0m\u001b[0;34m)\u001b[0m\u001b[0;34m\u001b[0m\u001b[0;34m\u001b[0m\u001b[0m\n\u001b[1;32m    195\u001b[0m \u001b[0;34m\u001b[0m\u001b[0m\n\u001b[0;32m--> 196\u001b[0;31m                 \u001b[0mouts\u001b[0m \u001b[0;34m=\u001b[0m \u001b[0mfit_function\u001b[0m\u001b[0;34m(\u001b[0m\u001b[0mins_batch\u001b[0m\u001b[0;34m)\u001b[0m\u001b[0;34m\u001b[0m\u001b[0;34m\u001b[0m\u001b[0m\n\u001b[0m\u001b[1;32m    197\u001b[0m                 \u001b[0mouts\u001b[0m \u001b[0;34m=\u001b[0m \u001b[0mto_list\u001b[0m\u001b[0;34m(\u001b[0m\u001b[0mouts\u001b[0m\u001b[0;34m)\u001b[0m\u001b[0;34m\u001b[0m\u001b[0;34m\u001b[0m\u001b[0m\n\u001b[1;32m    198\u001b[0m                 \u001b[0;32mfor\u001b[0m \u001b[0ml\u001b[0m\u001b[0;34m,\u001b[0m \u001b[0mo\u001b[0m \u001b[0;32min\u001b[0m \u001b[0mzip\u001b[0m\u001b[0;34m(\u001b[0m\u001b[0mout_labels\u001b[0m\u001b[0;34m,\u001b[0m \u001b[0mouts\u001b[0m\u001b[0;34m)\u001b[0m\u001b[0;34m:\u001b[0m\u001b[0;34m\u001b[0m\u001b[0;34m\u001b[0m\u001b[0m\n",
            "\u001b[0;32m/usr/local/lib/python3.6/dist-packages/tensorflow/python/keras/backend.py\u001b[0m in \u001b[0;36m__call__\u001b[0;34m(self, inputs)\u001b[0m\n\u001b[1;32m   3798\u001b[0m     return nest.pack_sequence_as(\n\u001b[1;32m   3799\u001b[0m         \u001b[0mself\u001b[0m\u001b[0;34m.\u001b[0m\u001b[0m_outputs_structure\u001b[0m\u001b[0;34m,\u001b[0m\u001b[0;34m\u001b[0m\u001b[0;34m\u001b[0m\u001b[0m\n\u001b[0;32m-> 3800\u001b[0;31m         \u001b[0;34m[\u001b[0m\u001b[0mx\u001b[0m\u001b[0;34m.\u001b[0m\u001b[0m_numpy\u001b[0m\u001b[0;34m(\u001b[0m\u001b[0;34m)\u001b[0m \u001b[0;32mfor\u001b[0m \u001b[0mx\u001b[0m \u001b[0;32min\u001b[0m \u001b[0moutputs\u001b[0m\u001b[0;34m]\u001b[0m\u001b[0;34m,\u001b[0m  \u001b[0;31m# pylint: disable=protected-access\u001b[0m\u001b[0;34m\u001b[0m\u001b[0;34m\u001b[0m\u001b[0m\n\u001b[0m\u001b[1;32m   3801\u001b[0m         expand_composites=True)\n\u001b[1;32m   3802\u001b[0m \u001b[0;34m\u001b[0m\u001b[0m\n",
            "\u001b[0;32m/usr/local/lib/python3.6/dist-packages/tensorflow/python/keras/backend.py\u001b[0m in \u001b[0;36m<listcomp>\u001b[0;34m(.0)\u001b[0m\n\u001b[1;32m   3798\u001b[0m     return nest.pack_sequence_as(\n\u001b[1;32m   3799\u001b[0m         \u001b[0mself\u001b[0m\u001b[0;34m.\u001b[0m\u001b[0m_outputs_structure\u001b[0m\u001b[0;34m,\u001b[0m\u001b[0;34m\u001b[0m\u001b[0;34m\u001b[0m\u001b[0m\n\u001b[0;32m-> 3800\u001b[0;31m         \u001b[0;34m[\u001b[0m\u001b[0mx\u001b[0m\u001b[0;34m.\u001b[0m\u001b[0m_numpy\u001b[0m\u001b[0;34m(\u001b[0m\u001b[0;34m)\u001b[0m \u001b[0;32mfor\u001b[0m \u001b[0mx\u001b[0m \u001b[0;32min\u001b[0m \u001b[0moutputs\u001b[0m\u001b[0;34m]\u001b[0m\u001b[0;34m,\u001b[0m  \u001b[0;31m# pylint: disable=protected-access\u001b[0m\u001b[0;34m\u001b[0m\u001b[0;34m\u001b[0m\u001b[0m\n\u001b[0m\u001b[1;32m   3801\u001b[0m         expand_composites=True)\n\u001b[1;32m   3802\u001b[0m \u001b[0;34m\u001b[0m\u001b[0m\n",
            "\u001b[0;32m/usr/local/lib/python3.6/dist-packages/tensorflow/python/framework/ops.py\u001b[0m in \u001b[0;36m_numpy\u001b[0;34m(self)\u001b[0m\n\u001b[1;32m    925\u001b[0m     \u001b[0;31m# pylint: disable=protected-access\u001b[0m\u001b[0;34m\u001b[0m\u001b[0;34m\u001b[0m\u001b[0;34m\u001b[0m\u001b[0m\n\u001b[1;32m    926\u001b[0m     \u001b[0;32mtry\u001b[0m\u001b[0;34m:\u001b[0m\u001b[0;34m\u001b[0m\u001b[0;34m\u001b[0m\u001b[0m\n\u001b[0;32m--> 927\u001b[0;31m       \u001b[0;32mreturn\u001b[0m \u001b[0mself\u001b[0m\u001b[0;34m.\u001b[0m\u001b[0m_numpy_internal\u001b[0m\u001b[0;34m(\u001b[0m\u001b[0;34m)\u001b[0m\u001b[0;34m\u001b[0m\u001b[0;34m\u001b[0m\u001b[0m\n\u001b[0m\u001b[1;32m    928\u001b[0m     \u001b[0;32mexcept\u001b[0m \u001b[0mcore\u001b[0m\u001b[0;34m.\u001b[0m\u001b[0m_NotOkStatusException\u001b[0m \u001b[0;32mas\u001b[0m \u001b[0me\u001b[0m\u001b[0;34m:\u001b[0m\u001b[0;34m\u001b[0m\u001b[0;34m\u001b[0m\u001b[0m\n\u001b[1;32m    929\u001b[0m       \u001b[0msix\u001b[0m\u001b[0;34m.\u001b[0m\u001b[0mraise_from\u001b[0m\u001b[0;34m(\u001b[0m\u001b[0mcore\u001b[0m\u001b[0;34m.\u001b[0m\u001b[0m_status_to_exception\u001b[0m\u001b[0;34m(\u001b[0m\u001b[0me\u001b[0m\u001b[0;34m.\u001b[0m\u001b[0mcode\u001b[0m\u001b[0;34m,\u001b[0m \u001b[0me\u001b[0m\u001b[0;34m.\u001b[0m\u001b[0mmessage\u001b[0m\u001b[0;34m)\u001b[0m\u001b[0;34m,\u001b[0m \u001b[0;32mNone\u001b[0m\u001b[0;34m)\u001b[0m\u001b[0;34m\u001b[0m\u001b[0;34m\u001b[0m\u001b[0m\n",
            "\u001b[0;31mKeyboardInterrupt\u001b[0m: "
          ]
        }
      ]
    },
    {
      "cell_type": "code",
      "metadata": {
        "id": "zin8IqMPDjm9",
        "colab_type": "code",
        "colab": {}
      },
      "source": [
        "preds = model.evaluate(x_test, y_test)\n",
        "print (\"Loss = \" + str(preds[0]))\n",
        "print (\"Test Accuracy = \" + str(preds[1]))"
      ],
      "execution_count": 0,
      "outputs": []
    },
    {
      "cell_type": "code",
      "metadata": {
        "id": "wyQB2Q2PDn7L",
        "colab_type": "code",
        "colab": {}
      },
      "source": [
        "plt.plot(history.history['loss'])\n",
        "plt.plot(history.history['val_loss'])\n",
        "plt.title('model loss')\n",
        "plt.ylabel('loss')\n",
        "plt.xlabel('epoch')\n",
        "plt.legend(['train', 'test'], loc='upper left')\n",
        "plt.show()"
      ],
      "execution_count": 0,
      "outputs": []
    },
    {
      "cell_type": "code",
      "metadata": {
        "id": "pzPZu92oDprY",
        "colab_type": "code",
        "colab": {}
      },
      "source": [
        "plt.plot(history.history['accuracy'])\n",
        "plt.plot(history.history['val_accuracy'])\n",
        "plt.title('model accuracy')\n",
        "plt.ylabel('acc')\n",
        "plt.xlabel('epoch')\n",
        "plt.legend(['train', 'test'], loc='upper left')\n",
        "plt.show()"
      ],
      "execution_count": 0,
      "outputs": []
    },
    {
      "cell_type": "code",
      "metadata": {
        "id": "yKMFXbIQDrNx",
        "colab_type": "code",
        "colab": {}
      },
      "source": [
        "predictions = model.predict(x_test)"
      ],
      "execution_count": 0,
      "outputs": []
    },
    {
      "cell_type": "code",
      "metadata": {
        "id": "omvvfR2iDsxp",
        "colab_type": "code",
        "colab": {}
      },
      "source": [
        "p = predictions.round()"
      ],
      "execution_count": 0,
      "outputs": []
    },
    {
      "cell_type": "code",
      "metadata": {
        "id": "I4NyLf2zDurl",
        "colab_type": "code",
        "colab": {}
      },
      "source": [
        "y_pred = np.argmax(p, axis=1)"
      ],
      "execution_count": 0,
      "outputs": []
    },
    {
      "cell_type": "code",
      "metadata": {
        "id": "O_7GmrGfDwO1",
        "colab_type": "code",
        "colab": {}
      },
      "source": [
        "newY_test = np.argmax(y_test, axis=1)"
      ],
      "execution_count": 0,
      "outputs": []
    },
    {
      "cell_type": "code",
      "metadata": {
        "id": "98vNJhv2DyAj",
        "colab_type": "code",
        "colab": {}
      },
      "source": [
        "from sklearn.metrics import classification_report\n",
        "report = classification_report(newY_test, y_pred)\n",
        "print(report)"
      ],
      "execution_count": 0,
      "outputs": []
    },
    {
      "cell_type": "code",
      "metadata": {
        "id": "9jaUg1W3DzvT",
        "colab_type": "code",
        "colab": {}
      },
      "source": [
        "from sklearn.metrics import confusion_matrix\n",
        "matrix = confusion_matrix(newY_test, y_pred)\n",
        "import seaborn as sn\n",
        "import pandas as pd\n",
        "df_cm = pd.DataFrame(matrix,index = [i for i in range(2)],columns = [i for i in range(2)])\n",
        "plt.figure(figsize = (9,7))\n",
        "sn.heatmap(df_cm, annot=True, fmt=\"d\")"
      ],
      "execution_count": 0,
      "outputs": []
    },
    {
      "cell_type": "markdown",
      "metadata": {
        "id": "AansTJxhIxGf",
        "colab_type": "text"
      },
      "source": [
        "# InceptionV3"
      ]
    },
    {
      "cell_type": "code",
      "metadata": {
        "id": "QpzSEFIhI0kP",
        "colab_type": "code",
        "colab": {}
      },
      "source": [
        "img_height,img_width = 128,128 \n",
        "num_classes = 2\n",
        "\n",
        "base_model = applications.inception_v3.InceptionV3(weights= None, include_top=False, input_shape= (img_height,img_width,3))"
      ],
      "execution_count": 0,
      "outputs": []
    },
    {
      "cell_type": "code",
      "metadata": {
        "id": "4sigp8dzJV63",
        "colab_type": "code",
        "colab": {}
      },
      "source": [
        "x = base_model.output\n",
        "x = GlobalAveragePooling2D()(x)\n",
        "x = Dropout(0.7)(x)\n",
        "predictions = Dense(num_classes, activation= 'softmax')(x)\n",
        "model = Model(inputs = base_model.input, outputs = predictions)"
      ],
      "execution_count": 0,
      "outputs": []
    },
    {
      "cell_type": "code",
      "metadata": {
        "id": "D1NhEiRDJbwM",
        "colab_type": "code",
        "colab": {}
      },
      "source": [
        "from keras.optimizers import SGD, Adam\n",
        "# sgd = SGD(lr=lrate, momentum=0.9, decay=decay, nesterov=False)\n",
        "adam = Adam(lr=0.0001)\n",
        "model.compile(optimizer= adam, loss='categorical_crossentropy', metrics=['accuracy'])"
      ],
      "execution_count": 0,
      "outputs": []
    },
    {
      "cell_type": "code",
      "metadata": {
        "id": "EDYadK2KJcDk",
        "colab_type": "code",
        "outputId": "3af743c4-bcca-437f-d63b-f86ee984010a",
        "colab": {
          "base_uri": "https://localhost:8080/",
          "height": 988
        }
      },
      "source": [
        "import tensorflow as tf\n",
        "with tf.device('/device:GPU:0'):\n",
        "  history = model.fit(x_train, y_train, validation_split=0.25, epochs = 25, batch_size = 32)"
      ],
      "execution_count": 0,
      "outputs": [
        {
          "output_type": "stream",
          "text": [
            "Train on 6396 samples, validate on 2132 samples\n",
            "Epoch 1/25\n",
            "6396/6396 [==============================] - 115s 18ms/step - loss: 0.6287 - accuracy: 0.7419 - val_loss: 0.5860 - val_accuracy: 0.6848\n",
            "Epoch 2/25\n",
            "6396/6396 [==============================] - 87s 14ms/step - loss: 0.5027 - accuracy: 0.8008 - val_loss: 0.6300 - val_accuracy: 0.7097\n",
            "Epoch 3/25\n",
            "6396/6396 [==============================] - 88s 14ms/step - loss: 0.4556 - accuracy: 0.8301 - val_loss: 0.4074 - val_accuracy: 0.8311\n",
            "Epoch 4/25\n",
            "6396/6396 [==============================] - 88s 14ms/step - loss: 0.4032 - accuracy: 0.8518 - val_loss: 0.3694 - val_accuracy: 0.8471\n",
            "Epoch 5/25\n",
            "6396/6396 [==============================] - 88s 14ms/step - loss: 0.3487 - accuracy: 0.8629 - val_loss: 0.3824 - val_accuracy: 0.8405\n",
            "Epoch 6/25\n",
            "6396/6396 [==============================] - 88s 14ms/step - loss: 0.3087 - accuracy: 0.8835 - val_loss: 0.3880 - val_accuracy: 0.8701\n",
            "Epoch 7/25\n",
            "6396/6396 [==============================] - 88s 14ms/step - loss: 0.2588 - accuracy: 0.9031 - val_loss: 0.4829 - val_accuracy: 0.8429\n",
            "Epoch 8/25\n",
            "6396/6396 [==============================] - 88s 14ms/step - loss: 0.2175 - accuracy: 0.9165 - val_loss: 0.5919 - val_accuracy: 0.8340\n",
            "Epoch 9/25\n",
            "6396/6396 [==============================] - 88s 14ms/step - loss: 0.2080 - accuracy: 0.9248 - val_loss: 0.3647 - val_accuracy: 0.8659\n",
            "Epoch 10/25\n",
            "6396/6396 [==============================] - 88s 14ms/step - loss: 0.1774 - accuracy: 0.9353 - val_loss: 0.4479 - val_accuracy: 0.8757\n",
            "Epoch 11/25\n",
            "6396/6396 [==============================] - 88s 14ms/step - loss: 0.1327 - accuracy: 0.9508 - val_loss: 0.5378 - val_accuracy: 0.8100\n",
            "Epoch 12/25\n",
            "6396/6396 [==============================] - 88s 14ms/step - loss: 0.1353 - accuracy: 0.9468 - val_loss: 0.4549 - val_accuracy: 0.8269\n",
            "Epoch 13/25\n",
            "6396/6396 [==============================] - 88s 14ms/step - loss: 0.1041 - accuracy: 0.9615 - val_loss: 0.5418 - val_accuracy: 0.8766\n",
            "Epoch 14/25\n",
            "6396/6396 [==============================] - 88s 14ms/step - loss: 0.1039 - accuracy: 0.9636 - val_loss: 0.4478 - val_accuracy: 0.8443\n",
            "Epoch 15/25\n",
            "6396/6396 [==============================] - 88s 14ms/step - loss: 0.0952 - accuracy: 0.9645 - val_loss: 0.5032 - val_accuracy: 0.8893\n",
            "Epoch 16/25\n",
            "6396/6396 [==============================] - 88s 14ms/step - loss: 0.0872 - accuracy: 0.9670 - val_loss: 0.6561 - val_accuracy: 0.7908\n",
            "Epoch 17/25\n",
            "6396/6396 [==============================] - 88s 14ms/step - loss: 0.0812 - accuracy: 0.9711 - val_loss: 1.0293 - val_accuracy: 0.8213\n",
            "Epoch 18/25\n",
            "6396/6396 [==============================] - 87s 14ms/step - loss: 0.0913 - accuracy: 0.9650 - val_loss: 0.8816 - val_accuracy: 0.8349\n",
            "Epoch 19/25\n",
            "6396/6396 [==============================] - 88s 14ms/step - loss: 0.0907 - accuracy: 0.9654 - val_loss: 0.4514 - val_accuracy: 0.8551\n",
            "Epoch 20/25\n",
            "6396/6396 [==============================] - 88s 14ms/step - loss: 0.0854 - accuracy: 0.9698 - val_loss: 0.4840 - val_accuracy: 0.8541\n",
            "Epoch 21/25\n",
            "6396/6396 [==============================] - 88s 14ms/step - loss: 0.0742 - accuracy: 0.9723 - val_loss: 0.4722 - val_accuracy: 0.8738\n",
            "Epoch 22/25\n",
            "6396/6396 [==============================] - 87s 14ms/step - loss: 0.0529 - accuracy: 0.9800 - val_loss: 0.4771 - val_accuracy: 0.8921\n",
            "Epoch 23/25\n",
            "6396/6396 [==============================] - 88s 14ms/step - loss: 0.0664 - accuracy: 0.9745 - val_loss: 1.1298 - val_accuracy: 0.8283\n",
            "Epoch 24/25\n",
            "6396/6396 [==============================] - 87s 14ms/step - loss: 0.0579 - accuracy: 0.9778 - val_loss: 0.4646 - val_accuracy: 0.8635\n",
            "Epoch 25/25\n",
            "6396/6396 [==============================] - 88s 14ms/step - loss: 0.0566 - accuracy: 0.9794 - val_loss: 0.4594 - val_accuracy: 0.8813\n"
          ],
          "name": "stdout"
        }
      ]
    },
    {
      "cell_type": "code",
      "metadata": {
        "colab_type": "code",
        "id": "EPGuDRVMSGlm",
        "outputId": "53370364-a4fa-47b9-8757-93c47f71f9dc",
        "colab": {
          "base_uri": "https://localhost:8080/",
          "height": 74
        }
      },
      "source": [
        "preds = model.evaluate(x_test, y_test)\n",
        "print (\"Loss = \" + str(preds[0]))\n",
        "print (\"Test Accuracy = \" + str(preds[1]))"
      ],
      "execution_count": 0,
      "outputs": [
        {
          "output_type": "stream",
          "text": [
            "2133/2133 [==============================] - 10s 5ms/step\n",
            "Loss = 0.6648980871758101\n",
            "Test Accuracy = 0.8682606816291809\n"
          ],
          "name": "stdout"
        }
      ]
    },
    {
      "cell_type": "code",
      "metadata": {
        "colab_type": "code",
        "id": "uPnGOXS8SGls",
        "outputId": "032dde6d-4ad4-4c39-8535-fe63d2e023d4",
        "colab": {
          "base_uri": "https://localhost:8080/",
          "height": 295
        }
      },
      "source": [
        "plt.plot(history.history['loss'])\n",
        "plt.plot(history.history['val_loss'])\n",
        "plt.title('model loss')\n",
        "plt.ylabel('loss')\n",
        "plt.xlabel('epoch')\n",
        "plt.legend(['train', 'test'], loc='upper left')\n",
        "plt.show()"
      ],
      "execution_count": 0,
      "outputs": [
        {
          "output_type": "display_data",
          "data": {
            "image/png": "[encoded data removed]",
            "text/plain": [
              "<Figure size 432x288 with 1 Axes>"
            ]
          },
          "metadata": {
            "tags": [],
            "needs_background": "light"
          }
        }
      ]
    },
    {
      "cell_type": "code",
      "metadata": {
        "colab_type": "code",
        "id": "4tvh_fYBSGly",
        "outputId": "c1fd72b8-44f4-4835-f1b8-aebb810a3387",
        "colab": {
          "base_uri": "https://localhost:8080/",
          "height": 295
        }
      },
      "source": [
        "plt.plot(history.history['accuracy'])\n",
        "plt.plot(history.history['val_accuracy'])\n",
        "plt.title('model accuracy')\n",
        "plt.ylabel('acc')\n",
        "plt.xlabel('epoch')\n",
        "plt.legend(['train', 'test'], loc='upper left')\n",
        "plt.show()"
      ],
      "execution_count": 0,
      "outputs": [
        {
          "output_type": "display_data",
          "data": {
            "image/png": "[encoded data removed]",
            "text/plain": [
              "<Figure size 432x288 with 1 Axes>"
            ]
          },
          "metadata": {
            "tags": [],
            "needs_background": "light"
          }
        }
      ]
    },
    {
      "cell_type": "code",
      "metadata": {
        "colab_type": "code",
        "id": "owOJp2cqSGl4",
        "colab": {}
      },
      "source": [
        "predictions = model.predict(x_test)"
      ],
      "execution_count": 0,
      "outputs": []
    },
    {
      "cell_type": "code",
      "metadata": {
        "colab_type": "code",
        "id": "shh2vytgSGl-",
        "colab": {}
      },
      "source": [
        "p = predictions.round()"
      ],
      "execution_count": 0,
      "outputs": []
    },
    {
      "cell_type": "code",
      "metadata": {
        "colab_type": "code",
        "id": "_AjLtnwkSGmE",
        "colab": {}
      },
      "source": [
        "y_pred = np.argmax(p, axis=1)"
      ],
      "execution_count": 0,
      "outputs": []
    },
    {
      "cell_type": "code",
      "metadata": {
        "colab_type": "code",
        "id": "ma0LInYZSGmJ",
        "colab": {}
      },
      "source": [
        "newY_test = np.argmax(y_test, axis=1)"
      ],
      "execution_count": 0,
      "outputs": []
    },
    {
      "cell_type": "code",
      "metadata": {
        "colab_type": "code",
        "id": "iwDBe-rESGmS",
        "outputId": "53475eb2-0f27-45ae-d81a-c5279429e30e",
        "colab": {
          "base_uri": "https://localhost:8080/",
          "height": 188
        }
      },
      "source": [
        "from sklearn.metrics import classification_report\n",
        "report = classification_report(newY_test, y_pred)\n",
        "print(report)"
      ],
      "execution_count": 0,
      "outputs": [
        {
          "output_type": "stream",
          "text": [
            "              precision    recall  f1-score   support\n",
            "\n",
            "           0       0.88      0.68      0.77       684\n",
            "           1       0.86      0.96      0.91      1449\n",
            "\n",
            "    accuracy                           0.87      2133\n",
            "   macro avg       0.87      0.82      0.84      2133\n",
            "weighted avg       0.87      0.87      0.86      2133\n",
            "\n"
          ],
          "name": "stdout"
        }
      ]
    },
    {
      "cell_type": "code",
      "metadata": {
        "colab_type": "code",
        "id": "eTzaJSI2SGmX",
        "outputId": "753bfdd0-5009-4b16-8771-030392a39760",
        "colab": {
          "base_uri": "https://localhost:8080/",
          "height": 505
        }
      },
      "source": [
        "from sklearn.metrics import confusion_matrix\n",
        "matrix = confusion_matrix(newY_test, y_pred)\n",
        "import seaborn as sn\n",
        "import pandas as pd\n",
        "df_cm = pd.DataFrame(matrix,index = [i for i in range(2)],columns = [i for i in range(2)])\n",
        "plt.figure(figsize = (9,7))\n",
        "sn.heatmap(df_cm, annot=True, fmt=\"d\")"
      ],
      "execution_count": 0,
      "outputs": [
        {
          "output_type": "stream",
          "text": [
            "/usr/local/lib/python3.6/dist-packages/statsmodels/tools/_testing.py:19: FutureWarning: pandas.util.testing is deprecated. Use the functions in the public API at pandas.testing instead.\n",
            "  import pandas.util.testing as tm\n"
          ],
          "name": "stderr"
        },
        {
          "output_type": "execute_result",
          "data": {
            "text/plain": [
              "<matplotlib.axes._subplots.AxesSubplot at 0x7fb5795b8eb8>"
            ]
          },
          "metadata": {
            "tags": []
          },
          "execution_count": 26
        },
        {
          "output_type": "display_data",
          "data": {
            "image/png": "[encoded data removed]",
            "text/plain": [
              "<Figure size 648x504 with 2 Axes>"
            ]
          },
          "metadata": {
            "tags": [],
            "needs_background": "light"
          }
        }
      ]
    },
    {
      "cell_type": "code",
      "metadata": {
        "id": "QQIuu4k8SQEm",
        "colab_type": "code",
        "colab": {}
      },
      "source": [
        ""
      ],
      "execution_count": 0,
      "outputs": []
    },
    {
      "cell_type": "markdown",
      "metadata": {
        "colab_type": "text",
        "id": "YM9GBvnRSyXq"
      },
      "source": [
        "# VGG19"
      ]
    },
    {
      "cell_type": "code",
      "metadata": {
        "colab_type": "code",
        "id": "y3BI0pSBSyXu",
        "colab": {}
      },
      "source": [
        "img_height,img_width = 128,128 \n",
        "num_classes = 2\n",
        "\n",
        "base_model = applications.vgg19.VGG19(weights= None, include_top=False, input_shape= (img_height,img_width,3))"
      ],
      "execution_count": 0,
      "outputs": []
    },
    {
      "cell_type": "code",
      "metadata": {
        "colab_type": "code",
        "id": "sHsg9CWDSyX6",
        "colab": {}
      },
      "source": [
        "x = base_model.output\n",
        "x = GlobalAveragePooling2D()(x)\n",
        "x = Dropout(0.7)(x)\n",
        "predictions = Dense(num_classes, activation= 'softmax')(x)\n",
        "model = Model(inputs = base_model.input, outputs = predictions)"
      ],
      "execution_count": 0,
      "outputs": []
    },
    {
      "cell_type": "code",
      "metadata": {
        "colab_type": "code",
        "id": "sM2h0zWTSyYC",
        "colab": {}
      },
      "source": [
        "from keras.optimizers import SGD, Adam\n",
        "# sgd = SGD(lr=lrate, momentum=0.9, decay=decay, nesterov=False)\n",
        "adam = Adam(lr=0.0001)\n",
        "model.compile(optimizer= adam, loss='categorical_crossentropy', metrics=['accuracy'])"
      ],
      "execution_count": 0,
      "outputs": []
    },
    {
      "cell_type": "code",
      "metadata": {
        "colab_type": "code",
        "outputId": "598d40d1-dc75-4c59-97cd-b3150e273f94",
        "id": "4NxOStw4SyYK",
        "colab": {
          "base_uri": "https://localhost:8080/",
          "height": 988
        }
      },
      "source": [
        "import tensorflow as tf\n",
        "with tf.device('/device:GPU:0'):\n",
        "  history = model.fit(x_train, y_train, validation_split=0.25, epochs = 25, batch_size = 32)"
      ],
      "execution_count": 0,
      "outputs": [
        {
          "output_type": "stream",
          "text": [
            "Train on 6396 samples, validate on 2132 samples\n",
            "Epoch 1/25\n",
            "6396/6396 [==============================] - 89s 14ms/step - loss: 0.5980 - accuracy: 0.6870 - val_loss: 0.5090 - val_accuracy: 0.6989\n",
            "Epoch 2/25\n",
            "6396/6396 [==============================] - 79s 12ms/step - loss: 0.4716 - accuracy: 0.7911 - val_loss: 0.4120 - val_accuracy: 0.8222\n",
            "Epoch 3/25\n",
            "6396/6396 [==============================] - 79s 12ms/step - loss: 0.4595 - accuracy: 0.8060 - val_loss: 0.4427 - val_accuracy: 0.8288\n",
            "Epoch 4/25\n",
            "6396/6396 [==============================] - 79s 12ms/step - loss: 0.4360 - accuracy: 0.8169 - val_loss: 0.4136 - val_accuracy: 0.8316\n",
            "Epoch 5/25\n",
            "6396/6396 [==============================] - 79s 12ms/step - loss: 0.4148 - accuracy: 0.8304 - val_loss: 0.4196 - val_accuracy: 0.8246\n",
            "Epoch 6/25\n",
            "6396/6396 [==============================] - 79s 12ms/step - loss: 0.4113 - accuracy: 0.8293 - val_loss: 0.3551 - val_accuracy: 0.8499\n",
            "Epoch 7/25\n",
            "6396/6396 [==============================] - 79s 12ms/step - loss: 0.4074 - accuracy: 0.8374 - val_loss: 0.4639 - val_accuracy: 0.8274\n",
            "Epoch 8/25\n",
            "6396/6396 [==============================] - 79s 12ms/step - loss: 0.3793 - accuracy: 0.8454 - val_loss: 0.3895 - val_accuracy: 0.8349\n",
            "Epoch 9/25\n",
            "6396/6396 [==============================] - 79s 12ms/step - loss: 0.3571 - accuracy: 0.8541 - val_loss: 0.3765 - val_accuracy: 0.8424\n",
            "Epoch 10/25\n",
            "6396/6396 [==============================] - 79s 12ms/step - loss: 0.3607 - accuracy: 0.8537 - val_loss: 0.3269 - val_accuracy: 0.8682\n",
            "Epoch 11/25\n",
            "6396/6396 [==============================] - 79s 12ms/step - loss: 0.3332 - accuracy: 0.8660 - val_loss: 0.3294 - val_accuracy: 0.8748\n",
            "Epoch 12/25\n",
            "6396/6396 [==============================] - 79s 12ms/step - loss: 0.3319 - accuracy: 0.8685 - val_loss: 0.3245 - val_accuracy: 0.8621\n",
            "Epoch 13/25\n",
            "6396/6396 [==============================] - 79s 12ms/step - loss: 0.3200 - accuracy: 0.8709 - val_loss: 0.4988 - val_accuracy: 0.7598\n",
            "Epoch 14/25\n",
            "6396/6396 [==============================] - 79s 12ms/step - loss: 0.3101 - accuracy: 0.8770 - val_loss: 0.3965 - val_accuracy: 0.8546\n",
            "Epoch 15/25\n",
            "6396/6396 [==============================] - 79s 12ms/step - loss: 0.2830 - accuracy: 0.8863 - val_loss: 0.2754 - val_accuracy: 0.8879\n",
            "Epoch 16/25\n",
            "6396/6396 [==============================] - 79s 12ms/step - loss: 0.2783 - accuracy: 0.8942 - val_loss: 0.3303 - val_accuracy: 0.8724\n",
            "Epoch 17/25\n",
            "6396/6396 [==============================] - 79s 12ms/step - loss: 0.2651 - accuracy: 0.8987 - val_loss: 0.3935 - val_accuracy: 0.8555\n",
            "Epoch 18/25\n",
            "6396/6396 [==============================] - 79s 12ms/step - loss: 0.2526 - accuracy: 0.9023 - val_loss: 0.2814 - val_accuracy: 0.9001\n",
            "Epoch 19/25\n",
            "6396/6396 [==============================] - 79s 12ms/step - loss: 0.2294 - accuracy: 0.9101 - val_loss: 0.2628 - val_accuracy: 0.8987\n",
            "Epoch 20/25\n",
            "6396/6396 [==============================] - 79s 12ms/step - loss: 0.2279 - accuracy: 0.9160 - val_loss: 0.2585 - val_accuracy: 0.9057\n",
            "Epoch 21/25\n",
            "6396/6396 [==============================] - 79s 12ms/step - loss: 0.1984 - accuracy: 0.9300 - val_loss: 0.3147 - val_accuracy: 0.8865\n",
            "Epoch 22/25\n",
            "6396/6396 [==============================] - 79s 12ms/step - loss: 0.1986 - accuracy: 0.9304 - val_loss: 0.2975 - val_accuracy: 0.8809\n",
            "Epoch 23/25\n",
            "6396/6396 [==============================] - 79s 12ms/step - loss: 0.1655 - accuracy: 0.9404 - val_loss: 0.3352 - val_accuracy: 0.8898\n",
            "Epoch 24/25\n",
            "6396/6396 [==============================] - 79s 12ms/step - loss: 0.1492 - accuracy: 0.9457 - val_loss: 0.2544 - val_accuracy: 0.9057\n",
            "Epoch 25/25\n",
            "6396/6396 [==============================] - 79s 12ms/step - loss: 0.1369 - accuracy: 0.9489 - val_loss: 0.2625 - val_accuracy: 0.9104\n"
          ],
          "name": "stdout"
        }
      ]
    },
    {
      "cell_type": "code",
      "metadata": {
        "colab_type": "code",
        "outputId": "93fcc9c7-ac5b-47c2-89d2-59302c871904",
        "id": "8fcVersOSyYQ",
        "colab": {
          "base_uri": "https://localhost:8080/",
          "height": 74
        }
      },
      "source": [
        "preds = model.evaluate(x_test, y_test)\n",
        "print (\"Loss = \" + str(preds[0]))\n",
        "print (\"Test Accuracy = \" + str(preds[1]))"
      ],
      "execution_count": 0,
      "outputs": [
        {
          "output_type": "stream",
          "text": [
            "2133/2133 [==============================] - 9s 4ms/step\n",
            "Loss = 0.29225506081275965\n",
            "Test Accuracy = 0.8992030024528503\n"
          ],
          "name": "stdout"
        }
      ]
    },
    {
      "cell_type": "code",
      "metadata": {
        "colab_type": "code",
        "outputId": "80ca5bc7-332f-4af3-e475-d5a74667cdd9",
        "id": "mPoODeJkSyYW",
        "colab": {
          "base_uri": "https://localhost:8080/",
          "height": 295
        }
      },
      "source": [
        "plt.plot(history.history['loss'])\n",
        "plt.plot(history.history['val_loss'])\n",
        "plt.title('model loss')\n",
        "plt.ylabel('loss')\n",
        "plt.xlabel('epoch')\n",
        "plt.legend(['train', 'test'], loc='upper left')\n",
        "plt.show()"
      ],
      "execution_count": 0,
      "outputs": [
        {
          "output_type": "display_data",
          "data": {
            "image/png": "[encoded data removed]",
            "text/plain": [
              "<Figure size 432x288 with 1 Axes>"
            ]
          },
          "metadata": {
            "tags": [],
            "needs_background": "light"
          }
        }
      ]
    },
    {
      "cell_type": "code",
      "metadata": {
        "colab_type": "code",
        "outputId": "c725cf5d-333e-4761-d8ac-f4e83a4c3472",
        "id": "lL4P5ddxSyYa",
        "colab": {
          "base_uri": "https://localhost:8080/",
          "height": 295
        }
      },
      "source": [
        "plt.plot(history.history['accuracy'])\n",
        "plt.plot(history.history['val_accuracy'])\n",
        "plt.title('model accuracy')\n",
        "plt.ylabel('acc')\n",
        "plt.xlabel('epoch')\n",
        "plt.legend(['train', 'test'], loc='upper left')\n",
        "plt.show()"
      ],
      "execution_count": 0,
      "outputs": [
        {
          "output_type": "display_data",
          "data": {
            "image/png": "[encoded data removed]",
            "text/plain": [
              "<Figure size 432x288 with 1 Axes>"
            ]
          },
          "metadata": {
            "tags": [],
            "needs_background": "light"
          }
        }
      ]
    },
    {
      "cell_type": "code",
      "metadata": {
        "colab_type": "code",
        "id": "5rIf0V7FSyYh",
        "colab": {}
      },
      "source": [
        "predictions = model.predict(x_test)"
      ],
      "execution_count": 0,
      "outputs": []
    },
    {
      "cell_type": "code",
      "metadata": {
        "colab_type": "code",
        "id": "Cx63CaywSyYl",
        "colab": {}
      },
      "source": [
        "p = predictions.round()"
      ],
      "execution_count": 0,
      "outputs": []
    },
    {
      "cell_type": "code",
      "metadata": {
        "colab_type": "code",
        "id": "zj3iHN1eSyYp",
        "colab": {}
      },
      "source": [
        "y_pred = np.argmax(p, axis=1)"
      ],
      "execution_count": 0,
      "outputs": []
    },
    {
      "cell_type": "code",
      "metadata": {
        "colab_type": "code",
        "id": "gcWB9pr-SyYu",
        "colab": {}
      },
      "source": [
        "newY_test = np.argmax(y_test, axis=1)"
      ],
      "execution_count": 0,
      "outputs": []
    },
    {
      "cell_type": "code",
      "metadata": {
        "colab_type": "code",
        "outputId": "e525521c-5f30-4df0-b591-8d7da2eea73e",
        "id": "uVOtqEiaSyYz",
        "colab": {
          "base_uri": "https://localhost:8080/",
          "height": 188
        }
      },
      "source": [
        "from sklearn.metrics import classification_report\n",
        "report = classification_report(newY_test, y_pred)\n",
        "print(report)"
      ],
      "execution_count": 0,
      "outputs": [
        {
          "output_type": "stream",
          "text": [
            "              precision    recall  f1-score   support\n",
            "\n",
            "           0       0.86      0.82      0.84       684\n",
            "           1       0.92      0.94      0.93      1449\n",
            "\n",
            "    accuracy                           0.90      2133\n",
            "   macro avg       0.89      0.88      0.88      2133\n",
            "weighted avg       0.90      0.90      0.90      2133\n",
            "\n"
          ],
          "name": "stdout"
        }
      ]
    },
    {
      "cell_type": "code",
      "metadata": {
        "colab_type": "code",
        "outputId": "42d40fbb-0589-4d79-974f-6e9cf61b1981",
        "id": "bSks9TTWSyY4",
        "colab": {
          "base_uri": "https://localhost:8080/",
          "height": 447
        }
      },
      "source": [
        "from sklearn.metrics import confusion_matrix\n",
        "matrix = confusion_matrix(newY_test, y_pred)\n",
        "import seaborn as sn\n",
        "import pandas as pd\n",
        "df_cm = pd.DataFrame(matrix,index = [i for i in range(2)],columns = [i for i in range(2)])\n",
        "plt.figure(figsize = (9,7))\n",
        "sn.heatmap(df_cm, annot=True, fmt=\"d\")"
      ],
      "execution_count": 0,
      "outputs": [
        {
          "output_type": "execute_result",
          "data": {
            "text/plain": [
              "<matplotlib.axes._subplots.AxesSubplot at 0x7fb57319bda0>"
            ]
          },
          "metadata": {
            "tags": []
          },
          "execution_count": 43
        },
        {
          "output_type": "display_data",
          "data": {
            "image/png": "[encoded data removed]",
            "text/plain": [
              "<Figure size 648x504 with 2 Axes>"
            ]
          },
          "metadata": {
            "tags": [],
            "needs_background": "light"
          }
        }
      ]
    },
    {
      "cell_type": "code",
      "metadata": {
        "colab_type": "code",
        "id": "WI-ciV1rSyY9",
        "colab": {}
      },
      "source": [
        ""
      ],
      "execution_count": 0,
      "outputs": []
    },
    {
      "cell_type": "code",
      "metadata": {
        "id": "eoppi3DzdNVg",
        "colab_type": "code",
        "colab": {}
      },
      "source": [
        ""
      ],
      "execution_count": 0,
      "outputs": []
    },
    {
      "cell_type": "markdown",
      "metadata": {
        "colab_type": "text",
        "id": "eWXf9saTdN-a"
      },
      "source": [
        "# VGG16\n",
        "with Augmentation"
      ]
    },
    {
      "cell_type": "code",
      "metadata": {
        "colab_type": "code",
        "id": "WMJBf8_adN-c",
        "outputId": "b556f2f0-0082-4b53-9947-7fb034b5c3ee",
        "colab": {
          "base_uri": "https://localhost:8080/",
          "height": 56
        }
      },
      "source": [
        "img_height,img_width = 224,224 \n",
        "num_classes = 2\n",
        "\n",
        "base_model = applications.vgg16.VGG16(weights= 'imagenet', include_top=False, input_shape= (img_height,img_width,3))"
      ],
      "execution_count": 0,
      "outputs": [
        {
          "output_type": "stream",
          "text": [
            "Downloading data from https://github.com/fchollet/deep-learning-models/releases/download/v0.1/vgg16_weights_tf_dim_ordering_tf_kernels_notop.h5\n",
            "58892288/58889256 [==============================] - 1s 0us/step\n"
          ],
          "name": "stdout"
        }
      ]
    },
    {
      "cell_type": "code",
      "metadata": {
        "colab_type": "code",
        "id": "S5h1iLTSdN-o",
        "outputId": "855ae7f9-cb84-486f-d3f8-e9a2a40467e2",
        "colab": {
          "base_uri": "https://localhost:8080/",
          "height": 492
        }
      },
      "source": [
        "base_model.trainable = False\n",
        "x = base_model.get_layer('block5_pool')\n",
        "#x = base_model.output\n",
        "#x = GlobalAveragePooling2D()(x)\n",
        "x = Dense(512, activation = 'relu')(x)\n",
        "x = Dropout(0.4)(x)\n",
        "predictions = Dense(2, activation= 'softmax')(x)\n",
        "model = Model(inputs = base_model.input, outputs = predictions)"
      ],
      "execution_count": 0,
      "outputs": [
        {
          "output_type": "error",
          "ename": "ValueError",
          "evalue": "ignored",
          "traceback": [
            "\u001b[0;31m---------------------------------------------------------------------------\u001b[0m",
            "\u001b[0;31mValueError\u001b[0m                                Traceback (most recent call last)",
            "\u001b[0;32m/usr/local/lib/python3.6/dist-packages/keras/engine/base_layer.py\u001b[0m in \u001b[0;36massert_input_compatibility\u001b[0;34m(self, inputs)\u001b[0m\n\u001b[1;32m    309\u001b[0m             \u001b[0;32mtry\u001b[0m\u001b[0;34m:\u001b[0m\u001b[0;34m\u001b[0m\u001b[0;34m\u001b[0m\u001b[0m\n\u001b[0;32m--> 310\u001b[0;31m                 \u001b[0mK\u001b[0m\u001b[0;34m.\u001b[0m\u001b[0mis_keras_tensor\u001b[0m\u001b[0;34m(\u001b[0m\u001b[0mx\u001b[0m\u001b[0;34m)\u001b[0m\u001b[0;34m\u001b[0m\u001b[0;34m\u001b[0m\u001b[0m\n\u001b[0m\u001b[1;32m    311\u001b[0m             \u001b[0;32mexcept\u001b[0m \u001b[0mValueError\u001b[0m\u001b[0;34m:\u001b[0m\u001b[0;34m\u001b[0m\u001b[0;34m\u001b[0m\u001b[0m\n",
            "\u001b[0;32m/usr/local/lib/python3.6/dist-packages/keras/backend/tensorflow_backend.py\u001b[0m in \u001b[0;36mis_keras_tensor\u001b[0;34m(x)\u001b[0m\n\u001b[1;32m    696\u001b[0m         raise ValueError('Unexpectedly found an instance of type `' +\n\u001b[0;32m--> 697\u001b[0;31m                          \u001b[0mstr\u001b[0m\u001b[0;34m(\u001b[0m\u001b[0mtype\u001b[0m\u001b[0;34m(\u001b[0m\u001b[0mx\u001b[0m\u001b[0;34m)\u001b[0m\u001b[0;34m)\u001b[0m \u001b[0;34m+\u001b[0m \u001b[0;34m'`. '\u001b[0m\u001b[0;34m\u001b[0m\u001b[0;34m\u001b[0m\u001b[0m\n\u001b[0m\u001b[1;32m    698\u001b[0m                          'Expected a symbolic tensor instance.')\n",
            "\u001b[0;31mValueError\u001b[0m: Unexpectedly found an instance of type `<class 'keras.layers.pooling.MaxPooling2D'>`. Expected a symbolic tensor instance.",
            "\nDuring handling of the above exception, another exception occurred:\n",
            "\u001b[0;31mValueError\u001b[0m                                Traceback (most recent call last)",
            "\u001b[0;32m<ipython-input-34-568050a78672>\u001b[0m in \u001b[0;36m<module>\u001b[0;34m()\u001b[0m\n\u001b[1;32m      3\u001b[0m \u001b[0;31m#x = base_model.output\u001b[0m\u001b[0;34m\u001b[0m\u001b[0;34m\u001b[0m\u001b[0;34m\u001b[0m\u001b[0m\n\u001b[1;32m      4\u001b[0m \u001b[0;31m#x = GlobalAveragePooling2D()(x)\u001b[0m\u001b[0;34m\u001b[0m\u001b[0;34m\u001b[0m\u001b[0;34m\u001b[0m\u001b[0m\n\u001b[0;32m----> 5\u001b[0;31m \u001b[0mx\u001b[0m \u001b[0;34m=\u001b[0m \u001b[0mDense\u001b[0m\u001b[0;34m(\u001b[0m\u001b[0;36m512\u001b[0m\u001b[0;34m,\u001b[0m \u001b[0mactivation\u001b[0m \u001b[0;34m=\u001b[0m \u001b[0;34m'relu'\u001b[0m\u001b[0;34m)\u001b[0m\u001b[0;34m(\u001b[0m\u001b[0mx\u001b[0m\u001b[0;34m)\u001b[0m\u001b[0;34m\u001b[0m\u001b[0;34m\u001b[0m\u001b[0m\n\u001b[0m\u001b[1;32m      6\u001b[0m \u001b[0mx\u001b[0m \u001b[0;34m=\u001b[0m \u001b[0mDropout\u001b[0m\u001b[0;34m(\u001b[0m\u001b[0;36m0.4\u001b[0m\u001b[0;34m)\u001b[0m\u001b[0;34m(\u001b[0m\u001b[0mx\u001b[0m\u001b[0;34m)\u001b[0m\u001b[0;34m\u001b[0m\u001b[0;34m\u001b[0m\u001b[0m\n\u001b[1;32m      7\u001b[0m \u001b[0mpredictions\u001b[0m \u001b[0;34m=\u001b[0m \u001b[0mDense\u001b[0m\u001b[0;34m(\u001b[0m\u001b[0;36m2\u001b[0m\u001b[0;34m,\u001b[0m \u001b[0mactivation\u001b[0m\u001b[0;34m=\u001b[0m \u001b[0;34m'softmax'\u001b[0m\u001b[0;34m)\u001b[0m\u001b[0;34m(\u001b[0m\u001b[0mx\u001b[0m\u001b[0;34m)\u001b[0m\u001b[0;34m\u001b[0m\u001b[0;34m\u001b[0m\u001b[0m\n",
            "\u001b[0;32m/usr/local/lib/python3.6/dist-packages/keras/backend/tensorflow_backend.py\u001b[0m in \u001b[0;36msymbolic_fn_wrapper\u001b[0;34m(*args, **kwargs)\u001b[0m\n\u001b[1;32m     73\u001b[0m         \u001b[0;32mif\u001b[0m \u001b[0m_SYMBOLIC_SCOPE\u001b[0m\u001b[0;34m.\u001b[0m\u001b[0mvalue\u001b[0m\u001b[0;34m:\u001b[0m\u001b[0;34m\u001b[0m\u001b[0;34m\u001b[0m\u001b[0m\n\u001b[1;32m     74\u001b[0m             \u001b[0;32mwith\u001b[0m \u001b[0mget_graph\u001b[0m\u001b[0;34m(\u001b[0m\u001b[0;34m)\u001b[0m\u001b[0;34m.\u001b[0m\u001b[0mas_default\u001b[0m\u001b[0;34m(\u001b[0m\u001b[0;34m)\u001b[0m\u001b[0;34m:\u001b[0m\u001b[0;34m\u001b[0m\u001b[0;34m\u001b[0m\u001b[0m\n\u001b[0;32m---> 75\u001b[0;31m                 \u001b[0;32mreturn\u001b[0m \u001b[0mfunc\u001b[0m\u001b[0;34m(\u001b[0m\u001b[0;34m*\u001b[0m\u001b[0margs\u001b[0m\u001b[0;34m,\u001b[0m \u001b[0;34m**\u001b[0m\u001b[0mkwargs\u001b[0m\u001b[0;34m)\u001b[0m\u001b[0;34m\u001b[0m\u001b[0;34m\u001b[0m\u001b[0m\n\u001b[0m\u001b[1;32m     76\u001b[0m         \u001b[0;32melse\u001b[0m\u001b[0;34m:\u001b[0m\u001b[0;34m\u001b[0m\u001b[0;34m\u001b[0m\u001b[0m\n\u001b[1;32m     77\u001b[0m             \u001b[0;32mreturn\u001b[0m \u001b[0mfunc\u001b[0m\u001b[0;34m(\u001b[0m\u001b[0;34m*\u001b[0m\u001b[0margs\u001b[0m\u001b[0;34m,\u001b[0m \u001b[0;34m**\u001b[0m\u001b[0mkwargs\u001b[0m\u001b[0;34m)\u001b[0m\u001b[0;34m\u001b[0m\u001b[0;34m\u001b[0m\u001b[0m\n",
            "\u001b[0;32m/usr/local/lib/python3.6/dist-packages/keras/engine/base_layer.py\u001b[0m in \u001b[0;36m__call__\u001b[0;34m(self, inputs, **kwargs)\u001b[0m\n\u001b[1;32m    444\u001b[0m                 \u001b[0;31m# Raise exceptions in case the input is not compatible\u001b[0m\u001b[0;34m\u001b[0m\u001b[0;34m\u001b[0m\u001b[0;34m\u001b[0m\u001b[0m\n\u001b[1;32m    445\u001b[0m                 \u001b[0;31m# with the input_spec specified in the layer constructor.\u001b[0m\u001b[0;34m\u001b[0m\u001b[0;34m\u001b[0m\u001b[0;34m\u001b[0m\u001b[0m\n\u001b[0;32m--> 446\u001b[0;31m                 \u001b[0mself\u001b[0m\u001b[0;34m.\u001b[0m\u001b[0massert_input_compatibility\u001b[0m\u001b[0;34m(\u001b[0m\u001b[0minputs\u001b[0m\u001b[0;34m)\u001b[0m\u001b[0;34m\u001b[0m\u001b[0;34m\u001b[0m\u001b[0m\n\u001b[0m\u001b[1;32m    447\u001b[0m \u001b[0;34m\u001b[0m\u001b[0m\n\u001b[1;32m    448\u001b[0m                 \u001b[0;31m# Collect input shapes to build layer.\u001b[0m\u001b[0;34m\u001b[0m\u001b[0;34m\u001b[0m\u001b[0;34m\u001b[0m\u001b[0m\n",
            "\u001b[0;32m/usr/local/lib/python3.6/dist-packages/keras/engine/base_layer.py\u001b[0m in \u001b[0;36massert_input_compatibility\u001b[0;34m(self, inputs)\u001b[0m\n\u001b[1;32m    314\u001b[0m                                  \u001b[0;34m'Received type: '\u001b[0m \u001b[0;34m+\u001b[0m\u001b[0;34m\u001b[0m\u001b[0;34m\u001b[0m\u001b[0m\n\u001b[1;32m    315\u001b[0m                                  \u001b[0mstr\u001b[0m\u001b[0;34m(\u001b[0m\u001b[0mtype\u001b[0m\u001b[0;34m(\u001b[0m\u001b[0mx\u001b[0m\u001b[0;34m)\u001b[0m\u001b[0;34m)\u001b[0m \u001b[0;34m+\u001b[0m \u001b[0;34m'. Full input: '\u001b[0m \u001b[0;34m+\u001b[0m\u001b[0;34m\u001b[0m\u001b[0;34m\u001b[0m\u001b[0m\n\u001b[0;32m--> 316\u001b[0;31m                                  \u001b[0mstr\u001b[0m\u001b[0;34m(\u001b[0m\u001b[0minputs\u001b[0m\u001b[0;34m)\u001b[0m \u001b[0;34m+\u001b[0m \u001b[0;34m'. All inputs to the layer '\u001b[0m\u001b[0;34m\u001b[0m\u001b[0;34m\u001b[0m\u001b[0m\n\u001b[0m\u001b[1;32m    317\u001b[0m                                  'should be tensors.')\n\u001b[1;32m    318\u001b[0m \u001b[0;34m\u001b[0m\u001b[0m\n",
            "\u001b[0;31mValueError\u001b[0m: Layer dense_5 was called with an input that isn't a symbolic tensor. Received type: <class 'keras.layers.pooling.MaxPooling2D'>. Full input: [<keras.layers.pooling.MaxPooling2D object at 0x7fe10cc4a4a8>]. All inputs to the layer should be tensors."
          ]
        }
      ]
    },
    {
      "cell_type": "code",
      "metadata": {
        "id": "dvVuQxR_Zux6",
        "colab_type": "code",
        "outputId": "7e4b2c95-f739-49bb-d3c1-5f7b35377ed0",
        "colab": {
          "base_uri": "https://localhost:8080/",
          "height": 1000
        }
      },
      "source": [
        "model.summary()"
      ],
      "execution_count": 0,
      "outputs": [
        {
          "output_type": "stream",
          "text": [
            "Model: \"model_3\"\n",
            "_________________________________________________________________\n",
            "Layer (type)                 Output Shape              Param #   \n",
            "=================================================================\n",
            "input_1 (InputLayer)         (None, 224, 224, 3)       0         \n",
            "_________________________________________________________________\n",
            "block1_conv1 (Conv2D)        (None, 224, 224, 64)      1792      \n",
            "_________________________________________________________________\n",
            "block1_conv2 (Conv2D)        (None, 224, 224, 64)      36928     \n",
            "_________________________________________________________________\n",
            "block1_pool (MaxPooling2D)   (None, 112, 112, 64)      0         \n",
            "_________________________________________________________________\n",
            "block2_conv1 (Conv2D)        (None, 112, 112, 128)     73856     \n",
            "_________________________________________________________________\n",
            "block2_conv2 (Conv2D)        (None, 112, 112, 128)     147584    \n",
            "_________________________________________________________________\n",
            "block2_pool (MaxPooling2D)   (None, 56, 56, 128)       0         \n",
            "_________________________________________________________________\n",
            "block3_conv1 (Conv2D)        (None, 56, 56, 256)       295168    \n",
            "_________________________________________________________________\n",
            "block3_conv2 (Conv2D)        (None, 56, 56, 256)       590080    \n",
            "_________________________________________________________________\n",
            "block3_conv3 (Conv2D)        (None, 56, 56, 256)       590080    \n",
            "_________________________________________________________________\n",
            "block3_pool (MaxPooling2D)   (None, 28, 28, 256)       0         \n",
            "_________________________________________________________________\n",
            "block4_conv1 (Conv2D)        (None, 28, 28, 512)       1180160   \n",
            "_________________________________________________________________\n",
            "block4_conv2 (Conv2D)        (None, 28, 28, 512)       2359808   \n",
            "_________________________________________________________________\n",
            "block4_conv3 (Conv2D)        (None, 28, 28, 512)       2359808   \n",
            "_________________________________________________________________\n",
            "block4_pool (MaxPooling2D)   (None, 14, 14, 512)       0         \n",
            "_________________________________________________________________\n",
            "block5_conv1 (Conv2D)        (None, 14, 14, 512)       2359808   \n",
            "_________________________________________________________________\n",
            "block5_conv2 (Conv2D)        (None, 14, 14, 512)       2359808   \n",
            "_________________________________________________________________\n",
            "block5_conv3 (Conv2D)        (None, 14, 14, 512)       2359808   \n",
            "_________________________________________________________________\n",
            "block5_pool (MaxPooling2D)   (None, 7, 7, 512)         0         \n",
            "_________________________________________________________________\n",
            "flatten (Flatten)            (None, 25088)             0         \n",
            "_________________________________________________________________\n",
            "fc1 (Dense)                  (None, 4096)              102764544 \n",
            "_________________________________________________________________\n",
            "fc2 (Dense)                  (None, 4096)              16781312  \n",
            "_________________________________________________________________\n",
            "predictions (Dense)          (None, 1000)              4097000   \n",
            "_________________________________________________________________\n",
            "dense_3 (Dense)              (None, 512)               512512    \n",
            "_________________________________________________________________\n",
            "dropout_3 (Dropout)          (None, 512)               0         \n",
            "_________________________________________________________________\n",
            "dense_4 (Dense)              (None, 2)                 1026      \n",
            "=================================================================\n",
            "Total params: 138,871,082\n",
            "Trainable params: 138,871,082\n",
            "Non-trainable params: 0\n",
            "_________________________________________________________________\n"
          ],
          "name": "stdout"
        }
      ]
    },
    {
      "cell_type": "code",
      "metadata": {
        "colab_type": "code",
        "id": "EofrHLiudN-u",
        "colab": {}
      },
      "source": [
        "from keras.optimizers import SGD, Adam\n",
        "# sgd = SGD(lr=lrate, momentum=0.9, decay=decay, nesterov=False)\n",
        "adam = Adam(lr=0.0005)\n",
        "model.compile(optimizer= adam, loss='categorical_crossentropy', metrics=['accuracy'])"
      ],
      "execution_count": 0,
      "outputs": []
    },
    {
      "cell_type": "markdown",
      "metadata": {
        "id": "CYkIYPTukgH8",
        "colab_type": "text"
      },
      "source": [
        "# **Augmentation**"
      ]
    },
    {
      "cell_type": "code",
      "metadata": {
        "id": "QkpDKoIf9We6",
        "colab_type": "code",
        "colab": {}
      },
      "source": [
        "del X\n",
        "del y"
      ],
      "execution_count": 0,
      "outputs": []
    },
    {
      "cell_type": "code",
      "metadata": {
        "colab_type": "code",
        "id": "NPV-9ZwbdN_z",
        "colab": {}
      },
      "source": [
        "from keras.preprocessing.image import ImageDataGenerator\n",
        "x_train, x_val, y_train, y_val = train_test_split(x_train, y_train, test_size=0.25, random_state=1) # 0.25 x 0.8 = 0.2\n",
        "\n",
        "train_generator = ImageDataGenerator(rotation_range=20, zoom_range=0.15,\n",
        "\t                                  width_shift_range=0.2, height_shift_range=0.2, shear_range=0.05,\n",
        "\t                                  horizontal_flip=True, fill_mode=\"nearest\")\n",
        "\n",
        "test_generator = ImageDataGenerator()\n",
        "\n",
        "train_generator.fit(x_train, augment=True)\n",
        "train_generator = train_generator.flow(x_train, #np.array(x_train)\n",
        "                                       y_train,\n",
        "                                       batch_size = 32)\n",
        "\n",
        "test_generator = test_generator.flow(x_test, #np.array(x_test)\n",
        "                                     y_test,\n",
        "                                     batch_size = 32)"
      ],
      "execution_count": 0,
      "outputs": []
    },
    {
      "cell_type": "code",
      "metadata": {
        "id": "ZIzw9SHp8CLR",
        "colab_type": "code",
        "colab": {}
      },
      "source": [
        "import tensorflow as tf\n",
        "class myCallback(tf.keras.callbacks.Callback):\n",
        "  def on_epoch_end(self, epoch, logs={}):\n",
        "    if(logs.get('val_accuracy')>0.95):\n",
        "      print(\"\\nReached more than 95% accuracy so cancelling training!\")\n",
        "      self.model.stop_training = True\n",
        "\n",
        "callbacks = myCallback()"
      ],
      "execution_count": 0,
      "outputs": []
    },
    {
      "cell_type": "code",
      "metadata": {
        "id": "wp8I1Xh2lRrV",
        "colab_type": "code",
        "outputId": "094d4a8e-aa0b-4cb8-fedd-84529210b641",
        "colab": {
          "base_uri": "https://localhost:8080/",
          "height": 453
        }
      },
      "source": [
        "history = model.fit_generator(train_generator, epochs = 50, verbose=1, validation_data=(x_val, y_val), callbacks=[callbacks])"
      ],
      "execution_count": 0,
      "outputs": [
        {
          "output_type": "stream",
          "text": [
            "Epoch 1/50\n",
            "200/200 [==============================] - 208s 1s/step - loss: 0.6343 - accuracy: 0.6757 - val_loss: 0.6132 - val_accuracy: 0.6993\n",
            "Epoch 2/50\n",
            "200/200 [==============================] - 206s 1s/step - loss: 0.6308 - accuracy: 0.6773 - val_loss: 0.6132 - val_accuracy: 0.6993\n",
            "Epoch 3/50\n",
            "199/200 [============================>.] - ETA: 0s - loss: 0.6295 - accuracy: 0.6776"
          ],
          "name": "stdout"
        },
        {
          "output_type": "error",
          "ename": "KeyboardInterrupt",
          "evalue": "ignored",
          "traceback": [
            "\u001b[0;31m---------------------------------------------------------------------------\u001b[0m",
            "\u001b[0;31mKeyboardInterrupt\u001b[0m                         Traceback (most recent call last)",
            "\u001b[0;32m<ipython-input-28-65bc1f3212e8>\u001b[0m in \u001b[0;36m<module>\u001b[0;34m()\u001b[0m\n\u001b[0;32m----> 1\u001b[0;31m \u001b[0mhistory\u001b[0m \u001b[0;34m=\u001b[0m \u001b[0mmodel\u001b[0m\u001b[0;34m.\u001b[0m\u001b[0mfit_generator\u001b[0m\u001b[0;34m(\u001b[0m\u001b[0mtrain_generator\u001b[0m\u001b[0;34m,\u001b[0m \u001b[0mepochs\u001b[0m \u001b[0;34m=\u001b[0m \u001b[0;36m50\u001b[0m\u001b[0;34m,\u001b[0m \u001b[0mverbose\u001b[0m\u001b[0;34m=\u001b[0m\u001b[0;36m1\u001b[0m\u001b[0;34m,\u001b[0m \u001b[0mvalidation_data\u001b[0m\u001b[0;34m=\u001b[0m\u001b[0;34m(\u001b[0m\u001b[0mx_val\u001b[0m\u001b[0;34m,\u001b[0m \u001b[0my_val\u001b[0m\u001b[0;34m)\u001b[0m\u001b[0;34m,\u001b[0m \u001b[0mcallbacks\u001b[0m\u001b[0;34m=\u001b[0m\u001b[0;34m[\u001b[0m\u001b[0mcallbacks\u001b[0m\u001b[0;34m]\u001b[0m\u001b[0;34m)\u001b[0m\u001b[0;34m\u001b[0m\u001b[0;34m\u001b[0m\u001b[0m\n\u001b[0m",
            "\u001b[0;32m/usr/local/lib/python3.6/dist-packages/keras/legacy/interfaces.py\u001b[0m in \u001b[0;36mwrapper\u001b[0;34m(*args, **kwargs)\u001b[0m\n\u001b[1;32m     89\u001b[0m                 warnings.warn('Update your `' + object_name + '` call to the ' +\n\u001b[1;32m     90\u001b[0m                               'Keras 2 API: ' + signature, stacklevel=2)\n\u001b[0;32m---> 91\u001b[0;31m             \u001b[0;32mreturn\u001b[0m \u001b[0mfunc\u001b[0m\u001b[0;34m(\u001b[0m\u001b[0;34m*\u001b[0m\u001b[0margs\u001b[0m\u001b[0;34m,\u001b[0m \u001b[0;34m**\u001b[0m\u001b[0mkwargs\u001b[0m\u001b[0;34m)\u001b[0m\u001b[0;34m\u001b[0m\u001b[0;34m\u001b[0m\u001b[0m\n\u001b[0m\u001b[1;32m     92\u001b[0m         \u001b[0mwrapper\u001b[0m\u001b[0;34m.\u001b[0m\u001b[0m_original_function\u001b[0m \u001b[0;34m=\u001b[0m \u001b[0mfunc\u001b[0m\u001b[0;34m\u001b[0m\u001b[0;34m\u001b[0m\u001b[0m\n\u001b[1;32m     93\u001b[0m         \u001b[0;32mreturn\u001b[0m \u001b[0mwrapper\u001b[0m\u001b[0;34m\u001b[0m\u001b[0;34m\u001b[0m\u001b[0m\n",
            "\u001b[0;32m/usr/local/lib/python3.6/dist-packages/keras/engine/training.py\u001b[0m in \u001b[0;36mfit_generator\u001b[0;34m(self, generator, steps_per_epoch, epochs, verbose, callbacks, validation_data, validation_steps, validation_freq, class_weight, max_queue_size, workers, use_multiprocessing, shuffle, initial_epoch)\u001b[0m\n\u001b[1;32m   1730\u001b[0m             \u001b[0muse_multiprocessing\u001b[0m\u001b[0;34m=\u001b[0m\u001b[0muse_multiprocessing\u001b[0m\u001b[0;34m,\u001b[0m\u001b[0;34m\u001b[0m\u001b[0;34m\u001b[0m\u001b[0m\n\u001b[1;32m   1731\u001b[0m             \u001b[0mshuffle\u001b[0m\u001b[0;34m=\u001b[0m\u001b[0mshuffle\u001b[0m\u001b[0;34m,\u001b[0m\u001b[0;34m\u001b[0m\u001b[0;34m\u001b[0m\u001b[0m\n\u001b[0;32m-> 1732\u001b[0;31m             initial_epoch=initial_epoch)\n\u001b[0m\u001b[1;32m   1733\u001b[0m \u001b[0;34m\u001b[0m\u001b[0m\n\u001b[1;32m   1734\u001b[0m     \u001b[0;34m@\u001b[0m\u001b[0minterfaces\u001b[0m\u001b[0;34m.\u001b[0m\u001b[0mlegacy_generator_methods_support\u001b[0m\u001b[0;34m\u001b[0m\u001b[0;34m\u001b[0m\u001b[0m\n",
            "\u001b[0;32m/usr/local/lib/python3.6/dist-packages/keras/engine/training_generator.py\u001b[0m in \u001b[0;36mfit_generator\u001b[0;34m(model, generator, steps_per_epoch, epochs, verbose, callbacks, validation_data, validation_steps, validation_freq, class_weight, max_queue_size, workers, use_multiprocessing, shuffle, initial_epoch)\u001b[0m\n\u001b[1;32m    249\u001b[0m                             \u001b[0msample_weight\u001b[0m\u001b[0;34m=\u001b[0m\u001b[0mval_sample_weights\u001b[0m\u001b[0;34m,\u001b[0m\u001b[0;34m\u001b[0m\u001b[0;34m\u001b[0m\u001b[0m\n\u001b[1;32m    250\u001b[0m                             \u001b[0mcallbacks\u001b[0m\u001b[0;34m=\u001b[0m\u001b[0mcallbacks\u001b[0m\u001b[0;34m,\u001b[0m\u001b[0;34m\u001b[0m\u001b[0;34m\u001b[0m\u001b[0m\n\u001b[0;32m--> 251\u001b[0;31m                             verbose=0)\n\u001b[0m\u001b[1;32m    252\u001b[0m                     \u001b[0mval_outs\u001b[0m \u001b[0;34m=\u001b[0m \u001b[0mto_list\u001b[0m\u001b[0;34m(\u001b[0m\u001b[0mval_outs\u001b[0m\u001b[0;34m)\u001b[0m\u001b[0;34m\u001b[0m\u001b[0;34m\u001b[0m\u001b[0m\n\u001b[1;32m    253\u001b[0m                     \u001b[0;31m# Same labels assumed.\u001b[0m\u001b[0;34m\u001b[0m\u001b[0;34m\u001b[0m\u001b[0;34m\u001b[0m\u001b[0m\n",
            "\u001b[0;32m/usr/local/lib/python3.6/dist-packages/keras/engine/training.py\u001b[0m in \u001b[0;36mevaluate\u001b[0;34m(self, x, y, batch_size, verbose, sample_weight, steps, callbacks, max_queue_size, workers, use_multiprocessing)\u001b[0m\n\u001b[1;32m   1359\u001b[0m                                          \u001b[0mverbose\u001b[0m\u001b[0;34m=\u001b[0m\u001b[0mverbose\u001b[0m\u001b[0;34m,\u001b[0m\u001b[0;34m\u001b[0m\u001b[0;34m\u001b[0m\u001b[0m\n\u001b[1;32m   1360\u001b[0m                                          \u001b[0msteps\u001b[0m\u001b[0;34m=\u001b[0m\u001b[0msteps\u001b[0m\u001b[0;34m,\u001b[0m\u001b[0;34m\u001b[0m\u001b[0;34m\u001b[0m\u001b[0m\n\u001b[0;32m-> 1361\u001b[0;31m                                          callbacks=callbacks)\n\u001b[0m\u001b[1;32m   1362\u001b[0m \u001b[0;34m\u001b[0m\u001b[0m\n\u001b[1;32m   1363\u001b[0m     def predict(self, x,\n",
            "\u001b[0;32m/usr/local/lib/python3.6/dist-packages/keras/engine/training_arrays.py\u001b[0m in \u001b[0;36mtest_loop\u001b[0;34m(model, f, ins, batch_size, verbose, steps, callbacks)\u001b[0m\n\u001b[1;32m    439\u001b[0m             \u001b[0;32mif\u001b[0m \u001b[0misinstance\u001b[0m\u001b[0;34m(\u001b[0m\u001b[0mins\u001b[0m\u001b[0;34m[\u001b[0m\u001b[0;34m-\u001b[0m\u001b[0;36m1\u001b[0m\u001b[0;34m]\u001b[0m\u001b[0;34m,\u001b[0m \u001b[0mint\u001b[0m\u001b[0;34m)\u001b[0m\u001b[0;34m:\u001b[0m\u001b[0;34m\u001b[0m\u001b[0;34m\u001b[0m\u001b[0m\n\u001b[1;32m    440\u001b[0m                 \u001b[0;31m# Do not slice the training phase flag.\u001b[0m\u001b[0;34m\u001b[0m\u001b[0;34m\u001b[0m\u001b[0;34m\u001b[0m\u001b[0m\n\u001b[0;32m--> 441\u001b[0;31m                 \u001b[0mins_batch\u001b[0m \u001b[0;34m=\u001b[0m \u001b[0mslice_arrays\u001b[0m\u001b[0;34m(\u001b[0m\u001b[0mins\u001b[0m\u001b[0;34m[\u001b[0m\u001b[0;34m:\u001b[0m\u001b[0;34m-\u001b[0m\u001b[0;36m1\u001b[0m\u001b[0;34m]\u001b[0m\u001b[0;34m,\u001b[0m \u001b[0mbatch_ids\u001b[0m\u001b[0;34m)\u001b[0m \u001b[0;34m+\u001b[0m \u001b[0;34m[\u001b[0m\u001b[0mins\u001b[0m\u001b[0;34m[\u001b[0m\u001b[0;34m-\u001b[0m\u001b[0;36m1\u001b[0m\u001b[0;34m]\u001b[0m\u001b[0;34m]\u001b[0m\u001b[0;34m\u001b[0m\u001b[0;34m\u001b[0m\u001b[0m\n\u001b[0m\u001b[1;32m    442\u001b[0m             \u001b[0;32melse\u001b[0m\u001b[0;34m:\u001b[0m\u001b[0;34m\u001b[0m\u001b[0;34m\u001b[0m\u001b[0m\n\u001b[1;32m    443\u001b[0m                 \u001b[0mins_batch\u001b[0m \u001b[0;34m=\u001b[0m \u001b[0mslice_arrays\u001b[0m\u001b[0;34m(\u001b[0m\u001b[0mins\u001b[0m\u001b[0;34m,\u001b[0m \u001b[0mbatch_ids\u001b[0m\u001b[0;34m)\u001b[0m\u001b[0;34m\u001b[0m\u001b[0;34m\u001b[0m\u001b[0m\n",
            "\u001b[0;32m/usr/local/lib/python3.6/dist-packages/keras/utils/generic_utils.py\u001b[0m in \u001b[0;36mslice_arrays\u001b[0;34m(arrays, start, stop)\u001b[0m\n\u001b[1;32m    553\u001b[0m             \u001b[0;32mif\u001b[0m \u001b[0mhasattr\u001b[0m\u001b[0;34m(\u001b[0m\u001b[0mstart\u001b[0m\u001b[0;34m,\u001b[0m \u001b[0;34m'shape'\u001b[0m\u001b[0;34m)\u001b[0m\u001b[0;34m:\u001b[0m\u001b[0;34m\u001b[0m\u001b[0;34m\u001b[0m\u001b[0m\n\u001b[1;32m    554\u001b[0m                 \u001b[0mstart\u001b[0m \u001b[0;34m=\u001b[0m \u001b[0mstart\u001b[0m\u001b[0;34m.\u001b[0m\u001b[0mtolist\u001b[0m\u001b[0;34m(\u001b[0m\u001b[0;34m)\u001b[0m\u001b[0;34m\u001b[0m\u001b[0;34m\u001b[0m\u001b[0m\n\u001b[0;32m--> 555\u001b[0;31m             \u001b[0;32mreturn\u001b[0m \u001b[0;34m[\u001b[0m\u001b[0;32mNone\u001b[0m \u001b[0;32mif\u001b[0m \u001b[0mx\u001b[0m \u001b[0;32mis\u001b[0m \u001b[0;32mNone\u001b[0m \u001b[0;32melse\u001b[0m \u001b[0mx\u001b[0m\u001b[0;34m[\u001b[0m\u001b[0mstart\u001b[0m\u001b[0;34m]\u001b[0m \u001b[0;32mfor\u001b[0m \u001b[0mx\u001b[0m \u001b[0;32min\u001b[0m \u001b[0marrays\u001b[0m\u001b[0;34m]\u001b[0m\u001b[0;34m\u001b[0m\u001b[0;34m\u001b[0m\u001b[0m\n\u001b[0m\u001b[1;32m    556\u001b[0m         \u001b[0;32melse\u001b[0m\u001b[0;34m:\u001b[0m\u001b[0;34m\u001b[0m\u001b[0;34m\u001b[0m\u001b[0m\n\u001b[1;32m    557\u001b[0m             \u001b[0;32mreturn\u001b[0m \u001b[0;34m[\u001b[0m\u001b[0;32mNone\u001b[0m \u001b[0;32mif\u001b[0m \u001b[0mx\u001b[0m \u001b[0;32mis\u001b[0m \u001b[0;32mNone\u001b[0m \u001b[0;32melse\u001b[0m \u001b[0mx\u001b[0m\u001b[0;34m[\u001b[0m\u001b[0mstart\u001b[0m\u001b[0;34m:\u001b[0m\u001b[0mstop\u001b[0m\u001b[0;34m]\u001b[0m \u001b[0;32mfor\u001b[0m \u001b[0mx\u001b[0m \u001b[0;32min\u001b[0m \u001b[0marrays\u001b[0m\u001b[0;34m]\u001b[0m\u001b[0;34m\u001b[0m\u001b[0;34m\u001b[0m\u001b[0m\n",
            "\u001b[0;32m/usr/local/lib/python3.6/dist-packages/keras/utils/generic_utils.py\u001b[0m in \u001b[0;36m<listcomp>\u001b[0;34m(.0)\u001b[0m\n\u001b[1;32m    553\u001b[0m             \u001b[0;32mif\u001b[0m \u001b[0mhasattr\u001b[0m\u001b[0;34m(\u001b[0m\u001b[0mstart\u001b[0m\u001b[0;34m,\u001b[0m \u001b[0;34m'shape'\u001b[0m\u001b[0;34m)\u001b[0m\u001b[0;34m:\u001b[0m\u001b[0;34m\u001b[0m\u001b[0;34m\u001b[0m\u001b[0m\n\u001b[1;32m    554\u001b[0m                 \u001b[0mstart\u001b[0m \u001b[0;34m=\u001b[0m \u001b[0mstart\u001b[0m\u001b[0;34m.\u001b[0m\u001b[0mtolist\u001b[0m\u001b[0;34m(\u001b[0m\u001b[0;34m)\u001b[0m\u001b[0;34m\u001b[0m\u001b[0;34m\u001b[0m\u001b[0m\n\u001b[0;32m--> 555\u001b[0;31m             \u001b[0;32mreturn\u001b[0m \u001b[0;34m[\u001b[0m\u001b[0;32mNone\u001b[0m \u001b[0;32mif\u001b[0m \u001b[0mx\u001b[0m \u001b[0;32mis\u001b[0m \u001b[0;32mNone\u001b[0m \u001b[0;32melse\u001b[0m \u001b[0mx\u001b[0m\u001b[0;34m[\u001b[0m\u001b[0mstart\u001b[0m\u001b[0;34m]\u001b[0m \u001b[0;32mfor\u001b[0m \u001b[0mx\u001b[0m \u001b[0;32min\u001b[0m \u001b[0marrays\u001b[0m\u001b[0;34m]\u001b[0m\u001b[0;34m\u001b[0m\u001b[0;34m\u001b[0m\u001b[0m\n\u001b[0m\u001b[1;32m    556\u001b[0m         \u001b[0;32melse\u001b[0m\u001b[0;34m:\u001b[0m\u001b[0;34m\u001b[0m\u001b[0;34m\u001b[0m\u001b[0m\n\u001b[1;32m    557\u001b[0m             \u001b[0;32mreturn\u001b[0m \u001b[0;34m[\u001b[0m\u001b[0;32mNone\u001b[0m \u001b[0;32mif\u001b[0m \u001b[0mx\u001b[0m \u001b[0;32mis\u001b[0m \u001b[0;32mNone\u001b[0m \u001b[0;32melse\u001b[0m \u001b[0mx\u001b[0m\u001b[0;34m[\u001b[0m\u001b[0mstart\u001b[0m\u001b[0;34m:\u001b[0m\u001b[0mstop\u001b[0m\u001b[0;34m]\u001b[0m \u001b[0;32mfor\u001b[0m \u001b[0mx\u001b[0m \u001b[0;32min\u001b[0m \u001b[0marrays\u001b[0m\u001b[0;34m]\u001b[0m\u001b[0;34m\u001b[0m\u001b[0;34m\u001b[0m\u001b[0m\n",
            "\u001b[0;31mKeyboardInterrupt\u001b[0m: "
          ]
        }
      ]
    },
    {
      "cell_type": "code",
      "metadata": {
        "id": "NGwgZkoOlaEb",
        "colab_type": "code",
        "outputId": "fbf4e211-21df-4d9d-db64-03f7e2d8e6de",
        "colab": {
          "base_uri": "https://localhost:8080/",
          "height": 55
        }
      },
      "source": [
        "print(\"Test_Accuracy(after augmentation): {:.2f}%\".format(model.evaluate_generator(test_generator, steps = len(x_test), verbose = 1)[1]*100))"
      ],
      "execution_count": 0,
      "outputs": [
        {
          "output_type": "stream",
          "text": [
            "2133/2133 [==============================] - 166s 78ms/step\n",
            "Test_Accuracy(after augmentation): 77.54%\n"
          ],
          "name": "stdout"
        }
      ]
    },
    {
      "cell_type": "code",
      "metadata": {
        "id": "ZOVajCB1l4PI",
        "colab_type": "code",
        "outputId": "166ec0f6-8b46-4090-dc4b-0063aac96b33",
        "colab": {
          "base_uri": "https://localhost:8080/",
          "height": 295
        }
      },
      "source": [
        "plt.plot(history.history['accuracy'])\n",
        "plt.plot(history.history['val_accuracy'])\n",
        "plt.title('model accuracy')\n",
        "plt.ylabel('acc')\n",
        "plt.xlabel('epoch')\n",
        "plt.legend(['train', 'test'], loc='upper left')\n",
        "plt.show()"
      ],
      "execution_count": 0,
      "outputs": [
        {
          "output_type": "display_data",
          "data": {
            "image/png": "[encoded data removed]",
            "text/plain": [
              "<Figure size 432x288 with 1 Axes>"
            ]
          },
          "metadata": {
            "tags": [],
            "needs_background": "light"
          }
        }
      ]
    },
    {
      "cell_type": "code",
      "metadata": {
        "id": "F-bv8XegFM_D",
        "colab_type": "code",
        "outputId": "6c581e94-d5ba-40c5-c05e-728b8aedb1eb",
        "colab": {
          "base_uri": "https://localhost:8080/",
          "height": 36
        }
      },
      "source": [
        "predictions = model.predict_generator(test_generator, verbose=1)\n",
        "p = predictions.round()\n",
        "y_pred = np.argmax(p, axis=1)\n",
        "\n",
        "newY_test = np.argmax(y_test, axis=1)"
      ],
      "execution_count": 0,
      "outputs": [
        {
          "output_type": "stream",
          "text": [
            "67/67 [==============================] - 6s 91ms/step\n"
          ],
          "name": "stdout"
        }
      ]
    },
    {
      "cell_type": "code",
      "metadata": {
        "id": "qrbdhL6uIIrC",
        "colab_type": "code",
        "outputId": "285e4deb-d0ba-46c8-8eba-13316e7539e8",
        "colab": {
          "base_uri": "https://localhost:8080/",
          "height": 36
        }
      },
      "source": [
        "y_pred[:5]"
      ],
      "execution_count": 0,
      "outputs": [
        {
          "output_type": "execute_result",
          "data": {
            "text/plain": [
              "array([0, 1, 1, 0, 1])"
            ]
          },
          "metadata": {
            "tags": []
          },
          "execution_count": 27
        }
      ]
    },
    {
      "cell_type": "code",
      "metadata": {
        "id": "6IeWOG_HHmQ6",
        "colab_type": "code",
        "outputId": "e7781ed7-7fd9-4283-9796-7d546efb481c",
        "colab": {
          "base_uri": "https://localhost:8080/",
          "height": 36
        }
      },
      "source": [
        "len(y_pred), len(newY_test)"
      ],
      "execution_count": 0,
      "outputs": [
        {
          "output_type": "execute_result",
          "data": {
            "text/plain": [
              "(2133, 2133)"
            ]
          },
          "metadata": {
            "tags": []
          },
          "execution_count": 28
        }
      ]
    },
    {
      "cell_type": "code",
      "metadata": {
        "id": "j2g7vJOgFdh3",
        "colab_type": "code",
        "outputId": "40a646b2-df92-45db-da76-ce35de0551a6",
        "colab": {
          "base_uri": "https://localhost:8080/",
          "height": 187
        }
      },
      "source": [
        "from sklearn.metrics import classification_report\n",
        "report = classification_report(newY_test, y_pred)\n",
        "print(report)"
      ],
      "execution_count": 0,
      "outputs": [
        {
          "output_type": "stream",
          "text": [
            "              precision    recall  f1-score   support\n",
            "\n",
            "           0       0.98      0.66      0.79       684\n",
            "           1       0.86      0.99      0.92      1449\n",
            "\n",
            "    accuracy                           0.89      2133\n",
            "   macro avg       0.92      0.83      0.86      2133\n",
            "weighted avg       0.90      0.89      0.88      2133\n",
            "\n"
          ],
          "name": "stdout"
        }
      ]
    },
    {
      "cell_type": "code",
      "metadata": {
        "id": "SMvbj8DaFGga",
        "colab_type": "code",
        "outputId": "654056fd-5558-47b0-8ff9-263a8613ca46",
        "colab": {
          "base_uri": "https://localhost:8080/",
          "height": 505
        }
      },
      "source": [
        "from sklearn.metrics import confusion_matrix\n",
        "matrix = confusion_matrix(newY_test, y_pred)\n",
        "import seaborn as sn\n",
        "import pandas as pd\n",
        "df_cm = pd.DataFrame(matrix,index = [i for i in range(2)],columns = [i for i in range(2)])\n",
        "plt.figure(figsize = (9,7))\n",
        "sn.heatmap(df_cm, annot=True, fmt=\"d\")"
      ],
      "execution_count": 0,
      "outputs": [
        {
          "output_type": "stream",
          "text": [
            "/usr/local/lib/python3.6/dist-packages/statsmodels/tools/_testing.py:19: FutureWarning: pandas.util.testing is deprecated. Use the functions in the public API at pandas.testing instead.\n",
            "  import pandas.util.testing as tm\n"
          ],
          "name": "stderr"
        },
        {
          "output_type": "execute_result",
          "data": {
            "text/plain": [
              "<matplotlib.axes._subplots.AxesSubplot at 0x7fa8cad71f98>"
            ]
          },
          "metadata": {
            "tags": []
          },
          "execution_count": 30
        },
        {
          "output_type": "display_data",
          "data": {
            "image/png": "[encoded data removed]",
            "text/plain": [
              "<Figure size 648x504 with 2 Axes>"
            ]
          },
          "metadata": {
            "tags": [],
            "needs_background": "light"
          }
        }
      ]
    },
    {
      "cell_type": "code",
      "metadata": {
        "id": "CW_lM0uAK6xZ",
        "colab_type": "code",
        "outputId": "3a15e0ca-15f0-4c10-b441-3944abe29b2c",
        "colab": {
          "base_uri": "https://localhost:8080/",
          "height": 36
        }
      },
      "source": [
        "model_name = 'VGG19Drop9Epoch50Size224_224AUGMENTED.h5'\n",
        "save_dir = '/content/drive/My Drive/Colab Notebooks'\n",
        "# Save model and weights\n",
        "if not os.path.isdir(save_dir):\n",
        "    os.makedirs(save_dir)\n",
        "model_path = os.path.join(save_dir, model_name)\n",
        "model.save(model_path)\n",
        "print('Saved trained model at %s ' % model_path)"
      ],
      "execution_count": 0,
      "outputs": [
        {
          "output_type": "stream",
          "text": [
            "Saved trained model at /content/drive/My Drive/Colab Notebooks/VGG19Drop9Epoch50Size224_224AUGMENTED.h5 \n"
          ],
          "name": "stdout"
        }
      ]
    },
    {
      "cell_type": "code",
      "metadata": {
        "id": "YVP3SQUFv-Xp",
        "colab_type": "code",
        "colab": {}
      },
      "source": [
        ""
      ],
      "execution_count": 0,
      "outputs": []
    },
    {
      "cell_type": "code",
      "metadata": {
        "id": "JL_gARPYf6Q9",
        "colab_type": "code",
        "outputId": "8c7cf4ac-3233-40a1-8d8b-dd2d2fa2f254",
        "colab": {
          "base_uri": "https://localhost:8080/",
          "height": 36
        }
      },
      "source": [
        "model_name = 'VGG19Drop9Epoch50Size224_224.h5'\n",
        "save_dir = '/content/drive/My Drive/Colab Notebooks'\n",
        "# Save model and weights\n",
        "if not os.path.isdir(save_dir):\n",
        "    os.makedirs(save_dir)\n",
        "model_path = os.path.join(save_dir, model_name)\n",
        "model.save(model_path)\n",
        "print('Saved trained model at %s ' % model_path)"
      ],
      "execution_count": 0,
      "outputs": [
        {
          "output_type": "stream",
          "text": [
            "Saved trained model at /content/drive/My Drive/Colab Notebooks/VGG19Drop9Epoch50Size224_224.h5 \n"
          ],
          "name": "stdout"
        }
      ]
    }
  ]
}